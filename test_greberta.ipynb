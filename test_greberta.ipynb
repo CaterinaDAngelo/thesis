{
 "cells": [
  {
   "cell_type": "code",
   "execution_count": 1,
   "metadata": {},
   "outputs": [],
   "source": [
    "import os\n",
    "os.environ['CUDA_VISIBLE_DEVICES'] = '3'"
   ]
  },
  {
   "cell_type": "code",
   "execution_count": 5,
   "metadata": {},
   "outputs": [
    {
     "data": {
      "application/vnd.jupyter.widget-view+json": {
       "model_id": "495f59f3e2df4b718c8cc44ed2c3dac8",
       "version_major": 2,
       "version_minor": 0
      },
      "text/plain": [
       "tokenizer_config.json:   0%|          | 0.00/1.37k [00:00<?, ?B/s]"
      ]
     },
     "metadata": {},
     "output_type": "display_data"
    },
    {
     "name": "stderr",
     "output_type": "stream",
     "text": [
      "c:\\Users\\cate9\\AppData\\Local\\Programs\\Python\\Python311\\Lib\\site-packages\\huggingface_hub\\file_download.py:149: UserWarning: `huggingface_hub` cache-system uses symlinks by default to efficiently store duplicated files but your machine does not support them in C:\\Users\\cate9\\.cache\\huggingface\\hub\\models--bowphs--GreBerta. Caching files will still work but in a degraded version that might require more space on your disk. This warning can be disabled by setting the `HF_HUB_DISABLE_SYMLINKS_WARNING` environment variable. For more details, see https://huggingface.co/docs/huggingface_hub/how-to-cache#limitations.\n",
      "To support symlinks on Windows, you either need to activate Developer Mode or to run Python as an administrator. In order to see activate developer mode, see this article: https://docs.microsoft.com/en-us/windows/apps/get-started/enable-your-device-for-development\n",
      "  warnings.warn(message)\n"
     ]
    },
    {
     "data": {
      "application/vnd.jupyter.widget-view+json": {
       "model_id": "57d042451c3546e38d36d099856967c4",
       "version_major": 2,
       "version_minor": 0
      },
      "text/plain": [
       "vocab.json:   0%|          | 0.00/1.69M [00:00<?, ?B/s]"
      ]
     },
     "metadata": {},
     "output_type": "display_data"
    },
    {
     "data": {
      "application/vnd.jupyter.widget-view+json": {
       "model_id": "b23cbd29036a4e8e8896f28040e459f4",
       "version_major": 2,
       "version_minor": 0
      },
      "text/plain": [
       "merges.txt:   0%|          | 0.00/1.34M [00:00<?, ?B/s]"
      ]
     },
     "metadata": {},
     "output_type": "display_data"
    },
    {
     "data": {
      "application/vnd.jupyter.widget-view+json": {
       "model_id": "4bac4087f3854414898447f4baf27d79",
       "version_major": 2,
       "version_minor": 0
      },
      "text/plain": [
       "tokenizer.json:   0%|          | 0.00/3.91M [00:00<?, ?B/s]"
      ]
     },
     "metadata": {},
     "output_type": "display_data"
    },
    {
     "data": {
      "application/vnd.jupyter.widget-view+json": {
       "model_id": "d6d7357dc2e64cc99b60c52c8659c88c",
       "version_major": 2,
       "version_minor": 0
      },
      "text/plain": [
       "special_tokens_map.json:   0%|          | 0.00/957 [00:00<?, ?B/s]"
      ]
     },
     "metadata": {},
     "output_type": "display_data"
    },
    {
     "data": {
      "application/vnd.jupyter.widget-view+json": {
       "model_id": "9100cc0965ad46a4adb12ea179d85a94",
       "version_major": 2,
       "version_minor": 0
      },
      "text/plain": [
       "config.json:   0%|          | 0.00/675 [00:00<?, ?B/s]"
      ]
     },
     "metadata": {},
     "output_type": "display_data"
    },
    {
     "data": {
      "application/vnd.jupyter.widget-view+json": {
       "model_id": "6b6d2fbe25dd484f9886c5e4a4f5c170",
       "version_major": 2,
       "version_minor": 0
      },
      "text/plain": [
       "pytorch_model.bin:   0%|          | 0.00/504M [00:00<?, ?B/s]"
      ]
     },
     "metadata": {},
     "output_type": "display_data"
    }
   ],
   "source": [
    "from transformers import AutoTokenizer, AutoModelForMaskedLM\n",
    "tokenizer = AutoTokenizer.from_pretrained('bowphs/GreBerta')\n",
    "model = AutoModelForMaskedLM.from_pretrained('bowphs/GreBerta', output_hidden_states = True)"
   ]
  },
  {
   "cell_type": "code",
   "execution_count": 6,
   "metadata": {},
   "outputs": [
    {
     "data": {
      "text/plain": [
       "RobertaForMaskedLM(\n",
       "  (roberta): RobertaModel(\n",
       "    (embeddings): RobertaEmbeddings(\n",
       "      (word_embeddings): Embedding(52000, 768, padding_idx=1)\n",
       "      (position_embeddings): Embedding(514, 768, padding_idx=1)\n",
       "      (token_type_embeddings): Embedding(1, 768)\n",
       "      (LayerNorm): LayerNorm((768,), eps=1e-12, elementwise_affine=True)\n",
       "      (dropout): Dropout(p=0.1, inplace=False)\n",
       "    )\n",
       "    (encoder): RobertaEncoder(\n",
       "      (layer): ModuleList(\n",
       "        (0-11): 12 x RobertaLayer(\n",
       "          (attention): RobertaAttention(\n",
       "            (self): RobertaSelfAttention(\n",
       "              (query): Linear(in_features=768, out_features=768, bias=True)\n",
       "              (key): Linear(in_features=768, out_features=768, bias=True)\n",
       "              (value): Linear(in_features=768, out_features=768, bias=True)\n",
       "              (dropout): Dropout(p=0.1, inplace=False)\n",
       "            )\n",
       "            (output): RobertaSelfOutput(\n",
       "              (dense): Linear(in_features=768, out_features=768, bias=True)\n",
       "              (LayerNorm): LayerNorm((768,), eps=1e-12, elementwise_affine=True)\n",
       "              (dropout): Dropout(p=0.1, inplace=False)\n",
       "            )\n",
       "          )\n",
       "          (intermediate): RobertaIntermediate(\n",
       "            (dense): Linear(in_features=768, out_features=3072, bias=True)\n",
       "            (intermediate_act_fn): GELUActivation()\n",
       "          )\n",
       "          (output): RobertaOutput(\n",
       "            (dense): Linear(in_features=3072, out_features=768, bias=True)\n",
       "            (LayerNorm): LayerNorm((768,), eps=1e-12, elementwise_affine=True)\n",
       "            (dropout): Dropout(p=0.1, inplace=False)\n",
       "          )\n",
       "        )\n",
       "      )\n",
       "    )\n",
       "  )\n",
       "  (lm_head): RobertaLMHead(\n",
       "    (dense): Linear(in_features=768, out_features=768, bias=True)\n",
       "    (layer_norm): LayerNorm((768,), eps=1e-12, elementwise_affine=True)\n",
       "    (decoder): Linear(in_features=768, out_features=52000, bias=True)\n",
       "  )\n",
       ")"
      ]
     },
     "execution_count": 6,
     "metadata": {},
     "output_type": "execute_result"
    }
   ],
   "source": [
    "model.eval()"
   ]
  },
  {
   "cell_type": "code",
   "execution_count": 1,
   "metadata": {},
   "outputs": [
    {
     "name": "stderr",
     "output_type": "stream",
     "text": [
      "c:\\Users\\cate9\\AppData\\Local\\Programs\\Python\\Python311\\Lib\\site-packages\\transformers\\utils\\generic.py:441: UserWarning: torch.utils._pytree._register_pytree_node is deprecated. Please use torch.utils._pytree.register_pytree_node instead.\n",
      "  _torch_pytree._register_pytree_node(\n",
      "c:\\Users\\cate9\\AppData\\Local\\Programs\\Python\\Python311\\Lib\\site-packages\\transformers\\utils\\generic.py:309: UserWarning: torch.utils._pytree._register_pytree_node is deprecated. Please use torch.utils._pytree.register_pytree_node instead.\n",
      "  _torch_pytree._register_pytree_node(\n"
     ]
    },
    {
     "name": "stdout",
     "output_type": "stream",
     "text": [
      "‎𐤀 CLTK version '1.3.0'. When using the CLTK in research, please cite: https://aclanthology.org/2021.acl-demo.3/\n",
      "\n",
      "Pipeline for language 'Ancient Greek' (ISO: 'grc'): `GreekNormalizeProcess`, `GreekSpacyProcess`, `GreekEmbeddingsProcess`, `StopsProcess`.\n",
      "\n",
      "⸖ ``GreekSpacyProcess`` using OdyCy model by Center for Humanities Computing Aarhus from https://huggingface.co/chcaa . Please cite: https://aclanthology.org/2023.latechclfl-1.14\n",
      "⸖ ``LatinEmbeddingsProcess`` using word2vec model by University of Oslo from http://vectors.nlpl.eu/ . Please cite: https://aclanthology.org/W17-0237/\n",
      "\n",
      "⸎ To suppress these messages, instantiate ``NLP()`` with ``suppress_banner=True``.\n"
     ]
    }
   ],
   "source": [
    "from my_functions_improved import *"
   ]
  },
  {
   "cell_type": "code",
   "execution_count": 5,
   "metadata": {},
   "outputs": [],
   "source": [
    "original = [ \n",
    "    \"ἑξῆς δ᾽ ἑζόμενοι πολιὴν ἅλα τύπτον ἐρετμοῖς\",\n",
    "    \"ἂν δὲ καὶ αὐτοὶ βάντες ἐπὶ κληῖσι καθῖζον\",\n",
    "    \"νῆα μὲν οἵ γε μέλαιναν ἁλὸς βένθοσδε ἔρυσσαν\",\n",
    "    \"τοὶ δὲ πρυμνησια ἔλυσαν\"\n",
    "\n",
    "]\n",
    "paraphrased = [\n",
    "    \"ἑξῆς δὲ καθεζομενοι πολιὴν ἅλα τύπτον ἐρετμοῖς\",\n",
    "    \"οἱ δ᾽ αἶψ᾽ εἴσβαινον καὶ ἐπὶ κληῖσι καθῖζον\",\n",
    "    \"νῆα μὲν οὖν πάμπρωτον ἁλὸς βένθοσδε ἔρυσσαν\",\n",
    "    \"τε πρυμνήσια λῦσαι\"\n",
    "]\n",
    "confound = [\n",
    "   \"ἑξῆς δ᾽ ἑζόμενοι πολιὴν ἅλα καθῖζον ἐρετμοῖς\",\n",
    "    \"ἂν δὲ καὶ αὐτοὶ βάντες ἐπὶ κληῖσι τύπτον\",\n",
    "    \"νῆα μὲν οἵ γε μέλαιναν ἁλὸς βένθοσδε ελυσαν\",\n",
    "    \"τοι δε πρυμνησια ἔρυσσαν\"\n",
    "]"
   ]
  },
  {
   "cell_type": "code",
   "execution_count": 6,
   "metadata": {},
   "outputs": [
    {
     "name": "stderr",
     "output_type": "stream",
     "text": [
      "Asking to truncate to max_length but no maximum length is provided and the model has no predefined maximum length. Default to no truncation.\n"
     ]
    }
   ],
   "source": [
    "original_emb_dict = mean_cls_embeddings(original, model = model, tokenizer = tokenizer)\n",
    "paraphrased_emb_dict = mean_cls_embeddings(paraphrased, model = model, tokenizer = tokenizer)\n",
    "confound_emb_dict = mean_cls_embeddings(confound, model = model, tokenizer = tokenizer)"
   ]
  },
  {
   "cell_type": "code",
   "execution_count": 7,
   "metadata": {},
   "outputs": [
    {
     "name": "stdout",
     "output_type": "stream",
     "text": [
      "T-statistic between original-paraphrased and original-original: [4.452574], P-value: [0.00431722]\n",
      "T-statistic between original-confound and original_original: [3.1822484], P-value: [0.01902173]\n",
      "T-statistic between original-paraphrased and original-confound: [-0.07555748], P-value: [0.9422275]\n"
     ]
    },
    {
     "data": {
      "text/plain": [
       "{'originalvsparaphrased': {'average': 0.8219143, 'variance': 0.013188649},\n",
       " 'originalvsconfound': {'average': 0.8307904, 'variance': 0.028212208},\n",
       " 'originalvsoriginal': {'average': 0.51782817, 'variance': 0.000803753}}"
      ]
     },
     "execution_count": 7,
     "metadata": {},
     "output_type": "execute_result"
    }
   ],
   "source": [
    "report_similarity(original_emb_dict, paraphrased_emb_dict, confound_emb_dict, method = \"cls\")"
   ]
  },
  {
   "cell_type": "code",
   "execution_count": 8,
   "metadata": {},
   "outputs": [
    {
     "name": "stdout",
     "output_type": "stream",
     "text": [
      "T-statistic between original-paraphrased and original-original: [3.6643486], P-value: [0.0105248]\n",
      "T-statistic between original-confound and original_original: [2.8766272], P-value: [0.02818173]\n",
      "T-statistic between original-paraphrased and original-confound: [-0.22001125], P-value: [0.833157]\n"
     ]
    },
    {
     "data": {
      "text/plain": [
       "{'originalvsparaphrased': {'average': 0.87635005, 'variance': 0.0068261353},\n",
       " 'originalvsconfound': {'average': 0.894593, 'variance': 0.0138001945},\n",
       " 'originalvsoriginal': {'average': 0.6969019, 'variance': 0.0003684468}}"
      ]
     },
     "execution_count": 8,
     "metadata": {},
     "output_type": "execute_result"
    }
   ],
   "source": [
    "report_similarity(original_emb_dict, paraphrased_emb_dict, confound_emb_dict, method = \"mean\")"
   ]
  },
  {
   "cell_type": "code",
   "execution_count": 4,
   "metadata": {},
   "outputs": [],
   "source": [
    "strings = [\"ἂν δὲ καὶ αὐτοὶ βάντες ἐπὶ κληῖσι καθῖζον\", \"ἑξῆς δ᾽ ἑζόμενοι πολιὴν ἅλα τύπτον ἐρετμοῖς\", \"ἔνθεν δὲ προτέρω πλέομεν ἀκαχήμενοι ἦτορ\", \"ἄσμενοι ἐκ θανάτοιο, φίλους ὀλέσαντες ἑταίρους\", \"νῆα μὲν οἵ γε μέλαιναν ἁλὸς βένθοσδε ἔρυσσαν\", \"τοὶ δὲ πρυμνήσι᾽ ἔλυσαν\"]"
   ]
  },
  {
   "cell_type": "code",
   "execution_count": 12,
   "metadata": {},
   "outputs": [
    {
     "name": "stdout",
     "output_type": "stream",
     "text": [
      "['ἄν', 'δέ', 'καί', 'αὐτός', 'βαίνω', 'ἐπί', 'κλείς', 'καθίζω']\n",
      "['ἑξῆς', 'δ᾽', 'ἕζομαι', 'πολιός', 'ἅλας', 'τύπτω', 'ἐρετμόν']\n",
      "['ἔνθεν', 'δέ', 'προτέρω', 'πλέω', 'ἀχεύω', 'ἦτορ']\n",
      "['ἄσμενος', 'ἐκ', 'θάνατος', ',', 'φίλος', 'ὄλλυμι', 'ἑταῖρος']\n",
      "['ναῦς', 'μέν', 'ὅς', 'γε', 'μέλας', 'ἅλς', 'βένθος', 'ἐρύω']\n",
      "['σύ', 'δέ', 'πρυμνήσι᾽', 'λύω']\n"
     ]
    }
   ],
   "source": [
    "syns = []\n",
    "for text in strings:\n",
    "\n",
    "    syn = get_synonims(text, lemmatization=\"grecy\")\n",
    "    syns.append(syn)"
   ]
  },
  {
   "cell_type": "code",
   "execution_count": 13,
   "metadata": {},
   "outputs": [
    {
     "data": {
      "text/plain": [
       "[{'βαίνω': ('v', ['πατέω', 'ἕρπω', 'στείχω', 'διαβαίνω']),\n",
       "  'καθίζω': ('v',\n",
       "   ['συγκαλέω',\n",
       "    'συνάγω',\n",
       "    'προτίθημι',\n",
       "    'χῶρος',\n",
       "    'κατατίθημι',\n",
       "    'ἵζω',\n",
       "    'τίθημι',\n",
       "    'ἀγών',\n",
       "    'πέμπω',\n",
       "    'ὑφίστημι',\n",
       "    'θεσμός',\n",
       "    'ἰάλλω',\n",
       "    'καθίστημι',\n",
       "    'ἰάπτω',\n",
       "    'ὑπομιμνήσκω',\n",
       "    'καταδύω',\n",
       "    'ἐπικλίνω',\n",
       "    'ὑποστόρνυμι',\n",
       "    'λέγω',\n",
       "    'στηρίζω',\n",
       "    'εὐνάζω',\n",
       "    'οἴμη',\n",
       "    'εὐνάω',\n",
       "    'μιμνήσκω',\n",
       "    'ὑποβάλλω',\n",
       "    'ἐφίστημι',\n",
       "    'ἐπιτίθημι',\n",
       "    'ἐπιφέρω',\n",
       "    'ἱζάνω',\n",
       "    'προκαθίζω',\n",
       "    'καθιζάνω',\n",
       "    'θάσσω',\n",
       "    'ἕζομαι',\n",
       "    'θαάσσω',\n",
       "    'ὀχέω',\n",
       "    'κελητίζω',\n",
       "    'ἐπιτρέπω'])},\n",
       " {'ἕζομαι': ('v',\n",
       "   ['ἱζάνω',\n",
       "    'προκαθίζω',\n",
       "    'καθιζάνω',\n",
       "    'θάσσω',\n",
       "    'ἵζω',\n",
       "    'καθίζω',\n",
       "    'θαάσσω',\n",
       "    'ὀχέω',\n",
       "    'κελητίζω']),\n",
       "  'ἅλας': ('n', ['ἅλς', 'ἁλμυρός']),\n",
       "  'τύπτω': ('v',\n",
       "   ['τείρω',\n",
       "    'πατάσσω',\n",
       "    'κατατρύχω',\n",
       "    'ἱμάσσω',\n",
       "    'ἀλαπάζω',\n",
       "    'τρύχω',\n",
       "    'θρυλίσσω',\n",
       "    'ἀμαλδύνω',\n",
       "    'λοπός',\n",
       "    'χαλέπτω',\n",
       "    'θλάω',\n",
       "    'νικάω',\n",
       "    'θείνω',\n",
       "    'τυγχάνω',\n",
       "    'κιχάνω',\n",
       "    'κυρέω',\n",
       "    'κόπτω',\n",
       "    'ἐκπατάσσω',\n",
       "    'πλήσσω',\n",
       "    'βάλλω',\n",
       "    'οὐτάω',\n",
       "    'ἐπιπλήσσω',\n",
       "    'παίω',\n",
       "    'προσβάλλω',\n",
       "    'ὁρμάω',\n",
       "    'ἐποτρύνω',\n",
       "    'ὀρίνω',\n",
       "    'κινέω',\n",
       "    'στείχω',\n",
       "    'ὀχλέω',\n",
       "    'ἰαίνω',\n",
       "    'ἀράσσω',\n",
       "    'ἀλέω',\n",
       "    'τῆ',\n",
       "    'δέχομαι',\n",
       "    'αἴρω',\n",
       "    'ἀγρέω',\n",
       "    'ἀναδέχομαι',\n",
       "    'λαμβάνω',\n",
       "    'ἀναιρέω',\n",
       "    'ζωγρέω',\n",
       "    'ἐξικνέομαι',\n",
       "    'δήω',\n",
       "    'ἱκνέομαι',\n",
       "    'ἱκάνω',\n",
       "    'ἀφικνέομαι',\n",
       "    'τέτμον',\n",
       "    'καθικνέομαι',\n",
       "    'εἰσαφικνέομαι',\n",
       "    'ὀρέγω',\n",
       "    'κέρδος',\n",
       "    'κτάομαι',\n",
       "    'ὁπλίζω',\n",
       "    'τεκταίνομαι',\n",
       "    'σμύχω',\n",
       "    'ποιέω',\n",
       "    'προσβαίνω',\n",
       "    'ἀφήκω',\n",
       "    'τεύχω',\n",
       "    'βιώσκομαι',\n",
       "    'ἑτοιμάζω',\n",
       "    'κτεατίζω',\n",
       "    'ἀφικάνω',\n",
       "    'ἄρνυμαι',\n",
       "    'ἀποπέμπω',\n",
       "    'ἀποναίω',\n",
       "    'ἀμφουδίς',\n",
       "    'ἀποκτείνω',\n",
       "    'στέλλω',\n",
       "    'ἐξεναρίζω',\n",
       "    'σφάζω',\n",
       "    'φόνος',\n",
       "    'ἐναίρω',\n",
       "    'κατέπεφνον',\n",
       "    'παρατρέπω',\n",
       "    'ἀφίστημι',\n",
       "    'ἀπόλλυμι',\n",
       "    'μετανίστημι',\n",
       "    'κατακτείνω',\n",
       "    'δαΐζω',\n",
       "    'κατεναίρομαι',\n",
       "    'κτείνω',\n",
       "    'ἀποκινέω',\n",
       "    'φονή']),\n",
       "  'ἐρετμόν': ('n', ['κώπη'])},\n",
       " {'ἔνθεν': ('r',\n",
       "   ['ἔπειτα',\n",
       "    'ὧδε',\n",
       "    'τῷ',\n",
       "    'τώς',\n",
       "    'οὖν',\n",
       "    'καί',\n",
       "    'ἔνθα',\n",
       "    'ἄρα',\n",
       "    'τῆμος',\n",
       "    'οὕτως',\n",
       "    'ὡς',\n",
       "    'τότε']),\n",
       "  'πλέω': ('v', ['ἱστίον', 'πλόος', 'ὀχέω', 'σπεῖρον']),\n",
       "  'ἦτορ': ('n',\n",
       "   ['καρδία',\n",
       "    'θυμός',\n",
       "    'κῆρ',\n",
       "    'κόλπος',\n",
       "    'ἐδητύς',\n",
       "    'περίειμι',\n",
       "    'ἐδωδή',\n",
       "    'βρῶσις',\n",
       "    'μέτειμι',\n",
       "    'μυελός',\n",
       "    'ἄπειμι',\n",
       "    'ἔξειμι',\n",
       "    'ἔνειμι',\n",
       "    'ζωή',\n",
       "    'βίοτος',\n",
       "    'χρή',\n",
       "    'πάρειμι',\n",
       "    'ὕπειμι',\n",
       "    'σύνειμι',\n",
       "    'ἔπειμι',\n",
       "    'κρέας',\n",
       "    'τέλος',\n",
       "    'πεῖσις',\n",
       "    'φιλότης',\n",
       "    'ὤψ',\n",
       "    'ὀφθαλμός',\n",
       "    'ὄμμα',\n",
       "    'μέσος',\n",
       "    'ὄψ',\n",
       "    'μεσήεις'])},\n",
       " {'ἄσμενος': ('a', ['ἀσπάσιος', 'γηθόσυνος']),\n",
       "  'θάνατος': ('n',\n",
       "   ['μόρος',\n",
       "    'λοιγός',\n",
       "    'ὄλεθρος',\n",
       "    'πότμος',\n",
       "    'λοῖσθος',\n",
       "    'νέατος',\n",
       "    'ὕστερος',\n",
       "    'πύματος']),\n",
       "  'φίλος': ('n',\n",
       "   ['κήδιστος',\n",
       "    'ἔρως',\n",
       "    'πέπων',\n",
       "    'μέλι',\n",
       "    'φιλέω',\n",
       "    'κήδειος',\n",
       "    'ἀγαπητός',\n",
       "    'θυμηδής',\n",
       "    'ἔρος',\n",
       "    'θυμαρής',\n",
       "    'ἀγαπάω',\n",
       "    'φιλότης',\n",
       "    'ἵμερος',\n",
       "    'ἠθεῖος',\n",
       "    'ἐράω']),\n",
       "  'ὄλλυμι': ('v',\n",
       "   ['ὁδεύω',\n",
       "    'φθινύθω',\n",
       "    'εἶμι',\n",
       "    'παρεξελαύνω',\n",
       "    'κάτειμι',\n",
       "    'ἐξέρχομαι',\n",
       "    'ἀποφθινύθω',\n",
       "    'προβλώσκω',\n",
       "    'οἰχνέω',\n",
       "    'ἀμείβω',\n",
       "    'καταφθίω',\n",
       "    'προσστείχω',\n",
       "    'πάρειμι',\n",
       "    'στείχω',\n",
       "    'ἀπόλλυμι',\n",
       "    'καταβαίνω',\n",
       "    'περιτέλλομαι',\n",
       "    'ἀποφθίνω',\n",
       "    'ἄγχω',\n",
       "    'διείρω',\n",
       "    'φοιτάω',\n",
       "    'ὑπέρχομαι',\n",
       "    'ἔρχομαι',\n",
       "    'κίω',\n",
       "    'βλώσκω',\n",
       "    'διαρραίω',\n",
       "    'ὀλέκω',\n",
       "    'κεραΐζω',\n",
       "    'φθείρω',\n",
       "    'πορθέω',\n",
       "    'πέρθω',\n",
       "    'καταλύω',\n",
       "    'λοιγός',\n",
       "    'σιφλόω',\n",
       "    'ὄλεθρος',\n",
       "    'ἀρή',\n",
       "    'δέω',\n",
       "    'ἀβροτάζω',\n",
       "    'δεύω',\n",
       "    'ἁμαρτάνω',\n",
       "    'ἀφαμαρτάνω']),\n",
       "  'ἑταῖρος': ('n',\n",
       "   ['κασίγνητος',\n",
       "    'ὀπάων',\n",
       "    'δαήρ',\n",
       "    'ἑταίρα',\n",
       "    'γνώριμος',\n",
       "    'συνίστημι',\n",
       "    'ἠθεῖος'])},\n",
       " {'μέλας': ('a',\n",
       "   ['δαφοινεός',\n",
       "    'πορφύρεος',\n",
       "    'ἐρεμνός',\n",
       "    'κελαινός',\n",
       "    'δνοφερός',\n",
       "    'σκότιος',\n",
       "    'ἰόεις',\n",
       "    'ἐρεβεννός',\n",
       "    'ἠεροειδής',\n",
       "    'μόρφνος',\n",
       "    'κυάνεος',\n",
       "    'ἀμαυρός',\n",
       "    'ὀρφναῖος',\n",
       "    'ἐπισμυγερός',\n",
       "    'βλοσυρός',\n",
       "    'ἠερόεις',\n",
       "    'λυπρός',\n",
       "    'αἰνός',\n",
       "    'ζάκοτος']),\n",
       "  'ἅλς': ('n', ['ἁλμυρός', 'πόντος', 'θάλασσα', 'πέλαγος']),\n",
       "  'βένθος': ('n', ['λαῖτμα']),\n",
       "  'ἐρύω': ('v',\n",
       "   ['ἐνέπω',\n",
       "    'ἐξέλκω',\n",
       "    'ἕλκω',\n",
       "    'κατερύω',\n",
       "    'ἀφύσσω',\n",
       "    'σπάω',\n",
       "    'τιταίνω',\n",
       "    'ἀμάω',\n",
       "    'ὑδρεύω',\n",
       "    'βιάζω',\n",
       "    'κῖκυς',\n",
       "    'ἴς',\n",
       "    'ὠθέω',\n",
       "    'βία',\n",
       "    'ἀνάγκη',\n",
       "    'ἐρωή',\n",
       "    'μένος',\n",
       "    'ἐφέλκω',\n",
       "    'ἑλκέω',\n",
       "    'χανδάνω',\n",
       "    'αἴρω',\n",
       "    'ἀναδέχομαι',\n",
       "    'ἀναιρέω',\n",
       "    'στάθμη',\n",
       "    'ἴχνος',\n",
       "    'στίξ',\n",
       "    'μήρινθος',\n",
       "    'ἐρευνάω',\n",
       "    'ἴχνιον',\n",
       "    'ἐκσπάω',\n",
       "    'ἐξαιρέω',\n",
       "    'ἄρνυμαι',\n",
       "    'ὑπείκω',\n",
       "    'διαφύσσω',\n",
       "    'ὑποχωρέω',\n",
       "    'λιάζομαι',\n",
       "    'χωρέω',\n",
       "    'ἀναχάζομαι',\n",
       "    'ὑπάγω',\n",
       "    'ὑπεξάγω',\n",
       "    'κορέω'])},\n",
       " {'λύω': ('v',\n",
       "   ['ἐκλύω', 'χαίτη', 'ἄποινα', 'ἀναλύω', 'μεθίημι', 'ἐλεύθερος'])}]"
      ]
     },
     "execution_count": 13,
     "metadata": {},
     "output_type": "execute_result"
    }
   ],
   "source": [
    "syns"
   ]
  },
  {
   "cell_type": "code",
   "execution_count": 14,
   "metadata": {},
   "outputs": [],
   "source": [
    "similarity_dicts = []\n",
    "for syn, sentence in zip(syns, strings):\n",
    "    sim_dic = dic_similarities(syn, sentence, w2v = False, model = model, tokenizer = tokenizer, lemmatization=\"grecy\")\n",
    "    similarity_dicts.append(sim_dic)"
   ]
  },
  {
   "cell_type": "code",
   "execution_count": 15,
   "metadata": {},
   "outputs": [
    {
     "name": "stdout",
     "output_type": "stream",
     "text": [
      "The best synonyms for βαίνω are:\n",
      "\tστείχω with a score of tensor([0.4157])\n",
      "\tπατέω with a score of tensor([0.4011])\n",
      "\tἕρπω with a score of tensor([0.3376])\n",
      "\tδιαβαίνω with a score of tensor([0.3180])\n",
      "The best synonyms for καθίζω are:\n",
      "\tσυνάγω with a score of tensor([0.6923])\n",
      "\tἐπιφέρω with a score of tensor([0.6477])\n",
      "\tἰάλλω with a score of tensor([0.5656])\n",
      "\tἵζω with a score of tensor([0.4998])\n",
      "\tκατατίθημι with a score of tensor([0.4730])\n",
      "\tστηρίζω with a score of tensor([0.4374])\n",
      "\tἐπικλίνω with a score of tensor([0.4354])\n",
      "\tὑποβάλλω with a score of tensor([0.4312])\n",
      "\tμιμνήσκω with a score of tensor([0.4250])\n",
      "\tσυγκαλέω with a score of tensor([0.4148])\n",
      "\tκαθίστημι with a score of tensor([0.4135])\n",
      "\tἕζομαι with a score of tensor([0.3972])\n",
      "\tκαταδύω with a score of tensor([0.3968])\n",
      "\tτίθημι with a score of tensor([0.3743])\n",
      "\tκελητίζω with a score of tensor([0.3728])\n",
      "\tθαάσσω with a score of tensor([0.3657])\n",
      "\tἱζάνω with a score of tensor([0.3641])\n",
      "\tεὐνάω with a score of tensor([0.3557])\n",
      "\tὑφίστημι with a score of tensor([0.3541])\n",
      "\tὑπομιμνήσκω with a score of tensor([0.3539])\n",
      "The best synonyms for ἕζομαι are:\n",
      "\tἱζάνω with a score of tensor([0.4227])\n",
      "\tκαθίζω with a score of tensor([0.3747])\n",
      "\tἵζω with a score of tensor([0.3544])\n",
      "\tθαάσσω with a score of tensor([0.3239])\n",
      "\tπροκαθίζω with a score of tensor([0.3107])\n",
      "\tὀχέω with a score of tensor([0.2956])\n",
      "\tκελητίζω with a score of tensor([0.2889])\n",
      "\tκαθιζάνω with a score of tensor([0.2819])\n",
      "\tθάσσω with a score of tensor([0.2671])\n",
      "The best synonyms for ἅλας are:\n",
      "\tἅλς with a score of tensor([0.3711])\n",
      "The best synonyms for τύπτω are:\n",
      "\tὁπλίζω with a score of tensor([0.4144])\n",
      "\tἀλέω with a score of tensor([0.4027])\n",
      "\tἀναιρέω with a score of tensor([0.3933])\n",
      "\tπροσβαίνω with a score of tensor([0.3890])\n",
      "\tἀποκτείνω with a score of tensor([0.3842])\n",
      "\tἀλαπάζω with a score of tensor([0.3789])\n",
      "\tδήω with a score of tensor([0.3754])\n",
      "\tσφάζω with a score of tensor([0.3747])\n",
      "\tπατάσσω with a score of tensor([0.3704])\n",
      "\tεἰσαφικνέομαι with a score of tensor([0.3679])\n",
      "\tἱκάνω with a score of tensor([0.3651])\n",
      "\tἀφικάνω with a score of tensor([0.3637])\n",
      "\tἐξικνέομαι with a score of tensor([0.3636])\n",
      "\tαἴρω with a score of tensor([0.3581])\n",
      "\tτέτμον with a score of tensor([0.3577])\n",
      "\tλαμβάνω with a score of tensor([0.3575])\n",
      "\tἀμαλδύνω with a score of tensor([0.3570])\n",
      "\tοὐτάω with a score of tensor([0.3554])\n",
      "\tστείχω with a score of tensor([0.3542])\n",
      "\tἀφικνέομαι with a score of tensor([0.3539])\n",
      "The best synonyms for ἐρετμόν are:\n",
      "\tκώπη with a score of tensor([0.3969])\n",
      "The best synonyms for ἔνθεν are:\n",
      "The best synonyms for πλέω are:\n",
      "\tὀχέω with a score of tensor([0.4766])\n",
      "The best synonyms for ἦτορ are:\n",
      "\tὄψ with a score of tensor([0.4105])\n",
      "\tκόλπος with a score of tensor([0.3948])\n",
      "\tκρέας with a score of tensor([0.3775])\n",
      "\tβίοτος with a score of tensor([0.3600])\n",
      "\tμυελός with a score of tensor([0.3260])\n",
      "\tτέλος with a score of tensor([0.3226])\n",
      "\tὤψ with a score of tensor([0.3131])\n",
      "\tζωή with a score of tensor([0.3038])\n",
      "\tἐδωδή with a score of tensor([0.2999])\n",
      "\tκῆρ with a score of tensor([0.2973])\n",
      "\tθυμός with a score of tensor([0.2972])\n",
      "\tὀφθαλμός with a score of tensor([0.2827])\n",
      "\tκαρδία with a score of tensor([0.2818])\n",
      "\tὄμμα with a score of tensor([0.2759])\n",
      "\tβρῶσις with a score of tensor([0.2566])\n",
      "\tφιλότης with a score of tensor([0.2551])\n",
      "\tἐδητύς with a score of tensor([0.2279])\n",
      "\tπεῖσις with a score of tensor([0.2104])\n",
      "The best synonyms for ἄσμενος are:\n",
      "\tἀσπάσιος with a score of tensor([0.5281])\n",
      "\tγηθόσυνος with a score of tensor([0.2021])\n",
      "The best synonyms for θάνατος are:\n",
      "\tὄλεθρος with a score of tensor([0.3578])\n",
      "\tλοιγός with a score of tensor([0.2998])\n",
      "\tπότμος with a score of tensor([0.2973])\n",
      "\tμόρος with a score of tensor([0.2553])\n",
      "The best synonyms for φίλος are:\n",
      "\tφιλότης with a score of tensor([0.3830])\n",
      "\tἵμερος with a score of tensor([0.3255])\n",
      "\tἔρος with a score of tensor([0.3062])\n",
      "\tἔρως with a score of tensor([0.2756])\n",
      "\tμέλι with a score of tensor([0.2663])\n",
      "The best synonyms for ὄλλυμι are:\n",
      "\tοἰχνέω with a score of tensor([0.5763])\n",
      "\tπεριτέλλομαι with a score of tensor([0.4861])\n",
      "\tἀμείβω with a score of tensor([0.4213])\n",
      "\tὀλέκω with a score of tensor([0.4059])\n",
      "\tεἶμι with a score of tensor([0.3865])\n",
      "\tπορθέω with a score of tensor([0.3858])\n",
      "\tπάρειμι with a score of tensor([0.3840])\n",
      "\tἀπόλλυμι with a score of tensor([0.3797])\n",
      "\tκεραΐζω with a score of tensor([0.3786])\n",
      "\tἔρχομαι with a score of tensor([0.3715])\n",
      "\tἀποφθίνω with a score of tensor([0.3689])\n",
      "\tκαταλύω with a score of tensor([0.3688])\n",
      "\tκαταφθίω with a score of tensor([0.3684])\n",
      "\tἀφαμαρτάνω with a score of tensor([0.3683])\n",
      "\tἀποφθινύθω with a score of tensor([0.3680])\n",
      "\tκαταβαίνω with a score of tensor([0.3650])\n",
      "\tβλώσκω with a score of tensor([0.3629])\n",
      "\tκάτειμι with a score of tensor([0.3529])\n",
      "\tσιφλόω with a score of tensor([0.3496])\n",
      "\tὑπέρχομαι with a score of tensor([0.3477])\n",
      "The best synonyms for ἑταῖρος are:\n",
      "\tκασίγνητος with a score of tensor([0.3632])\n",
      "\tἑταίρα with a score of tensor([0.3211])\n",
      "\tὀπάων with a score of tensor([0.2905])\n",
      "\tδαήρ with a score of tensor([0.2646])\n",
      "The best synonyms for μέλας are:\n",
      "\tδνοφερός with a score of tensor([0.3870])\n",
      "\tκελαινός with a score of tensor([0.3030])\n",
      "\tἐρεμνός with a score of tensor([0.3025])\n",
      "\tδαφοινεός with a score of tensor([0.3023])\n",
      "\tἠερόεις with a score of tensor([0.2953])\n",
      "\tβλοσυρός with a score of tensor([0.2907])\n",
      "\tὀρφναῖος with a score of tensor([0.2851])\n",
      "\tπορφύρεος with a score of tensor([0.2810])\n",
      "\tἐρεβεννός with a score of tensor([0.2737])\n",
      "\tκυάνεος with a score of tensor([0.2720])\n",
      "\tλυπρός with a score of tensor([0.2668])\n",
      "\tζάκοτος with a score of tensor([0.2587])\n",
      "\tἰόεις with a score of tensor([0.2521])\n",
      "\tἠεροειδής with a score of tensor([0.2452])\n",
      "\tαἰνός with a score of tensor([0.2386])\n",
      "\tἀμαυρός with a score of tensor([0.2354])\n",
      "\tσκότιος with a score of tensor([0.1663])\n",
      "The best synonyms for ἅλς are:\n",
      "\tπόντος with a score of tensor([0.3423])\n",
      "\tθάλασσα with a score of tensor([0.2552])\n",
      "\tπέλαγος with a score of tensor([0.2282])\n",
      "The best synonyms for βένθος are:\n",
      "\tλαῖτμα with a score of tensor([0.4669])\n",
      "The best synonyms for ἐρύω are:\n",
      "\tδιαφύσσω with a score of tensor([0.5136])\n",
      "\tτιταίνω with a score of tensor([0.4556])\n",
      "\tὠθέω with a score of tensor([0.4482])\n",
      "\tἐνέπω with a score of tensor([0.4375])\n",
      "\tἕλκω with a score of tensor([0.4318])\n",
      "\tχωρέω with a score of tensor([0.4177])\n",
      "\tἀφύσσω with a score of tensor([0.4136])\n",
      "\tἐρευνάω with a score of tensor([0.3995])\n",
      "\tἑλκέω with a score of tensor([0.3971])\n",
      "\tἀμάω with a score of tensor([0.3938])\n",
      "\tὑπάγω with a score of tensor([0.3930])\n",
      "\tἀναδέχομαι with a score of tensor([0.3722])\n",
      "\tἐξαιρέω with a score of tensor([0.3719])\n",
      "\tἀναχάζομαι with a score of tensor([0.3687])\n",
      "\tκατερύω with a score of tensor([0.3573])\n",
      "\tὑπεξάγω with a score of tensor([0.3573])\n",
      "\tκορέω with a score of tensor([0.3571])\n",
      "\tαἴρω with a score of tensor([0.3401])\n",
      "\tὑδρεύω with a score of tensor([0.3364])\n",
      "\tὑπείκω with a score of tensor([0.3288])\n",
      "The best synonyms for λύω are:\n",
      "\tἀναλύω with a score of tensor([0.3527])\n",
      "\tμεθίημι with a score of tensor([0.3312])\n",
      "\tἐκλύω with a score of tensor([0.3212])\n"
     ]
    }
   ],
   "source": [
    "for sim_dic in similarity_dicts:\n",
    "    report_similarities(sim_dic)"
   ]
  },
  {
   "cell_type": "markdown",
   "metadata": {},
   "source": [
    "COSINE SIMILARITY AND T-TEST WITH NEW CONFOUNDERS"
   ]
  },
  {
   "cell_type": "code",
   "execution_count": 2,
   "metadata": {},
   "outputs": [],
   "source": [
    "original = [\n",
    "    \"ἂν δὲ καὶ αὐτοὶ βάντες ἐπὶ κληῖσι καθῖζον\", \n",
    "    \"ἑξῆς δ᾽ ἑζόμενοι πολιὴν ἅλα τύπτον ἐρετμοῖς\", \n",
    "    \"νῆα μὲν οἵ γε μέλαιναν ἁλὸς βένθοσδε ἔρυσσαν\", \n",
    "    \"τοὶ δὲ πρυμνήσι᾽ ἔλυσαν\"\n",
    "]\n",
    "paraphrased = [\n",
    "    \"οἱ δ᾽ αἶψ᾽ εἴσβαινον καὶ ἐπὶ κληῖσι καθῖζον\",\n",
    "    \"ἑξῆς δὲ καθεζομενοι πολιὴν ἅλα τύπτον ἐρετμοῖς\",\n",
    "    \"νῆα μὲν οὖν πάμπρωτον ἁλὸς βένθοσδε ἔρυσσαν\",\n",
    "    \"τε πρυμνήσια λῦσαι\"\n",
    "]\n",
    "confound = [\n",
    "    \"αὐτίκʼ ἔπειτʼ ἀνστάντες ἔβαν δόμον εἰς Ὀδυσῆος , ἐλθόντες δὲ καθῖζον ἐπὶ ξεστοῖσι θρόνοισιν .\",\n",
    "    \"ἂν δὲ καὶ αὐτοὶ βάντες ἐπὶ κληῖσι καθῖζον\",\n",
    "    \"τὼ δʼ ἀέκοντε βάτην παρὰ θῖνʼ ἁλὸς ἀτρυγέτοιο , Μυρμιδόνων δʼ ἐπί τε κλισίας καὶ νῆας ἱκέσθην , τὸν δʼ εὗρον παρά τε κλισίῃ καὶ νηῒ μελαίνῃ ἥμενον\",\n",
    "    \"ἀλλ᾽ ἄγε νῆα μέλαιναν ἐρύσσομεν εἰς ἅλα δῖαν\" \n",
    "]"
   ]
  },
  {
   "cell_type": "code",
   "execution_count": 7,
   "metadata": {},
   "outputs": [
    {
     "name": "stderr",
     "output_type": "stream",
     "text": [
      "Asking to truncate to max_length but no maximum length is provided and the model has no predefined maximum length. Default to no truncation.\n"
     ]
    }
   ],
   "source": [
    "original_emb_dict = mean_cls_embeddings(original, model = model, tokenizer = tokenizer)\n",
    "paraphrased_emb_dict = mean_cls_embeddings(paraphrased, model = model, tokenizer = tokenizer)\n",
    "confound_emb_dict = mean_cls_embeddings(confound, model = model, tokenizer = tokenizer)"
   ]
  },
  {
   "cell_type": "code",
   "execution_count": 8,
   "metadata": {},
   "outputs": [
    {
     "name": "stdout",
     "output_type": "stream",
     "text": [
      "T-statistic between original-paraphrased and original-original: [3.5635312], P-value: [0.01187645]\n",
      "T-statistic between original-confound and original_original: [-0.02357339], P-value: [0.9819573]\n",
      "T-statistic between original-paraphrased and original-confound: [2.9889283], P-value: [0.02435391]\n"
     ]
    },
    {
     "data": {
      "text/plain": [
       "{'originalvsparaphrased': {'average': 0.83022046, 'variance': 0.010611732},\n",
       " 'originalvsconfound': {'average': 0.5856319, 'variance': 0.009477462},\n",
       " 'originalvsoriginal': {'average': 0.587173, 'variance': 0.0033436716}}"
      ]
     },
     "execution_count": 8,
     "metadata": {},
     "output_type": "execute_result"
    }
   ],
   "source": [
    "report_similarity(original_emb_dict, paraphrased_emb_dict, confound_emb_dict, method = \"cls\")"
   ]
  },
  {
   "cell_type": "code",
   "execution_count": 9,
   "metadata": {},
   "outputs": [
    {
     "name": "stdout",
     "output_type": "stream",
     "text": [
      "T-statistic between original-paraphrased and original-original: [3.6115735], P-value: [0.01120978]\n",
      "T-statistic between original-confound and original_original: [0.40084344], P-value: [0.7024195]\n",
      "T-statistic between original-paraphrased and original-confound: [2.5374196], P-value: [0.04423461]\n"
     ]
    },
    {
     "data": {
      "text/plain": [
       "{'originalvsparaphrased': {'average': 0.88664746, 'variance': 0.0045615453},\n",
       " 'originalvsconfound': {'average': 0.75088954, 'variance': 0.0040259613},\n",
       " 'originalvsoriginal': {'average': 0.73492444, 'variance': 0.0007330329}}"
      ]
     },
     "execution_count": 9,
     "metadata": {},
     "output_type": "execute_result"
    }
   ],
   "source": [
    "report_similarity(original_emb_dict, paraphrased_emb_dict, confound_emb_dict, method = \"mean\")"
   ]
  }
 ],
 "metadata": {
  "kernelspec": {
   "display_name": ".env",
   "language": "python",
   "name": "python3"
  },
  "language_info": {
   "codemirror_mode": {
    "name": "ipython",
    "version": 3
   },
   "file_extension": ".py",
   "mimetype": "text/x-python",
   "name": "python",
   "nbconvert_exporter": "python",
   "pygments_lexer": "ipython3",
   "version": "3.11.5"
  }
 },
 "nbformat": 4,
 "nbformat_minor": 2
}
