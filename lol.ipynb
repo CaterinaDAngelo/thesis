{
 "cells": [
  {
   "cell_type": "code",
   "execution_count": 1,
   "metadata": {},
   "outputs": [
    {
     "name": "stderr",
     "output_type": "stream",
     "text": [
      "/mount/arbeitsdaten/tcl/Users/dangelo_thesis/thesis/.env/lib64/python3.9/site-packages/networkx/utils/backends.py:135: RuntimeWarning: networkx backend defined more than once: nx-loopback\n",
      "  backends.update(_get_backends(\"networkx.backends\"))\n",
      "/mount/arbeitsdaten/tcl/Users/dangelo_thesis/thesis/.env/lib64/python3.9/site-packages/tqdm/auto.py:21: TqdmWarning: IProgress not found. Please update jupyter and ipywidgets. See https://ipywidgets.readthedocs.io/en/stable/user_install.html\n",
      "  from .autonotebook import tqdm as notebook_tqdm\n"
     ]
    },
    {
     "name": "stdout",
     "output_type": "stream",
     "text": [
      "‎𐤀 CLTK version '1.2.3'. When using the CLTK in research, please cite: https://aclanthology.org/2021.acl-demo.3/\n",
      "\n",
      "Pipeline for language 'Ancient Greek' (ISO: 'grc'): `GreekNormalizeProcess`, `GreekStanzaProcess`, `GreekEmbeddingsProcess`, `StopsProcess`.\n",
      "\n",
      "⸖ ``LatinSpacyProcess`` using Stanza model by Stanford University from https://stanfordnlp.github.io/stanza/ . Please cite: https://arxiv.org/abs/2003.07082\n",
      "⸖ ``LatinEmbeddingsProcess`` using word2vec model by University of Oslo from http://vectors.nlpl.eu/ . Please cite: https://aclanthology.org/W17-0237/\n",
      "\n",
      "⸎ To suppress these messages, instantiate ``NLP()`` with ``suppress_banner=True``.\n"
     ]
    }
   ],
   "source": [
    "from my_functions import *"
   ]
  },
  {
   "cell_type": "code",
   "execution_count": 11,
   "metadata": {},
   "outputs": [],
   "source": [
    "import numpy"
   ]
  },
  {
   "cell_type": "code",
   "execution_count": 3,
   "metadata": {},
   "outputs": [
    {
     "name": "stdout",
     "output_type": "stream",
     "text": [
      "['/mount/arbeitsdaten33/projekte/tcl/Users/dangelo_thesis/thesis', '/usr/lib64/python39.zip', '/usr/lib64/python3.9', '/usr/lib64/python3.9/lib-dynload', '', '/mount/arbeitsdaten/tcl/Users/dangelo_thesis/thesis/.env/lib64/python3.9/site-packages', '/mount/arbeitsdaten/tcl/Users/dangelo_thesis/thesis/.env/lib/python3.9/site-packages']\n"
     ]
    }
   ],
   "source": [
    "import sys\n",
    "print(sys.path)"
   ]
  },
  {
   "cell_type": "code",
   "execution_count": 3,
   "metadata": {},
   "outputs": [],
   "source": [
    "import csv"
   ]
  },
  {
   "cell_type": "code",
   "execution_count": null,
   "metadata": {},
   "outputs": [],
   "source": [
    "with open(\"wn-data-grc.tab\", newline='', encoding='utf-8') as file:\n",
    "    reader = csv.reader(file, delimiter='\\t')\n",
    "\n",
    "    wordnet = {}\n",
    "\n",
    "    for row in reader:\n",
    "        if not row[0].startswith(\"#\"):\n",
    "            synset = row[0]\n",
    "            lemma = row[2]\n",
    "            if synset not in wordnet.keys():\n",
    "                wordnet[f\"{synset}\"] = []\n",
    "            wordnet[f\"{synset}\"].append(lemma)\n",
    "\n",
    "wordnet"
   ]
  },
  {
   "cell_type": "code",
   "execution_count": 10,
   "metadata": {},
   "outputs": [],
   "source": [
    "import pickle"
   ]
  },
  {
   "cell_type": "code",
   "execution_count": 37,
   "metadata": {},
   "outputs": [],
   "source": [
    "with open(\"sents_sim_dict.pickle\", \"rb\") as infile:\n",
    "    ssent_sim = pickle.load(infile)"
   ]
  },
  {
   "cell_type": "code",
   "execution_count": 38,
   "metadata": {},
   "outputs": [
    {
     "data": {
      "text/plain": [
       "[('πάγος', tensor([0.4448])),\n",
       " ('πάγος', tensor([0.4448])),\n",
       " ('πάγος', tensor([0.4448]))]"
      ]
     },
     "execution_count": 38,
     "metadata": {},
     "output_type": "execute_result"
    }
   ],
   "source": [
    "ssent_sim[\"sentence 1\"][\"ἅλας\"]"
   ]
  },
  {
   "cell_type": "code",
   "execution_count": 46,
   "metadata": {},
   "outputs": [],
   "source": [
    "def report_similarities(sents_sim):\n",
    "\n",
    "    \"\"\"\n",
    "    Function that prints for each word in each original sentence its best\n",
    "    synonym with the corresponding similarity score.\n",
    "    \"\"\"\n",
    "\n",
    "    for i in range(len(sents_sim)):\n",
    "\n",
    "        for lemma in sents_sim[f\"sentence {i}\"]:\n",
    "            synonyms = {}\n",
    "            # print(synonyms)\n",
    "            sorted_values = sorted(sents_sim[f\"sentence {i}\"][f\"{lemma}\"], key=lambda x: x[1], reverse=True)\n",
    "            print(f\"The best synonyms for {lemma} are:\")\n",
    "            for syn, value in sorted_values[:20]:\n",
    "                if syn in synonyms and synonyms[f\"{syn}\"] < value:\n",
    "                        synonyms[f\"{syn}\"] = value\n",
    "                        print(f\"\\t{syn} with a score of {value}\")\n",
    "                elif syn not in synonyms:\n",
    "                    synonyms[f\"{syn}\"] = value\n",
    "                    print(f\"\\t{syn} with a score of {value}\")\n",
    "                else:\n",
    "                    continue"
   ]
  },
  {
   "cell_type": "code",
   "execution_count": 47,
   "metadata": {},
   "outputs": [
    {
     "name": "stdout",
     "output_type": "stream",
     "text": [
      "The best synonyms for καθίζω are:\n",
      "\tκαθίζω with a score of tensor([0.8965])\n",
      "\tἀλέγω with a score of tensor([0.4803])\n",
      "\tἀναφαίνω with a score of tensor([0.4663])\n",
      "\tἀλείφω with a score of tensor([0.4655])\n",
      "The best synonyms for ἑξῆς are:\n",
      "\tἔνθεν with a score of tensor([0.7276])\n",
      "\tπᾶς with a score of tensor([0.6706])\n",
      "\tἀνά with a score of tensor([0.6098])\n",
      "\tἀμφίς with a score of tensor([0.2071])\n",
      "\tκαθάπαξ with a score of tensor([0.1573])\n",
      "\tἤ with a score of tensor([0.1403])\n",
      "\tκατά with a score of tensor([0.1211])\n",
      "\tπερίειμι with a score of tensor([0.1203])\n",
      "\tδῆθεν with a score of tensor([0.1121])\n",
      "\tἄχρι with a score of tensor([0.1100])\n",
      "\tἐκεῖθεν with a score of tensor([0.1008])\n",
      "The best synonyms for ἄζω are:\n",
      "\tἀναψύχω with a score of tensor([0.4963])\n",
      "\tἀνέλκω with a score of tensor([0.4201])\n",
      "\tἀδάκρυτος with a score of tensor([0.3392])\n",
      "The best synonyms for ἅλας are:\n",
      "\tπάγος with a score of tensor([0.4448])\n",
      "The best synonyms for ἐρετμός are:\n",
      "\tἔφοδος with a score of tensor([0.4076])\n",
      "\tἀνά with a score of tensor([0.3860])\n",
      "\tἀγών with a score of tensor([0.3798])\n",
      "\tἅλμα with a score of tensor([0.3017])\n",
      "The best synonyms for ἔνθεν are:\n",
      "\tἔνθεν with a score of tensor([0.9889])\n",
      "\tἔνθα with a score of tensor([0.7385])\n",
      "\tἄφαρ with a score of tensor([0.7365])\n",
      "\tὅπου with a score of tensor([0.5840])\n",
      "\tἄλλως with a score of tensor([0.5509])\n",
      "The best synonyms for πλέω are:\n",
      "\tἀναβαίνω with a score of tensor([0.4426])\n",
      "\tἀνάγω with a score of tensor([0.3888])\n",
      "\tπεριπλέω with a score of tensor([0.3401])\n",
      "\tἐπιπλέω with a score of tensor([0.3124])\n",
      "\tπλέω with a score of tensor([0.2966])\n",
      "\tπερίειμι with a score of tensor([0.2954])\n",
      "\tἀμείβω with a score of tensor([0.2411])\n",
      "The best synonyms for ἦτορ are:\n",
      "\tἦτορ with a score of tensor([0.9911])\n",
      "\tαἰγίς with a score of tensor([0.4174])\n",
      "\tκάρα with a score of tensor([0.4048])\n",
      "\tπόθος with a score of tensor([0.3839])\n",
      "The best synonyms for ἄσμενος are:\n",
      "\tγηθόσυνος with a score of tensor([0.6761])\n",
      "\tλαμπρός with a score of tensor([0.5856])\n",
      "\tλευκός with a score of tensor([0.5461])\n",
      "\tἀσπάσιος with a score of tensor([0.1957])\n",
      "\tἐρατεινός with a score of tensor([0.1460])\n",
      "\tἑκών with a score of tensor([0.1453])\n",
      "The best synonyms for φίλος are:\n",
      "\tἀγαπητός with a score of tensor([0.4358])\n",
      "\tφίλος with a score of tensor([0.3901])\n",
      "\tἀγαθός with a score of tensor([0.3540])\n",
      "\tξένιος with a score of tensor([0.3187])\n",
      "\tπροσφιλής with a score of tensor([0.3173])\n",
      "\tἀγχίμολος with a score of tensor([0.2167])\n",
      "\tἀνεξέλεγκτος with a score of tensor([0.2138])\n",
      "\tκαλός with a score of tensor([0.1309])\n",
      "The best synonyms for ἑταῖρος are:\n",
      "\tθεράπων with a score of tensor([0.4401])\n",
      "\tπαλλακίς with a score of tensor([0.4216])\n",
      "\tἀγέλη with a score of tensor([0.4195])\n",
      "\tπαρθένος with a score of tensor([0.4114])\n",
      "\tὀξύς with a score of tensor([0.3962])\n",
      "\tἀντί with a score of tensor([0.3944])\n",
      "\tἔχω with a score of tensor([0.3932])\n",
      "\tἱππότης with a score of tensor([0.3891])\n",
      "\tγυνή with a score of tensor([0.3854])\n",
      "\tἐπιχράω with a score of tensor([0.3735])\n",
      "The best synonyms for ναῦς are:\n",
      "\tἄμαξα with a score of tensor([0.1447])\n",
      "The best synonyms for ἅλς are:\n",
      "\tἅλς with a score of tensor([0.4046])\n",
      "\tθάλασσα with a score of tensor([0.3595])\n",
      "\tἅλιος with a score of tensor([0.3511])\n",
      "\tἈμφιτρίτη with a score of tensor([0.3320])\n",
      "The best synonyms for βένθος are:\n",
      "\tβένθος with a score of tensor([0.9615])\n",
      "\tἀδοξία with a score of tensor([0.2656])\n",
      "The best synonyms for λύω are:\n",
      "\tἀνέλκω with a score of tensor([0.4617])\n"
     ]
    }
   ],
   "source": [
    "report_similarities(ssent_sim)"
   ]
  }
 ],
 "metadata": {
  "kernelspec": {
   "display_name": ".venv",
   "language": "python",
   "name": "python3"
  },
  "language_info": {
   "codemirror_mode": {
    "name": "ipython",
    "version": 3
   },
   "file_extension": ".py",
   "mimetype": "text/x-python",
   "name": "python",
   "nbconvert_exporter": "python",
   "pygments_lexer": "ipython3",
   "version": "3.11.5"
  }
 },
 "nbformat": 4,
 "nbformat_minor": 2
}
