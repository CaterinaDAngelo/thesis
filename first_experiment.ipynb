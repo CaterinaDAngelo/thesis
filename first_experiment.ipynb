{
 "cells": [
  {
   "cell_type": "code",
   "execution_count": 1,
   "metadata": {},
   "outputs": [
    {
     "name": "stdout",
     "output_type": "stream",
     "text": [
      "‎𐤀 CLTK version '1.2.1'. When using the CLTK in research, please cite: https://aclanthology.org/2021.acl-demo.3/\n",
      "\n",
      "Pipeline for language 'Ancient Greek' (ISO: 'grc'): `GreekNormalizeProcess`, `GreekStanzaProcess`, `GreekEmbeddingsProcess`, `StopsProcess`.\n",
      "\n",
      "⸖ ``LatinSpacyProcess`` using Stanza model by Stanford University from https://stanfordnlp.github.io/stanza/ . Please cite: https://arxiv.org/abs/2003.07082\n",
      "⸖ ``LatinEmbeddingsProcess`` using word2vec model by University of Oslo from http://vectors.nlpl.eu/ . Please cite: https://aclanthology.org/W17-0237/\n",
      "\n",
      "⸎ To suppress these messages, instantiate ``NLP()`` with ``suppress_banner=True``.\n"
     ]
    }
   ],
   "source": [
    "from my_functions import *"
   ]
  },
  {
   "cell_type": "code",
   "execution_count": 2,
   "metadata": {},
   "outputs": [],
   "source": [
    "model_base = \"cabrooks/LOGION-base\"\n",
    "model_50k = \"cabrooks/LOGION-50k_wordpiece\""
   ]
  },
  {
   "cell_type": "code",
   "execution_count": 3,
   "metadata": {},
   "outputs": [],
   "source": [
    "from transformers import BertTokenizer, BertForMaskedLM\n",
    "tokenizer = BertTokenizer.from_pretrained(model_base)\n",
    "model = BertForMaskedLM.from_pretrained(model_base, output_hidden_states=True)"
   ]
  },
  {
   "cell_type": "code",
   "execution_count": 4,
   "metadata": {},
   "outputs": [],
   "source": [
    "from transformers import BertTokenizer, BertForMaskedLM\n",
    "tokenizer_50k = BertTokenizer.from_pretrained(model_50k)\n",
    "model_50k = BertForMaskedLM.from_pretrained(model_50k, output_hidden_states=True)"
   ]
  },
  {
   "cell_type": "code",
   "execution_count": 5,
   "metadata": {},
   "outputs": [],
   "source": [
    "original = [ \n",
    "    \"εξης δ᾽ εζομενοι πολιην αλα τυπτον ερετμοις\",\n",
    "    \"αν δε και αυτοι βαντες επι κληισι καθιζον\",\n",
    "    \"νῆα μὲν οἵ γε μέλαιναν ἁλὸς βένθοσδε ἔρυσσαν\",\n",
    "    \"τοι δε πρυμνησια ελυσαν\"\n",
    "\n",
    "]\n",
    "paraphrased = [\n",
    "    \"εξης δ᾽ καθεζομενοι πολιην αλα τυπτον ερετμοις\",\n",
    "    \"οι δ᾽ αιψ᾽ εισβαινον και επι κληισι καθιζον\",\n",
    "    \"νῆα μὲν οὖν πάμπρωτον ἁλὸς βένθοσδε ἔρυσσαν\",\n",
    "    \"τε πρυμνησια λυσαι\"\n",
    "]\n",
    "confound = [\n",
    "   \"εξης δ᾽ εζομενοι πολιην αλα καθιζον ερετμοις\",\n",
    "    \"αν δε και αυτοι βαντες επι κληισι τυπτον\",\n",
    "    \"νῆα μὲν οἵ γε μέλαιναν ἁλὸς βένθοσδε ελυσαν\",\n",
    "    \"τοι δε πρυμνησια ἔρυσσαν\"\n",
    "]"
   ]
  },
  {
   "cell_type": "code",
   "execution_count": 6,
   "metadata": {},
   "outputs": [],
   "source": [
    "original = remove_diacritics(original)\n",
    "paraphrased = remove_diacritics(paraphrased)\n",
    "confound = remove_diacritics(confound)"
   ]
  },
  {
   "cell_type": "markdown",
   "metadata": {},
   "source": [
    "BASE"
   ]
  },
  {
   "cell_type": "code",
   "execution_count": 7,
   "metadata": {},
   "outputs": [],
   "source": [
    "original_emb_dict = mean_cls_embeddings(original, model = model, tokenizer = tokenizer)\n",
    "paraphrased_emb_dict = mean_cls_embeddings(paraphrased, model = model, tokenizer = tokenizer)\n",
    "confound_emb_dict = mean_cls_embeddings(confound, model = model, tokenizer = tokenizer)"
   ]
  },
  {
   "cell_type": "code",
   "execution_count": 9,
   "metadata": {},
   "outputs": [
    {
     "name": "stdout",
     "output_type": "stream",
     "text": [
      "T-statistic between original-paraphrased and original-original: [3.459114], P-value: [0.01348188]\n",
      "T-statistic between original-confound and original_original: [4.544662], P-value: [0.00391388]\n",
      "T-statistic between original-paraphrased and original-confound: [-0.90745294], P-value: [0.39914545]\n"
     ]
    },
    {
     "data": {
      "text/plain": [
       "{'originalvsparaphrased': {'average': 0.91746926, 'variance': 0.002470727},\n",
       " 'originalvsconfound': {'average': 0.9465302, 'variance': 0.00060602784},\n",
       " 'originalvsoriginal': {'average': 0.734463, 'variance': 0.00592626}}"
      ]
     },
     "execution_count": 9,
     "metadata": {},
     "output_type": "execute_result"
    }
   ],
   "source": [
    "report_similarity(original_emb_dict, paraphrased_emb_dict, confound_emb_dict, method = \"cls\")"
   ]
  },
  {
   "cell_type": "code",
   "execution_count": 10,
   "metadata": {},
   "outputs": [
    {
     "name": "stdout",
     "output_type": "stream",
     "text": [
      "T-statistic between original-paraphrased and original-original: [4.8184767], P-value: [0.00294465]\n",
      "T-statistic between original-confound and original_original: [8.784868], P-value: [0.00012063]\n",
      "T-statistic between original-paraphrased and original-confound: [-1.2986712], P-value: [0.24173224]\n"
     ]
    },
    {
     "data": {
      "text/plain": [
       "{'originalvsparaphrased': {'average': 0.9094701, 'variance': 0.003166628},\n",
       " 'originalvsconfound': {'average': 0.9551279, 'variance': 0.00054148573},\n",
       " 'originalvsoriginal': {'average': 0.71563363, 'variance': 0.0016881862}}"
      ]
     },
     "execution_count": 10,
     "metadata": {},
     "output_type": "execute_result"
    }
   ],
   "source": [
    "report_similarity(original_emb_dict, paraphrased_emb_dict, confound_emb_dict, method = \"mean\")"
   ]
  },
  {
   "cell_type": "markdown",
   "metadata": {},
   "source": [
    "50K"
   ]
  },
  {
   "cell_type": "code",
   "execution_count": 11,
   "metadata": {},
   "outputs": [
    {
     "name": "stderr",
     "output_type": "stream",
     "text": [
      "Asking to truncate to max_length but no maximum length is provided and the model has no predefined maximum length. Default to no truncation.\n"
     ]
    }
   ],
   "source": [
    "original_emb_dict = mean_cls_embeddings(original, model_50k, tokenizer_50k)\n",
    "paraphrased_emb_dict = mean_cls_embeddings(paraphrased, model_50k, tokenizer_50k)\n",
    "confound_emb_dict = mean_cls_embeddings(confound, model_50k, tokenizer_50k)"
   ]
  },
  {
   "cell_type": "code",
   "execution_count": 12,
   "metadata": {},
   "outputs": [
    {
     "name": "stdout",
     "output_type": "stream",
     "text": [
      "T-statistic between original-paraphrased and original-original: [3.6031263], P-value: [0.01132393]\n",
      "T-statistic between original-confound and original_original: [6.2478294], P-value: [0.00077917]\n",
      "T-statistic between original-paraphrased and original-confound: [-1.4733229], P-value: [0.19109437]\n"
     ]
    },
    {
     "data": {
      "text/plain": [
       "{'originalvsparaphrased': {'average': 0.89549726, 'variance': 0.002392032},\n",
       " 'originalvsconfound': {'average': 0.9427889, 'variance': 0.00069893344},\n",
       " 'originalvsoriginal': {'average': 0.75946856, 'variance': 0.0018838275}}"
      ]
     },
     "execution_count": 12,
     "metadata": {},
     "output_type": "execute_result"
    }
   ],
   "source": [
    "report_similarity(original_emb_dict, paraphrased_emb_dict, confound_emb_dict, method = \"cls\")"
   ]
  },
  {
   "cell_type": "code",
   "execution_count": 13,
   "metadata": {},
   "outputs": [
    {
     "name": "stdout",
     "output_type": "stream",
     "text": [
      "T-statistic between original-paraphrased and original-original: [3.6252406], P-value: [0.01102777]\n",
      "T-statistic between original-confound and original_original: [10.2460985], P-value: [5.0413542e-05]\n",
      "T-statistic between original-paraphrased and original-confound: [-2.0859687], P-value: [0.08205451]\n"
     ]
    },
    {
     "data": {
      "text/plain": [
       "{'originalvsparaphrased': {'average': 0.8558754, 'variance': 0.004650526},\n",
       " 'originalvsconfound': {'average': 0.9408885, 'variance': 0.00033232424},\n",
       " 'originalvsoriginal': {'average': 0.69269204, 'variance': 0.0014280115}}"
      ]
     },
     "execution_count": 13,
     "metadata": {},
     "output_type": "execute_result"
    }
   ],
   "source": [
    "report_similarity(original_emb_dict, paraphrased_emb_dict, confound_emb_dict, method = \"mean\")"
   ]
  }
 ],
 "metadata": {
  "kernelspec": {
   "display_name": "Python 3",
   "language": "python",
   "name": "python3"
  },
  "language_info": {
   "codemirror_mode": {
    "name": "ipython",
    "version": 3
   },
   "file_extension": ".py",
   "mimetype": "text/x-python",
   "name": "python",
   "nbconvert_exporter": "python",
   "pygments_lexer": "ipython3",
   "version": "3.11.5"
  }
 },
 "nbformat": 4,
 "nbformat_minor": 2
}
