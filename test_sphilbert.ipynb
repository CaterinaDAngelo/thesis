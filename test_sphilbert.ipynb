{
 "cells": [
  {
   "cell_type": "code",
   "execution_count": 1,
   "metadata": {},
   "outputs": [
    {
     "name": "stderr",
     "output_type": "stream",
     "text": [
      "c:\\Users\\cate9\\AppData\\Local\\Programs\\Python\\Python311\\Lib\\site-packages\\transformers\\utils\\generic.py:441: UserWarning: torch.utils._pytree._register_pytree_node is deprecated. Please use torch.utils._pytree.register_pytree_node instead.\n",
      "  _torch_pytree._register_pytree_node(\n",
      "c:\\Users\\cate9\\AppData\\Local\\Programs\\Python\\Python311\\Lib\\site-packages\\transformers\\utils\\generic.py:309: UserWarning: torch.utils._pytree._register_pytree_node is deprecated. Please use torch.utils._pytree.register_pytree_node instead.\n",
      "  _torch_pytree._register_pytree_node(\n"
     ]
    },
    {
     "name": "stdout",
     "output_type": "stream",
     "text": [
      "‎𐤀 CLTK version '1.3.0'. When using the CLTK in research, please cite: https://aclanthology.org/2021.acl-demo.3/\n",
      "\n",
      "Pipeline for language 'Ancient Greek' (ISO: 'grc'): `GreekNormalizeProcess`, `GreekSpacyProcess`, `GreekEmbeddingsProcess`, `StopsProcess`.\n",
      "\n",
      "⸖ ``GreekSpacyProcess`` using OdyCy model by Center for Humanities Computing Aarhus from https://huggingface.co/chcaa . Please cite: https://aclanthology.org/2023.latechclfl-1.14\n",
      "⸖ ``LatinEmbeddingsProcess`` using word2vec model by University of Oslo from http://vectors.nlpl.eu/ . Please cite: https://aclanthology.org/W17-0237/\n",
      "\n",
      "⸎ To suppress these messages, instantiate ``NLP()`` with ``suppress_banner=True``.\n"
     ]
    }
   ],
   "source": [
    "from my_functions_improved import *"
   ]
  },
  {
   "cell_type": "code",
   "execution_count": 2,
   "metadata": {},
   "outputs": [],
   "source": [
    "original = [ \n",
    "    \"ἑξῆς δ᾽ ἑζόμενοι πολιὴν ἅλα τύπτον ἐρετμοῖς\",\n",
    "    \"ἂν δὲ καὶ αὐτοὶ βάντες ἐπὶ κληῖσι καθῖζον\",\n",
    "    \"νῆα μὲν οἵ γε μέλαιναν ἁλὸς βένθοσδε ἔρυσσαν\",\n",
    "    \"τοὶ δὲ πρυμνησια ἔλυσαν\"\n",
    "\n",
    "]\n",
    "paraphrased = [\n",
    "    \"ἑξῆς δὲ καθεζομενοι πολιὴν ἅλα τύπτον ἐρετμοῖς\",\n",
    "    \"οἱ δ᾽ αἶψ᾽ εἴσβαινον καὶ ἐπὶ κληῖσι καθῖζον\",\n",
    "    \"νῆα μὲν οὖν πάμπρωτον ἁλὸς βένθοσδε ἔρυσσαν\",\n",
    "    \"τε πρυμνήσια λῦσαι\"\n",
    "]\n",
    "confound = [\n",
    "   \"ἑξῆς δ᾽ ἑζόμενοι πολιὴν ἅλα καθῖζον ἐρετμοῖς\",\n",
    "    \"ἂν δὲ καὶ αὐτοὶ βάντες ἐπὶ κληῖσι τύπτον\",\n",
    "    \"νῆα μὲν οἵ γε μέλαιναν ἁλὸς βένθοσδε ελυσαν\",\n",
    "    \"τοι δε πρυμνησια ἔρυσσαν\"\n",
    "]\n"
   ]
  },
  {
   "cell_type": "code",
   "execution_count": 5,
   "metadata": {},
   "outputs": [
    {
     "name": "stdout",
     "output_type": "stream",
     "text": [
      "WARNING:tensorflow:From c:\\Users\\cate9\\AppData\\Local\\Programs\\Python\\Python311\\Lib\\site-packages\\keras\\src\\losses.py:2976: The name tf.losses.sparse_softmax_cross_entropy is deprecated. Please use tf.compat.v1.losses.sparse_softmax_cross_entropy instead.\n",
      "\n"
     ]
    },
    {
     "data": {
      "application/vnd.jupyter.widget-view+json": {
       "model_id": "3672428ee5d443dbb875f41ac1daedd3",
       "version_major": 2,
       "version_minor": 0
      },
      "text/plain": [
       "modules.json:   0%|          | 0.00/229 [00:00<?, ?B/s]"
      ]
     },
     "metadata": {},
     "output_type": "display_data"
    },
    {
     "name": "stderr",
     "output_type": "stream",
     "text": [
      "c:\\Users\\cate9\\AppData\\Local\\Programs\\Python\\Python311\\Lib\\site-packages\\huggingface_hub\\file_download.py:149: UserWarning: `huggingface_hub` cache-system uses symlinks by default to efficiently store duplicated files but your machine does not support them in C:\\Users\\cate9\\.cache\\huggingface\\hub\\models--bowphs--SPhilBerta. Caching files will still work but in a degraded version that might require more space on your disk. This warning can be disabled by setting the `HF_HUB_DISABLE_SYMLINKS_WARNING` environment variable. For more details, see https://huggingface.co/docs/huggingface_hub/how-to-cache#limitations.\n",
      "To support symlinks on Windows, you either need to activate Developer Mode or to run Python as an administrator. In order to see activate developer mode, see this article: https://docs.microsoft.com/en-us/windows/apps/get-started/enable-your-device-for-development\n",
      "  warnings.warn(message)\n"
     ]
    },
    {
     "data": {
      "application/vnd.jupyter.widget-view+json": {
       "model_id": "409daeaccd374c43b16eb0b7539d335c",
       "version_major": 2,
       "version_minor": 0
      },
      "text/plain": [
       "config_sentence_transformers.json:   0%|          | 0.00/123 [00:00<?, ?B/s]"
      ]
     },
     "metadata": {},
     "output_type": "display_data"
    },
    {
     "data": {
      "application/vnd.jupyter.widget-view+json": {
       "model_id": "cab57d7fdbe648a39794cad1e6d532bd",
       "version_major": 2,
       "version_minor": 0
      },
      "text/plain": [
       "README.md:   0%|          | 0.00/3.21k [00:00<?, ?B/s]"
      ]
     },
     "metadata": {},
     "output_type": "display_data"
    },
    {
     "data": {
      "application/vnd.jupyter.widget-view+json": {
       "model_id": "550f8a0bd9aa4e5583899a51d3f880c1",
       "version_major": 2,
       "version_minor": 0
      },
      "text/plain": [
       "sentence_bert_config.json:   0%|          | 0.00/53.0 [00:00<?, ?B/s]"
      ]
     },
     "metadata": {},
     "output_type": "display_data"
    },
    {
     "data": {
      "application/vnd.jupyter.widget-view+json": {
       "model_id": "d81464cecd594bd381462e19a25c3dd2",
       "version_major": 2,
       "version_minor": 0
      },
      "text/plain": [
       "config.json:   0%|          | 0.00/670 [00:00<?, ?B/s]"
      ]
     },
     "metadata": {},
     "output_type": "display_data"
    },
    {
     "data": {
      "application/vnd.jupyter.widget-view+json": {
       "model_id": "9a41267144c84d37ad6f128bb1dadc1a",
       "version_major": 2,
       "version_minor": 0
      },
      "text/plain": [
       "pytorch_model.bin:   0%|          | 0.00/541M [00:00<?, ?B/s]"
      ]
     },
     "metadata": {},
     "output_type": "display_data"
    },
    {
     "data": {
      "application/vnd.jupyter.widget-view+json": {
       "model_id": "c55f94d5538044319209bf2b5f865d22",
       "version_major": 2,
       "version_minor": 0
      },
      "text/plain": [
       "tokenizer_config.json:   0%|          | 0.00/379 [00:00<?, ?B/s]"
      ]
     },
     "metadata": {},
     "output_type": "display_data"
    },
    {
     "data": {
      "application/vnd.jupyter.widget-view+json": {
       "model_id": "e99f533507704fd49ffda93ae3a0653d",
       "version_major": 2,
       "version_minor": 0
      },
      "text/plain": [
       "vocab.json:   0%|          | 0.00/1.43M [00:00<?, ?B/s]"
      ]
     },
     "metadata": {},
     "output_type": "display_data"
    },
    {
     "data": {
      "application/vnd.jupyter.widget-view+json": {
       "model_id": "fe0b251b9a514a29af984e534f112be1",
       "version_major": 2,
       "version_minor": 0
      },
      "text/plain": [
       "merges.txt:   0%|          | 0.00/994k [00:00<?, ?B/s]"
      ]
     },
     "metadata": {},
     "output_type": "display_data"
    },
    {
     "data": {
      "application/vnd.jupyter.widget-view+json": {
       "model_id": "345dff14b3554ccfbf63f5b09467e750",
       "version_major": 2,
       "version_minor": 0
      },
      "text/plain": [
       "tokenizer.json:   0%|          | 0.00/3.51M [00:00<?, ?B/s]"
      ]
     },
     "metadata": {},
     "output_type": "display_data"
    },
    {
     "data": {
      "application/vnd.jupyter.widget-view+json": {
       "model_id": "6409d845a31344d2bb17a94dbf3d64a5",
       "version_major": 2,
       "version_minor": 0
      },
      "text/plain": [
       "special_tokens_map.json:   0%|          | 0.00/280 [00:00<?, ?B/s]"
      ]
     },
     "metadata": {},
     "output_type": "display_data"
    },
    {
     "data": {
      "application/vnd.jupyter.widget-view+json": {
       "model_id": "5a028aa9747a4ab980896532d6541118",
       "version_major": 2,
       "version_minor": 0
      },
      "text/plain": [
       "1_Pooling/config.json:   0%|          | 0.00/190 [00:00<?, ?B/s]"
      ]
     },
     "metadata": {},
     "output_type": "display_data"
    }
   ],
   "source": [
    "from sentence_transformers import SentenceTransformer\n",
    "model = SentenceTransformer('bowphs/SPhilBerta')"
   ]
  },
  {
   "cell_type": "code",
   "execution_count": 6,
   "metadata": {},
   "outputs": [],
   "source": [
    "original_sent_emb = model.encode(original)\n",
    "paraph_sent_emb = model.encode(paraphrased)\n",
    "conf_sent_emb = model.encode(confound)"
   ]
  },
  {
   "cell_type": "code",
   "execution_count": 9,
   "metadata": {},
   "outputs": [
    {
     "name": "stdout",
     "output_type": "stream",
     "text": [
      "T-statistic between original-paraphrased and original-original: [[1.959314]], P-value: [[0.0977881]]\n",
      "T-statistic between original-confound and original_original: [[-0.9687051]], P-value: [[0.37010327]]\n",
      "T-statistic between original-paraphrased and original-confound: [[2.4775937]], P-value: [[0.04796147]]\n"
     ]
    },
    {
     "data": {
      "text/plain": [
       "{'originalvsparaphrased': {'average': 0.8609264, 'variance': 0.012365864},\n",
       " 'originalvsconfound': {'average': 0.62374157, 'variance': 0.01512794},\n",
       " 'originalvsoriginal': {'average': 0.7058528, 'variance': 0.0064268215}}"
      ]
     },
     "execution_count": 9,
     "metadata": {},
     "output_type": "execute_result"
    }
   ],
   "source": [
    "report_similarity_sent(original_sent_emb, paraph_sent_emb, conf_sent_emb)"
   ]
  },
  {
   "cell_type": "markdown",
   "metadata": {},
   "source": [
    "COSINE SIMILARITY AND T-TEST WITH NEW CONFOUNDERS"
   ]
  },
  {
   "cell_type": "code",
   "execution_count": 7,
   "metadata": {},
   "outputs": [],
   "source": [
    "original = [\n",
    "    \"ἂν δὲ καὶ αὐτοὶ βάντες ἐπὶ κληῖσι καθῖζον\", \n",
    "    \"ἑξῆς δ᾽ ἑζόμενοι πολιὴν ἅλα τύπτον ἐρετμοῖς\", \n",
    "    \"νῆα μὲν οἵ γε μέλαιναν ἁλὸς βένθοσδε ἔρυσσαν\", \n",
    "    \"τοὶ δὲ πρυμνήσι᾽ ἔλυσαν\"\n",
    "]\n",
    "paraphrased = [\n",
    "    \"οἱ δ᾽ αἶψ᾽ εἴσβαινον καὶ ἐπὶ κληῖσι καθῖζον\",\n",
    "    \"ἑξῆς δὲ καθεζομενοι πολιὴν ἅλα τύπτον ἐρετμοῖς\",\n",
    "    \"νῆα μὲν οὖν πάμπρωτον ἁλὸς βένθοσδε ἔρυσσαν\",\n",
    "    \"τε πρυμνήσια λῦσαι\"\n",
    "]\n",
    "confound = [\n",
    "    \"αὐτίκʼ ἔπειτʼ ἀνστάντες ἔβαν δόμον εἰς Ὀδυσῆος , ἐλθόντες δὲ καθῖζον ἐπὶ ξεστοῖσι θρόνοισιν .\",\n",
    "    \"ἂν δὲ καὶ αὐτοὶ βάντες ἐπὶ κληῖσι καθῖζον\",\n",
    "    \"τὼ δʼ ἀέκοντε βάτην παρὰ θῖνʼ ἁλὸς ἀτρυγέτοιο , Μυρμιδόνων δʼ ἐπί τε κλισίας καὶ νῆας ἱκέσθην , τὸν δʼ εὗρον παρά τε κλισίῃ καὶ νηῒ μελαίνῃ ἥμενον\",\n",
    "    \"ἀλλ᾽ ἄγε νῆα μέλαιναν ἐρύσσομεν εἰς ἅλα δῖαν\" \n",
    "]"
   ]
  },
  {
   "cell_type": "code",
   "execution_count": 8,
   "metadata": {},
   "outputs": [],
   "source": [
    "original_sent_emb = model.encode(original)\n",
    "paraph_sent_emb = model.encode(paraphrased)\n",
    "conf_sent_emb = model.encode(confound)"
   ]
  },
  {
   "cell_type": "code",
   "execution_count": 9,
   "metadata": {},
   "outputs": [
    {
     "name": "stdout",
     "output_type": "stream",
     "text": [
      "T-statistic between original-paraphrased and original-original: [[1.9593058]], P-value: [[0.09778922]]\n",
      "T-statistic between original-confound and original_original: [[-0.05808978]], P-value: [[0.9555634]]\n",
      "T-statistic between original-paraphrased and original-confound: [[2.0988674]], P-value: [[0.08060381]]\n"
     ]
    },
    {
     "data": {
      "text/plain": [
       "{'originalvsparaphrased': {'average': 0.8609264, 'variance': 0.01236584},\n",
       " 'originalvsconfound': {'average': 0.7023053, 'variance': 0.004768719},\n",
       " 'originalvsoriginal': {'average': 0.70585394, 'variance': 0.0064267246}}"
      ]
     },
     "execution_count": 9,
     "metadata": {},
     "output_type": "execute_result"
    }
   ],
   "source": [
    "report_similarity_sent(original_sent_emb, paraph_sent_emb, conf_sent_emb)"
   ]
  },
  {
   "cell_type": "code",
   "execution_count": null,
   "metadata": {},
   "outputs": [],
   "source": []
  }
 ],
 "metadata": {
  "kernelspec": {
   "display_name": ".env",
   "language": "python",
   "name": "python3"
  },
  "language_info": {
   "codemirror_mode": {
    "name": "ipython",
    "version": 3
   },
   "file_extension": ".py",
   "mimetype": "text/x-python",
   "name": "python",
   "nbconvert_exporter": "python",
   "pygments_lexer": "ipython3",
   "version": "3.11.5"
  }
 },
 "nbformat": 4,
 "nbformat_minor": 2
}
