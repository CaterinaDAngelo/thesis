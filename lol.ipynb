{
 "cells": [
  {
   "cell_type": "code",
   "execution_count": 1,
   "metadata": {},
   "outputs": [
    {
     "name": "stderr",
     "output_type": "stream",
     "text": [
      "/mount/arbeitsdaten/tcl/Users/dangelo_thesis/thesis/.env/lib64/python3.9/site-packages/networkx/utils/backends.py:135: RuntimeWarning: networkx backend defined more than once: nx-loopback\n",
      "  backends.update(_get_backends(\"networkx.backends\"))\n",
      "/mount/arbeitsdaten/tcl/Users/dangelo_thesis/thesis/.env/lib64/python3.9/site-packages/tqdm/auto.py:21: TqdmWarning: IProgress not found. Please update jupyter and ipywidgets. See https://ipywidgets.readthedocs.io/en/stable/user_install.html\n",
      "  from .autonotebook import tqdm as notebook_tqdm\n"
     ]
    },
    {
     "name": "stdout",
     "output_type": "stream",
     "text": [
      "‎𐤀 CLTK version '1.2.3'. When using the CLTK in research, please cite: https://aclanthology.org/2021.acl-demo.3/\n",
      "\n",
      "Pipeline for language 'Ancient Greek' (ISO: 'grc'): `GreekNormalizeProcess`, `GreekStanzaProcess`, `GreekEmbeddingsProcess`, `StopsProcess`.\n",
      "\n",
      "⸖ ``LatinSpacyProcess`` using Stanza model by Stanford University from https://stanfordnlp.github.io/stanza/ . Please cite: https://arxiv.org/abs/2003.07082\n",
      "⸖ ``LatinEmbeddingsProcess`` using word2vec model by University of Oslo from http://vectors.nlpl.eu/ . Please cite: https://aclanthology.org/W17-0237/\n",
      "\n",
      "⸎ To suppress these messages, instantiate ``NLP()`` with ``suppress_banner=True``.\n"
     ]
    }
   ],
   "source": [
    "from my_functions import *"
   ]
  },
  {
   "cell_type": "code",
   "execution_count": 11,
   "metadata": {},
   "outputs": [],
   "source": [
    "import numpy"
   ]
  },
  {
   "cell_type": "code",
   "execution_count": 1,
   "metadata": {},
   "outputs": [],
   "source": [
    "import cltk"
   ]
  },
  {
   "cell_type": "code",
   "execution_count": 5,
   "metadata": {},
   "outputs": [
    {
     "name": "stdout",
     "output_type": "stream",
     "text": [
      "‎𐤀 CLTK version '1.2.1'. When using the CLTK in research, please cite: https://aclanthology.org/2021.acl-demo.3/\n",
      "\n",
      "Pipeline for language 'Ancient Greek' (ISO: 'grc'): `GreekNormalizeProcess`, `GreekStanzaProcess`, `GreekEmbeddingsProcess`, `StopsProcess`.\n",
      "\n",
      "⸖ ``LatinSpacyProcess`` using Stanza model by Stanford University from https://stanfordnlp.github.io/stanza/ . Please cite: https://arxiv.org/abs/2003.07082\n",
      "⸖ ``LatinEmbeddingsProcess`` using word2vec model by University of Oslo from http://vectors.nlpl.eu/ . Please cite: https://aclanthology.org/W17-0237/\n",
      "\n",
      "⸎ To suppress these messages, instantiate ``NLP()`` with ``suppress_banner=True``.\n"
     ]
    }
   ],
   "source": [
    "nlp = cltk.NLP(language=\"grc\")"
   ]
  },
  {
   "cell_type": "code",
   "execution_count": 7,
   "metadata": {},
   "outputs": [],
   "source": [
    "string = \"ἂν δὲ καὶ αὐτοὶ βάντες ἐπὶ κληῖσι καθῖζον\"\n",
    "doc =nlp.analyze(string)"
   ]
  },
  {
   "cell_type": "code",
   "execution_count": 8,
   "metadata": {},
   "outputs": [
    {
     "data": {
      "text/plain": [
       "[array([ 0.57007 , -0.294751,  0.10801 , -0.411964, -0.002941,  0.08895 ,\n",
       "        -0.57674 ,  0.010305, -0.285094, -0.016557,  0.243541, -0.318803,\n",
       "         0.295378, -0.728191,  0.236285,  0.750938,  0.523895, -0.051411,\n",
       "         0.541601, -0.560964, -0.143314,  0.350769, -0.156739, -0.360505,\n",
       "         0.304087, -0.68165 , -0.037469,  0.161795,  0.098815,  0.567705,\n",
       "        -0.273835,  0.046031, -0.383479, -0.194119, -0.253251, -0.210237,\n",
       "         0.211573, -0.342064, -0.233448,  0.195814, -0.127471, -0.160811,\n",
       "        -0.089434,  0.221357,  0.211347,  0.192363, -0.078681,  0.111241,\n",
       "         0.227553,  0.482059, -0.301337, -0.21261 , -0.321535, -0.314537,\n",
       "         0.15253 ,  0.297643,  0.257405, -0.118937,  0.543726, -0.236894,\n",
       "         0.288897,  0.138403,  0.1006  ,  0.285013,  0.488856,  0.611903,\n",
       "         0.280484,  0.124039,  0.207752,  0.121777,  0.290499, -0.181359,\n",
       "        -0.28292 , -0.46589 ,  0.041558, -0.225154,  0.095313,  0.074382,\n",
       "         0.490376,  0.010257, -0.399739, -0.340285,  0.02665 ,  0.062851,\n",
       "        -0.09945 ,  0.778054, -0.311277,  0.424966, -0.141096, -0.077241,\n",
       "         0.388741,  0.377485,  0.063926,  0.79946 ,  0.209124, -0.130918,\n",
       "        -0.361297,  0.307055, -0.284944, -0.631598], dtype=float32),\n",
       " array([ 0.179484, -0.313795,  0.127053, -0.010894,  0.618014,  0.178259,\n",
       "         0.211238, -0.174877, -0.09452 ,  0.380261, -0.052909,  0.014361,\n",
       "         0.174533, -0.231346, -0.119182,  0.156649,  0.135972, -0.043015,\n",
       "         0.579862, -0.028011, -0.096203,  0.157939,  0.250933, -0.568118,\n",
       "         0.133109, -0.031505, -0.0206  , -0.446654,  0.100386,  0.024263,\n",
       "        -0.190999, -0.231811, -0.167316,  0.274429, -0.350347, -0.217427,\n",
       "         0.134513, -0.050534, -0.128669, -0.009807, -0.122543,  0.087322,\n",
       "        -0.053825, -0.364673, -0.089688,  0.111653, -0.147539, -0.248887,\n",
       "         0.219032, -0.127655,  0.11877 , -0.189982, -0.016274, -0.218817,\n",
       "        -0.06612 ,  0.066279,  0.383069, -0.122571,  0.248085, -0.297483,\n",
       "         0.162958, -0.267441,  0.033346, -0.287189,  0.225565, -0.021338,\n",
       "         0.632751, -0.365356,  0.612983, -0.02968 , -0.343478, -0.461709,\n",
       "         0.043016, -0.007773, -0.328476, -0.153411, -0.486132,  0.094391,\n",
       "        -0.047447,  0.186622,  0.191577, -0.040117, -0.070871, -0.045418,\n",
       "         0.050457,  0.337923,  0.401765,  0.195497,  0.041401,  0.036184,\n",
       "         0.334413,  0.262073,  0.210818,  0.022562,  0.085932, -0.494783,\n",
       "        -0.249433,  0.079723, -0.174848,  0.327516], dtype=float32),\n",
       " array([ 0.160394, -0.357226,  0.111744,  0.087125,  0.515726,  0.048291,\n",
       "        -0.010608, -0.278478, -0.05307 ,  0.258576,  0.165713, -0.148555,\n",
       "         0.027496, -0.19647 ,  0.009417,  0.202812,  0.310517, -0.010622,\n",
       "         0.335327,  0.031209, -0.305408,  0.325647,  0.109159, -0.150398,\n",
       "         0.306526,  0.115644, -0.04856 , -0.30659 ,  0.02602 , -0.013788,\n",
       "         0.002807, -0.10397 , -0.221731, -0.087549, -0.310191,  0.001528,\n",
       "         0.266667, -0.371569, -0.19949 , -0.070164, -0.003708,  0.036625,\n",
       "         0.147311, -0.15317 , -0.044703,  0.05022 ,  0.066389, -0.252575,\n",
       "        -0.003652, -0.100335,  0.209007,  0.119179, -0.230485, -0.39485 ,\n",
       "         0.098531, -0.009976,  0.531595, -0.156127,  0.46513 , -0.3583  ,\n",
       "        -0.019278, -0.326453, -0.139406, -0.247088,  0.361287,  0.009768,\n",
       "         0.652512, -0.318077,  0.621934, -0.103701, -0.091651, -0.222991,\n",
       "         0.073137, -0.20226 , -0.257932, -0.083098, -0.516193,  0.098876,\n",
       "        -0.098963,  0.070854,  0.363012, -0.107275, -0.023817,  0.202306,\n",
       "         0.01564 ,  0.513227,  0.344109,  0.147728, -0.057539,  0.08681 ,\n",
       "         0.07262 ,  0.36244 , -0.130184,  0.134622,  0.368061, -0.226542,\n",
       "        -0.019793,  0.242931, -0.147033,  0.314568], dtype=float32),\n",
       " array([ 0.240021, -0.160058,  0.190681, -0.104874, -0.119199, -0.074805,\n",
       "         0.278596, -0.393212,  0.17212 ,  0.317427,  0.516256,  0.208284,\n",
       "        -0.516868, -0.14794 , -0.153404,  0.381198,  0.438636,  0.242387,\n",
       "         0.121576,  0.105516, -0.462677,  0.237875,  0.078501, -0.226419,\n",
       "         0.151929, -0.031884,  0.048445, -0.265996,  0.236004, -0.090807,\n",
       "         0.004659, -0.066431,  0.128475, -0.574591,  0.019248,  0.17701 ,\n",
       "         0.030143,  0.17977 , -0.354722, -0.188143, -0.567846,  0.044102,\n",
       "        -0.061159, -0.138866,  0.014161,  0.236635,  0.144041, -0.442723,\n",
       "        -0.053603,  0.303202, -0.078404, -0.303138,  0.207286,  0.337943,\n",
       "         0.202413,  0.186614,  0.256696, -0.446488, -0.129582, -0.001328,\n",
       "        -0.100346, -0.179383, -0.155548,  0.080147,  0.460529,  0.615388,\n",
       "         0.296983,  0.008699,  0.290073,  0.717579, -0.196213,  0.051368,\n",
       "        -0.578462, -0.449996, -0.146218, -0.054586, -0.225085, -0.62139 ,\n",
       "         0.045339, -0.385417,  0.150897,  0.062818, -0.10965 , -0.234141,\n",
       "        -0.083884,  0.321379, -0.163226, -0.207355,  0.047907,  0.571157,\n",
       "         0.184555,  0.668375, -0.608464, -0.020355, -0.11449 , -0.112316,\n",
       "        -0.470803,  0.100067, -0.322657, -0.131114], dtype=float32),\n",
       " array([ 5.52330e-02, -3.66000e-04,  2.51332e-01, -4.48109e-01,\n",
       "         3.67780e-02, -2.89494e-01,  2.69987e-01, -2.01842e-01,\n",
       "         1.63410e-02,  1.83291e-01,  1.41956e-01,  9.08550e-02,\n",
       "         1.73890e-02, -2.01549e-01,  1.67504e-01,  4.97668e-01,\n",
       "         1.81954e-01,  1.97009e-01,  3.81701e-01, -1.66407e-01,\n",
       "        -8.59800e-02, -3.85720e-02,  4.85510e-02, -3.11257e-01,\n",
       "         7.68510e-02,  3.07100e-03,  1.66708e-01,  1.10930e-01,\n",
       "         1.72682e-01,  9.55100e-02, -1.15757e-01,  7.05300e-02,\n",
       "        -2.96483e-01,  6.37250e-02, -4.42590e-02,  1.17353e-01,\n",
       "         2.23103e-01, -1.67638e-01,  7.78750e-02, -2.17191e-01,\n",
       "        -4.87850e-02,  2.54490e-01, -1.80575e-01, -3.73996e-01,\n",
       "         2.33837e-01, -2.79499e-01,  1.13527e-01,  1.45746e-01,\n",
       "        -3.45749e-01, -7.97230e-02,  3.21426e-01, -5.73210e-02,\n",
       "         8.39420e-02,  2.77660e-02, -1.25483e-01,  5.33900e-02,\n",
       "        -3.01900e-02, -1.57720e-02, -2.78650e-02, -5.19709e-01,\n",
       "         1.70562e-01, -1.56593e-01, -1.30124e-01, -2.29113e-01,\n",
       "         5.11020e-02,  3.71511e-01, -7.66120e-02, -6.38700e-02,\n",
       "        -7.40140e-02,  3.80169e-01,  9.22000e-03,  2.74364e-01,\n",
       "        -1.10860e-01, -2.93945e-01, -3.16848e-01, -9.24050e-02,\n",
       "        -4.86450e-02, -8.88970e-02,  8.89750e-02, -2.45150e-02,\n",
       "         2.34372e-01, -6.69210e-02, -3.35191e-01, -2.67801e-01,\n",
       "        -1.16938e-01,  3.94380e-02, -2.22240e-02,  1.08190e-02,\n",
       "        -3.31620e-02,  2.65724e-01,  1.40594e-01,  3.79541e-01,\n",
       "         5.27110e-02, -3.77553e-01,  3.00520e-02,  1.56461e-01,\n",
       "        -1.82000e-03,  2.45960e-02,  6.26940e-02,  9.40870e-02],\n",
       "       dtype=float32),\n",
       " array([-0.046855, -0.124614,  0.668121, -0.008975,  0.390066, -0.337279,\n",
       "         0.319112,  0.088548,  0.22546 ,  0.387936,  0.212152, -0.155208,\n",
       "         0.285782, -0.232019, -0.354473,  0.50677 ,  0.189161,  0.143431,\n",
       "        -0.022542,  0.114898, -0.486907,  0.086565,  0.032044,  0.068233,\n",
       "         0.25805 , -0.200758,  0.113978, -0.326986,  0.354435, -0.321322,\n",
       "        -0.225075, -0.195357,  0.013509,  0.062545, -0.179536, -0.138893,\n",
       "         0.290504, -0.125603, -0.069867,  0.144089, -0.259555,  0.095398,\n",
       "         0.001236, -0.324868, -0.659699, -0.394954,  0.205948,  0.432911,\n",
       "         0.266475,  0.348661,  0.196299,  0.090756, -0.149582, -0.029743,\n",
       "         0.095334,  0.006055,  0.428296, -0.063541,  0.051946, -0.325582,\n",
       "         0.454822,  0.025624,  0.3482  , -0.075233,  0.162578,  0.324339,\n",
       "         0.616478, -0.683663,  0.960017,  0.125823, -0.333314, -0.048746,\n",
       "        -0.001079, -0.124604, -0.394575, -0.295604, -0.611744, -0.079211,\n",
       "        -0.038045,  0.071887,  0.503424,  0.136605,  0.315172,  0.153913,\n",
       "         0.423176,  0.251691,  0.030438, -0.382711,  0.216725,  0.157516,\n",
       "         0.155083,  0.193413, -0.190881, -0.024201,  0.296224, -0.150428,\n",
       "        -0.297377,  0.518028,  0.471005, -0.278368], dtype=float32),\n",
       " array([0., 0., 0., 0., 0., 0., 0., 0., 0., 0., 0., 0., 0., 0., 0., 0., 0.,\n",
       "        0., 0., 0., 0., 0., 0., 0., 0., 0., 0., 0., 0., 0., 0., 0., 0., 0.,\n",
       "        0., 0., 0., 0., 0., 0., 0., 0., 0., 0., 0., 0., 0., 0., 0., 0., 0.,\n",
       "        0., 0., 0., 0., 0., 0., 0., 0., 0., 0., 0., 0., 0., 0., 0., 0., 0.,\n",
       "        0., 0., 0., 0., 0., 0., 0., 0., 0., 0., 0., 0., 0., 0., 0., 0., 0.,\n",
       "        0., 0., 0., 0., 0., 0., 0., 0., 0., 0., 0., 0., 0., 0., 0.]),\n",
       " array([ 6.90490e-02,  3.37990e-02,  3.03127e-01, -3.41276e-01,\n",
       "         5.12900e-02, -2.84157e-01,  2.16554e-01, -1.33510e-01,\n",
       "         1.70670e-02,  1.76432e-01,  1.31919e-01,  1.73650e-02,\n",
       "         4.23510e-02, -2.30153e-01,  2.11250e-01,  4.94992e-01,\n",
       "         1.26296e-01,  1.73562e-01,  3.48765e-01, -1.60479e-01,\n",
       "        -8.99090e-02, -4.53410e-02,  5.72000e-02, -3.07490e-01,\n",
       "         1.44030e-01, -4.80670e-02,  2.08704e-01,  3.15600e-02,\n",
       "         1.41538e-01,  5.28420e-02, -1.00183e-01,  9.02000e-04,\n",
       "        -2.74012e-01,  5.66620e-02, -3.36340e-02, -4.29800e-03,\n",
       "         1.78752e-01, -1.36378e-01,  5.59840e-02, -2.35819e-01,\n",
       "        -9.60630e-02,  1.52028e-01, -2.04209e-01, -3.91337e-01,\n",
       "         1.23211e-01, -2.18497e-01,  1.27911e-01,  2.02608e-01,\n",
       "        -3.07506e-01, -1.09184e-01,  3.19597e-01, -6.41020e-02,\n",
       "         1.77569e-01, -1.17050e-02, -1.07617e-01,  1.51980e-02,\n",
       "         2.94000e-04, -7.61510e-02, -5.70300e-03, -4.35116e-01,\n",
       "         1.92390e-01, -1.20224e-01, -1.14290e-01, -5.14750e-02,\n",
       "         3.79550e-02,  3.91592e-01, -7.27860e-02, -3.15580e-02,\n",
       "         6.64620e-02,  3.08491e-01,  1.34530e-02,  1.80895e-01,\n",
       "        -1.58800e-01, -2.43645e-01, -2.24450e-01, -1.32675e-01,\n",
       "        -6.74670e-02, -1.47956e-01,  5.93330e-02, -5.59520e-02,\n",
       "         2.39167e-01,  1.17980e-02, -2.07055e-01, -1.50653e-01,\n",
       "        -1.37167e-01,  5.35830e-02, -7.89940e-02, -1.66870e-02,\n",
       "        -3.83730e-02,  2.83346e-01,  1.28806e-01,  2.79124e-01,\n",
       "         3.27310e-02, -3.12274e-01,  3.50620e-02,  3.68170e-02,\n",
       "        -7.24800e-02,  2.91280e-02,  8.94880e-02,  7.18390e-02],\n",
       "       dtype=float32)]"
      ]
     },
     "execution_count": 8,
     "metadata": {},
     "output_type": "execute_result"
    }
   ],
   "source": [
    "doc.embeddings"
   ]
  },
  {
   "cell_type": "code",
   "execution_count": 1,
   "metadata": {},
   "outputs": [
    {
     "name": "stdout",
     "output_type": "stream",
     "text": [
      "0\n",
      "1\n",
      "2\n",
      "3\n",
      "4\n"
     ]
    }
   ],
   "source": [
    "swag = [1, 4, 3, 7, 9]\n",
    "for i, lol in enumerate(swag):\n",
    "    print(i)"
   ]
  },
  {
   "cell_type": "code",
   "execution_count": 3,
   "metadata": {},
   "outputs": [
    {
     "name": "stdout",
     "output_type": "stream",
     "text": [
      "['/mount/arbeitsdaten33/projekte/tcl/Users/dangelo_thesis/thesis', '/usr/lib64/python39.zip', '/usr/lib64/python3.9', '/usr/lib64/python3.9/lib-dynload', '', '/mount/arbeitsdaten/tcl/Users/dangelo_thesis/thesis/.env/lib64/python3.9/site-packages', '/mount/arbeitsdaten/tcl/Users/dangelo_thesis/thesis/.env/lib/python3.9/site-packages']\n"
     ]
    }
   ],
   "source": [
    "import sys\n",
    "print(sys.path)"
   ]
  },
  {
   "cell_type": "code",
   "execution_count": 3,
   "metadata": {},
   "outputs": [],
   "source": [
    "import csv"
   ]
  },
  {
   "cell_type": "code",
   "execution_count": null,
   "metadata": {},
   "outputs": [],
   "source": [
    "with open(\"wn-data-grc.tab\", newline='', encoding='utf-8') as file:\n",
    "    reader = csv.reader(file, delimiter='\\t')\n",
    "\n",
    "    wordnet = {}\n",
    "\n",
    "    for row in reader:\n",
    "        if not row[0].startswith(\"#\"):\n",
    "            synset = row[0]\n",
    "            lemma = row[2]\n",
    "            if synset not in wordnet.keys():\n",
    "                wordnet[f\"{synset}\"] = []\n",
    "            wordnet[f\"{synset}\"].append(lemma)\n",
    "\n",
    "wordnet"
   ]
  },
  {
   "cell_type": "code",
   "execution_count": 10,
   "metadata": {},
   "outputs": [],
   "source": [
    "import pickle"
   ]
  },
  {
   "cell_type": "code",
   "execution_count": 37,
   "metadata": {},
   "outputs": [],
   "source": [
    "with open(\"sents_sim_dict.pickle\", \"rb\") as infile:\n",
    "    ssent_sim = pickle.load(infile)"
   ]
  },
  {
   "cell_type": "code",
   "execution_count": 38,
   "metadata": {},
   "outputs": [
    {
     "data": {
      "text/plain": [
       "[('πάγος', tensor([0.4448])),\n",
       " ('πάγος', tensor([0.4448])),\n",
       " ('πάγος', tensor([0.4448]))]"
      ]
     },
     "execution_count": 38,
     "metadata": {},
     "output_type": "execute_result"
    }
   ],
   "source": [
    "ssent_sim[\"sentence 1\"][\"ἅλας\"]"
   ]
  },
  {
   "cell_type": "code",
   "execution_count": 46,
   "metadata": {},
   "outputs": [],
   "source": [
    "def report_similarities(sents_sim):\n",
    "\n",
    "    \"\"\"\n",
    "    Function that prints for each word in each original sentence its best\n",
    "    synonym with the corresponding similarity score.\n",
    "    \"\"\"\n",
    "\n",
    "    for i in range(len(sents_sim)):\n",
    "\n",
    "        for lemma in sents_sim[f\"sentence {i}\"]:\n",
    "            synonyms = {}\n",
    "            # print(synonyms)\n",
    "            sorted_values = sorted(sents_sim[f\"sentence {i}\"][f\"{lemma}\"], key=lambda x: x[1], reverse=True)\n",
    "            print(f\"The best synonyms for {lemma} are:\")\n",
    "            for syn, value in sorted_values[:20]:\n",
    "                if syn in synonyms and synonyms[f\"{syn}\"] < value:\n",
    "                        synonyms[f\"{syn}\"] = value\n",
    "                        print(f\"\\t{syn} with a score of {value}\")\n",
    "                elif syn not in synonyms:\n",
    "                    synonyms[f\"{syn}\"] = value\n",
    "                    print(f\"\\t{syn} with a score of {value}\")\n",
    "                else:\n",
    "                    continue"
   ]
  },
  {
   "cell_type": "code",
   "execution_count": 47,
   "metadata": {},
   "outputs": [
    {
     "name": "stdout",
     "output_type": "stream",
     "text": [
      "The best synonyms for καθίζω are:\n",
      "\tκαθίζω with a score of tensor([0.8965])\n",
      "\tἀλέγω with a score of tensor([0.4803])\n",
      "\tἀναφαίνω with a score of tensor([0.4663])\n",
      "\tἀλείφω with a score of tensor([0.4655])\n",
      "The best synonyms for ἑξῆς are:\n",
      "\tἔνθεν with a score of tensor([0.7276])\n",
      "\tπᾶς with a score of tensor([0.6706])\n",
      "\tἀνά with a score of tensor([0.6098])\n",
      "\tἀμφίς with a score of tensor([0.2071])\n",
      "\tκαθάπαξ with a score of tensor([0.1573])\n",
      "\tἤ with a score of tensor([0.1403])\n",
      "\tκατά with a score of tensor([0.1211])\n",
      "\tπερίειμι with a score of tensor([0.1203])\n",
      "\tδῆθεν with a score of tensor([0.1121])\n",
      "\tἄχρι with a score of tensor([0.1100])\n",
      "\tἐκεῖθεν with a score of tensor([0.1008])\n",
      "The best synonyms for ἄζω are:\n",
      "\tἀναψύχω with a score of tensor([0.4963])\n",
      "\tἀνέλκω with a score of tensor([0.4201])\n",
      "\tἀδάκρυτος with a score of tensor([0.3392])\n",
      "The best synonyms for ἅλας are:\n",
      "\tπάγος with a score of tensor([0.4448])\n",
      "The best synonyms for ἐρετμός are:\n",
      "\tἔφοδος with a score of tensor([0.4076])\n",
      "\tἀνά with a score of tensor([0.3860])\n",
      "\tἀγών with a score of tensor([0.3798])\n",
      "\tἅλμα with a score of tensor([0.3017])\n",
      "The best synonyms for ἔνθεν are:\n",
      "\tἔνθεν with a score of tensor([0.9889])\n",
      "\tἔνθα with a score of tensor([0.7385])\n",
      "\tἄφαρ with a score of tensor([0.7365])\n",
      "\tὅπου with a score of tensor([0.5840])\n",
      "\tἄλλως with a score of tensor([0.5509])\n",
      "The best synonyms for πλέω are:\n",
      "\tἀναβαίνω with a score of tensor([0.4426])\n",
      "\tἀνάγω with a score of tensor([0.3888])\n",
      "\tπεριπλέω with a score of tensor([0.3401])\n",
      "\tἐπιπλέω with a score of tensor([0.3124])\n",
      "\tπλέω with a score of tensor([0.2966])\n",
      "\tπερίειμι with a score of tensor([0.2954])\n",
      "\tἀμείβω with a score of tensor([0.2411])\n",
      "The best synonyms for ἦτορ are:\n",
      "\tἦτορ with a score of tensor([0.9911])\n",
      "\tαἰγίς with a score of tensor([0.4174])\n",
      "\tκάρα with a score of tensor([0.4048])\n",
      "\tπόθος with a score of tensor([0.3839])\n",
      "The best synonyms for ἄσμενος are:\n",
      "\tγηθόσυνος with a score of tensor([0.6761])\n",
      "\tλαμπρός with a score of tensor([0.5856])\n",
      "\tλευκός with a score of tensor([0.5461])\n",
      "\tἀσπάσιος with a score of tensor([0.1957])\n",
      "\tἐρατεινός with a score of tensor([0.1460])\n",
      "\tἑκών with a score of tensor([0.1453])\n",
      "The best synonyms for φίλος are:\n",
      "\tἀγαπητός with a score of tensor([0.4358])\n",
      "\tφίλος with a score of tensor([0.3901])\n",
      "\tἀγαθός with a score of tensor([0.3540])\n",
      "\tξένιος with a score of tensor([0.3187])\n",
      "\tπροσφιλής with a score of tensor([0.3173])\n",
      "\tἀγχίμολος with a score of tensor([0.2167])\n",
      "\tἀνεξέλεγκτος with a score of tensor([0.2138])\n",
      "\tκαλός with a score of tensor([0.1309])\n",
      "The best synonyms for ἑταῖρος are:\n",
      "\tθεράπων with a score of tensor([0.4401])\n",
      "\tπαλλακίς with a score of tensor([0.4216])\n",
      "\tἀγέλη with a score of tensor([0.4195])\n",
      "\tπαρθένος with a score of tensor([0.4114])\n",
      "\tὀξύς with a score of tensor([0.3962])\n",
      "\tἀντί with a score of tensor([0.3944])\n",
      "\tἔχω with a score of tensor([0.3932])\n",
      "\tἱππότης with a score of tensor([0.3891])\n",
      "\tγυνή with a score of tensor([0.3854])\n",
      "\tἐπιχράω with a score of tensor([0.3735])\n",
      "The best synonyms for ναῦς are:\n",
      "\tἄμαξα with a score of tensor([0.1447])\n",
      "The best synonyms for ἅλς are:\n",
      "\tἅλς with a score of tensor([0.4046])\n",
      "\tθάλασσα with a score of tensor([0.3595])\n",
      "\tἅλιος with a score of tensor([0.3511])\n",
      "\tἈμφιτρίτη with a score of tensor([0.3320])\n",
      "The best synonyms for βένθος are:\n",
      "\tβένθος with a score of tensor([0.9615])\n",
      "\tἀδοξία with a score of tensor([0.2656])\n",
      "The best synonyms for λύω are:\n",
      "\tἀνέλκω with a score of tensor([0.4617])\n"
     ]
    }
   ],
   "source": [
    "report_similarities(ssent_sim)"
   ]
  }
 ],
 "metadata": {
  "kernelspec": {
   "display_name": ".venv",
   "language": "python",
   "name": "python3"
  },
  "language_info": {
   "codemirror_mode": {
    "name": "ipython",
    "version": 3
   },
   "file_extension": ".py",
   "mimetype": "text/x-python",
   "name": "python",
   "nbconvert_exporter": "python",
   "pygments_lexer": "ipython3",
   "version": "3.11.5"
  }
 },
 "nbformat": 4,
 "nbformat_minor": 2
}
