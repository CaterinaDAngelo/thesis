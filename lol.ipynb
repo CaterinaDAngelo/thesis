{
 "cells": [
  {
   "cell_type": "code",
   "execution_count": 1,
   "metadata": {},
   "outputs": [
    {
     "name": "stderr",
     "output_type": "stream",
     "text": [
      "/mount/arbeitsdaten/tcl/Users/dangelo_thesis/thesis/.env/lib64/python3.9/site-packages/networkx/utils/backends.py:135: RuntimeWarning: networkx backend defined more than once: nx-loopback\n",
      "  backends.update(_get_backends(\"networkx.backends\"))\n",
      "/mount/arbeitsdaten/tcl/Users/dangelo_thesis/thesis/.env/lib64/python3.9/site-packages/tqdm/auto.py:21: TqdmWarning: IProgress not found. Please update jupyter and ipywidgets. See https://ipywidgets.readthedocs.io/en/stable/user_install.html\n",
      "  from .autonotebook import tqdm as notebook_tqdm\n",
      "/mount/arbeitsdaten/tcl/Users/dangelo_thesis/thesis/.env/lib64/python3.9/site-packages/transformers/utils/generic.py:441: UserWarning: torch.utils._pytree._register_pytree_node is deprecated. Please use torch.utils._pytree.register_pytree_node instead.\n",
      "  _torch_pytree._register_pytree_node(\n",
      "/mount/arbeitsdaten/tcl/Users/dangelo_thesis/thesis/.env/lib64/python3.9/site-packages/transformers/utils/generic.py:309: UserWarning: torch.utils._pytree._register_pytree_node is deprecated. Please use torch.utils._pytree.register_pytree_node instead.\n",
      "  _torch_pytree._register_pytree_node(\n"
     ]
    },
    {
     "name": "stdout",
     "output_type": "stream",
     "text": [
      "‎𐤀 CLTK version '1.2.3'. When using the CLTK in research, please cite: https://aclanthology.org/2021.acl-demo.3/\n",
      "\n",
      "Pipeline for language 'Ancient Greek' (ISO: 'grc'): `GreekNormalizeProcess`, `GreekStanzaProcess`, `GreekEmbeddingsProcess`, `StopsProcess`.\n",
      "\n",
      "⸖ ``LatinSpacyProcess`` using Stanza model by Stanford University from https://stanfordnlp.github.io/stanza/ . Please cite: https://arxiv.org/abs/2003.07082\n",
      "⸖ ``LatinEmbeddingsProcess`` using word2vec model by University of Oslo from http://vectors.nlpl.eu/ . Please cite: https://aclanthology.org/W17-0237/\n",
      "\n",
      "⸎ To suppress these messages, instantiate ``NLP()`` with ``suppress_banner=True``.\n"
     ]
    }
   ],
   "source": [
    "from my_functions_improved import *"
   ]
  },
  {
   "cell_type": "code",
   "execution_count": null,
   "metadata": {},
   "outputs": [],
   "source": [
    "empty_words = \"οὖν, ὡς, ὥστε, ἐάν, ἄρα, οὐκοῦν, τοίνυν, ἔπειτα, ἔνθα, τότε, ἐνταῦθα\"\n"
   ]
  },
  {
   "cell_type": "code",
   "execution_count": 2,
   "metadata": {},
   "outputs": [],
   "source": [
    "strings = [\"ἂν δὲ καὶ αὐτοὶ βάντες ἐπὶ κληῖσι καθῖζον\", \"ἑξῆς δ᾽ ἑζόμενοι πολιὴν ἅλα τύπτον ἐρετμοῖς\", \"ἔνθεν δὲ προτέρω πλέομεν ἀκαχήμενοι ἦτορ\", \"ἄσμενοι ἐκ θανάτοιο, φίλους ὀλέσαντες ἑταίρους\", \"νῆα μὲν οἵ γε μέλαιναν ἁλὸς βένθοσδε ἔρυσσαν\", \"τοὶ δὲ πρυμνήσι᾽ ἔλυσαν\"]"
   ]
  },
  {
   "cell_type": "code",
   "execution_count": 3,
   "metadata": {},
   "outputs": [],
   "source": [
    "paraphrases = [[\"ἂν δὲ καὶ αὐτοὶ βάντες ἐπὶ κληῖσι καθῖζον\", \"οἱ δ᾽ αἶψ᾽ εἴσβαινον καὶ ἐπὶ κληῖσι καθῖζον\"], [\"ἑξῆς δ᾽ ἑζόμενοι πολιὴν ἅλα τύπτον ἐρετμοῖς\"], [\"ἔνθεν δὲ προτέρω πλέομεν ἀκαχήμενοι ἦτορ\"], [\"ἄσμενοι ἐκ θανάτοιο, φίλους ὀλέσαντες ἑταίρους\"], [\"νῆα μὲν οἵ γε μέλαιναν ἁλὸς βένθοσδε ἔρυσσαν\", \"νῆα μὲν οὖν πάμπρωτον ἁλὸς βένθοσδε ἔρυσσαν\", \"ἀλλ᾽ ἄγε νῆα μέλαιναν ἐρύσσομεν εἰς ἅλα δῖαν\", \"νῆα μὲν ἂρ πάμπρωτον ἐρύσσαμεν εἰς ἅλα δῖαν\", \"νῆα μὲν οἵ γε μέλαιναν ἁλὸς βένθοσδε ἔρυσσαν\"], [\"τοὶ δὲ πρυμνήσι᾽ ἔλυσαν\", \"τε πρυμνήσια λῦσαι\"]]"
   ]
  },
  {
   "cell_type": "code",
   "execution_count": 25,
   "metadata": {},
   "outputs": [
    {
     "name": "stdout",
     "output_type": "stream",
     "text": [
      "True\n",
      "False\n"
     ]
    }
   ],
   "source": [
    "box = 'τοὶ δὲ πρυμνήσιʼ ἔλυσαν , ἂν δὲ καὶ αὐτοὶ βάντες ἐπὶ κληῖσι καθῖζον .'\n",
    "for cat in paraphrases[0]:\n",
    "    if cat in box:\n",
    "        print(True)\n",
    "    else:\n",
    "        print(False)"
   ]
  },
  {
   "cell_type": "code",
   "execution_count": 30,
   "metadata": {},
   "outputs": [],
   "source": [
    "def find_keyword_sentence(lemmata):\n",
    "    sents = []\n",
    "    for corpus_id, corpus in enumerate(corpora):\n",
    "\n",
    "        for sent_id in range(1, len(corpus)+1):\n",
    "            same_keywords = []\n",
    "\n",
    "            for word_dic in corpus[f\"{sent_id}\"]:\n",
    "\n",
    "                for lemma_pos in word_dic[f\"lemmas_pos\"]:\n",
    "                    corpus_lemma = lemma_pos[0]\n",
    "\n",
    "                    if corpus_lemma in lemmata and corpus_lemma not in same_keywords:\n",
    "                        same_keywords.append(corpus_lemma)\n",
    "\n",
    "            if len(same_keywords) >= 2:\n",
    "                word_forms = [dic[\"word_form\"] for dic in corpus[f\"{sent_id}\"]]\n",
    "                sent = \" \".join(word_forms) \n",
    "                lemma_id = f\"{corpus_id}_{sent_id}\"\n",
    "                id_sents = (lemma_id, sent)\n",
    "                sents.append(id_sents)\n",
    "\n",
    "    return sents"
   ]
  },
  {
   "cell_type": "code",
   "execution_count": 31,
   "metadata": {},
   "outputs": [
    {
     "name": "stdout",
     "output_type": "stream",
     "text": [
      "sentences with same keyword but different meaning than 'ἂν δὲ καὶ αὐτοὶ βάντες ἐπὶ κληῖσι καθῖζον' are:\n",
      "\n",
      "sentences with same keyword but different meaning than 'ἑξῆς δ᾽ ἑζόμενοι πολιὴν ἅλα τύπτον ἐρετμοῖς' are:\n",
      "\n",
      "sentences with same keyword but different meaning than 'ἔνθεν δὲ προτέρω πλέομεν ἀκαχήμενοι ἦτορ' are:\n",
      "\n",
      "sentences with same keyword but different meaning than 'ἄσμενοι ἐκ θανάτοιο, φίλους ὀλέσαντες ἑταίρους' are:\n",
      "\n",
      "sentences with same keyword but different meaning than 'νῆα μὲν οἵ γε μέλαιναν ἁλὸς βένθοσδε ἔρυσσαν' are:\n",
      "\n",
      "sentences with same keyword but different meaning than 'τοὶ δὲ πρυμνήσι᾽ ἔλυσαν' are:\n",
      "\n"
     ]
    }
   ],
   "source": [
    "for i, sentence in enumerate(strings):\n",
    "    print(f\"sentences with same keyword but different meaning than '{sentence}' are:\\n\")\n",
    "    sents = []\n",
    "    lemmata = lemmatize_cltk(sentence)\n",
    "    pos_tags = pos_tag_cltk(sentence)\n",
    "    good_lemmata = []\n",
    "    for lemma, pos in zip(lemmata, pos_tags):\n",
    "        if pos == \"n\" or pos == \"v\":\n",
    "            good_lemmata.append(lemma)\n",
    "    list_sents = find_keyword_sentence(good_lemmata)\n",
    "    for sent in list_sents:\n",
    "        check = False\n",
    "        for para in paraphrases[i]:\n",
    "            if para in sent:\n",
    "                check = True\n",
    "        if check == False:\n",
    "            sents.append(sent)\n",
    "\n",
    "\n",
    "            "
   ]
  }
 ],
 "metadata": {
  "kernelspec": {
   "display_name": ".venv",
   "language": "python",
   "name": "python3"
  },
  "language_info": {
   "codemirror_mode": {
    "name": "ipython",
    "version": 3
   },
   "file_extension": ".py",
   "mimetype": "text/x-python",
   "name": "python",
   "nbconvert_exporter": "python",
   "pygments_lexer": "ipython3",
   "version": "3.9.19"
  }
 },
 "nbformat": 4,
 "nbformat_minor": 2
}
