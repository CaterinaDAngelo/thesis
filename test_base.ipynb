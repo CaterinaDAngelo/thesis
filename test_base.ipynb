{
 "cells": [
  {
   "cell_type": "code",
   "execution_count": 1,
   "metadata": {},
   "outputs": [],
   "source": [
    "import os\n",
    "os.environ['CUDA_VISIBLE_DEVICES'] = '2'"
   ]
  },
  {
   "cell_type": "code",
   "execution_count": 1,
   "metadata": {},
   "outputs": [],
   "source": [
    "model_base = \"cabrooks/LOGION-base\""
   ]
  },
  {
   "cell_type": "code",
   "execution_count": 2,
   "metadata": {},
   "outputs": [
    {
     "name": "stderr",
     "output_type": "stream",
     "text": [
      "c:\\Users\\cate9\\AppData\\Local\\Programs\\Python\\Python311\\Lib\\site-packages\\transformers\\utils\\generic.py:441: UserWarning: torch.utils._pytree._register_pytree_node is deprecated. Please use torch.utils._pytree.register_pytree_node instead.\n",
      "  _torch_pytree._register_pytree_node(\n",
      "c:\\Users\\cate9\\AppData\\Local\\Programs\\Python\\Python311\\Lib\\site-packages\\transformers\\utils\\generic.py:309: UserWarning: torch.utils._pytree._register_pytree_node is deprecated. Please use torch.utils._pytree.register_pytree_node instead.\n",
      "  _torch_pytree._register_pytree_node(\n"
     ]
    }
   ],
   "source": [
    "from transformers import BertTokenizer, BertForMaskedLM\n",
    "tokenizer = BertTokenizer.from_pretrained(model_base)\n",
    "model = BertForMaskedLM.from_pretrained(model_base, output_hidden_states=True)"
   ]
  },
  {
   "cell_type": "code",
   "execution_count": 3,
   "metadata": {},
   "outputs": [
    {
     "name": "stdout",
     "output_type": "stream",
     "text": [
      "‎𐤀 CLTK version '1.3.0'. When using the CLTK in research, please cite: https://aclanthology.org/2021.acl-demo.3/\n",
      "\n",
      "Pipeline for language 'Ancient Greek' (ISO: 'grc'): `GreekNormalizeProcess`, `GreekSpacyProcess`, `GreekEmbeddingsProcess`, `StopsProcess`.\n",
      "\n",
      "⸖ ``GreekSpacyProcess`` using OdyCy model by Center for Humanities Computing Aarhus from https://huggingface.co/chcaa . Please cite: https://aclanthology.org/2023.latechclfl-1.14\n",
      "⸖ ``LatinEmbeddingsProcess`` using word2vec model by University of Oslo from http://vectors.nlpl.eu/ . Please cite: https://aclanthology.org/W17-0237/\n",
      "\n",
      "⸎ To suppress these messages, instantiate ``NLP()`` with ``suppress_banner=True``.\n"
     ]
    }
   ],
   "source": [
    "from my_functions_improved import *"
   ]
  },
  {
   "cell_type": "code",
   "execution_count": 5,
   "metadata": {},
   "outputs": [],
   "source": [
    "strings = [\"ἂν δὲ καὶ αὐτοὶ βάντες ἐπὶ κληῖσι καθῖζον\", \"ἑξῆς δ᾽ ἑζόμενοι πολιὴν ἅλα τύπτον ἐρετμοῖς\", \"ἔνθεν δὲ προτέρω πλέομεν ἀκαχήμενοι ἦτορ\", \"ἄσμενοι ἐκ θανάτοιο, φίλους ὀλέσαντες ἑταίρους\", \"νῆα μὲν οἵ γε μέλαιναν ἁλὸς βένθοσδε ἔρυσσαν\", \"τοὶ δὲ πρυμνήσι᾽ ἔλυσαν\"]"
   ]
  },
  {
   "cell_type": "code",
   "execution_count": 6,
   "metadata": {},
   "outputs": [],
   "source": [
    "# wordnet = create_wordnet(\"wn-data-grc.tab\")"
   ]
  },
  {
   "cell_type": "code",
   "execution_count": 7,
   "metadata": {},
   "outputs": [],
   "source": [
    "# lemma_list = get_list_lemmata()"
   ]
  },
  {
   "cell_type": "code",
   "execution_count": 8,
   "metadata": {},
   "outputs": [
    {
     "name": "stdout",
     "output_type": "stream",
     "text": [
      "['ἄν', 'δέ', 'καί', 'αὐτός', 'βαίνω', 'ἐπί', 'κληῖσι', 'καθίζω']\n",
      "['ἑξῆς', 'δ', '̓', 'ἕζομαι', 'πολιός', 'ἅλς', 'τύπτος', 'ἐρετμόν']\n",
      "['ἔνθεν', 'δέ', 'προτέρω', 'πλέω', 'ἀκαχήμενοι', 'ἦτορ']\n",
      "['ἄσμενος', 'ἐκ', 'θάνατος', ',', 'φίλος', 'ὄλλυμι', 'ἑταῖρος']\n",
      "['ναῦς', 'μέν', 'ὅς', 'γε', 'μέλας', 'ἅλς', 'βένθοσδες', 'ἐρύω']\n",
      "['ὁ', 'δέ', 'πρυμνήσι', '̓', 'λύω']\n"
     ]
    }
   ],
   "source": [
    "syns = []\n",
    "for text in strings:\n",
    "\n",
    "    syn = get_synonims(text, lemmatization=\"cltk\")\n",
    "    syns.append(syn)\n"
   ]
  },
  {
   "cell_type": "code",
   "execution_count": 9,
   "metadata": {},
   "outputs": [
    {
     "data": {
      "text/plain": [
       "[{'βαίνω': ('v', ['πατέω', 'ἕρπω', 'στείχω', 'διαβαίνω']),\n",
       "  'καθίζω': ('v',\n",
       "   ['συγκαλέω',\n",
       "    'συνάγω',\n",
       "    'προτίθημι',\n",
       "    'χῶρος',\n",
       "    'κατατίθημι',\n",
       "    'ἵζω',\n",
       "    'τίθημι',\n",
       "    'ἀγών',\n",
       "    'πέμπω',\n",
       "    'ὑφίστημι',\n",
       "    'θεσμός',\n",
       "    'ἰάλλω',\n",
       "    'καθίστημι',\n",
       "    'ἰάπτω',\n",
       "    'ὑπομιμνήσκω',\n",
       "    'καταδύω',\n",
       "    'ἐπικλίνω',\n",
       "    'ὑποστόρνυμι',\n",
       "    'λέγω',\n",
       "    'στηρίζω',\n",
       "    'εὐνάζω',\n",
       "    'οἴμη',\n",
       "    'εὐνάω',\n",
       "    'μιμνήσκω',\n",
       "    'ὑποβάλλω',\n",
       "    'ἐφίστημι',\n",
       "    'ἐπιτίθημι',\n",
       "    'ἐπιφέρω',\n",
       "    'ἱζάνω',\n",
       "    'προκαθίζω',\n",
       "    'καθιζάνω',\n",
       "    'θάσσω',\n",
       "    'ἕζομαι',\n",
       "    'θαάσσω',\n",
       "    'ὀχέω',\n",
       "    'κελητίζω',\n",
       "    'ἐπιτρέπω'])},\n",
       " {'ἕζομαι': ('v',\n",
       "   ['ἱζάνω',\n",
       "    'προκαθίζω',\n",
       "    'καθιζάνω',\n",
       "    'θάσσω',\n",
       "    'ἵζω',\n",
       "    'καθίζω',\n",
       "    'θαάσσω',\n",
       "    'ὀχέω',\n",
       "    'κελητίζω']),\n",
       "  'ἅλς': ('n', ['ἁλμυρός', 'πόντος', 'θάλασσα', 'πέλαγος'])},\n",
       " {'ἔνθεν': ('r',\n",
       "   ['ἔπειτα',\n",
       "    'ὧδε',\n",
       "    'τῷ',\n",
       "    'τώς',\n",
       "    'οὖν',\n",
       "    'καί',\n",
       "    'ἔνθα',\n",
       "    'ἄρα',\n",
       "    'τῆμος',\n",
       "    'οὕτως',\n",
       "    'ὡς',\n",
       "    'τότε']),\n",
       "  'προτέρω': ('r', ['πρόσω']),\n",
       "  'πλέω': ('v', ['ἱστίον', 'πλόος', 'ὀχέω', 'σπεῖρον']),\n",
       "  'ἦτορ': ('n',\n",
       "   ['καρδία',\n",
       "    'θυμός',\n",
       "    'κῆρ',\n",
       "    'κόλπος',\n",
       "    'ἐδητύς',\n",
       "    'περίειμι',\n",
       "    'ἐδωδή',\n",
       "    'βρῶσις',\n",
       "    'μέτειμι',\n",
       "    'μυελός',\n",
       "    'ἄπειμι',\n",
       "    'ἔξειμι',\n",
       "    'ἔνειμι',\n",
       "    'ζωή',\n",
       "    'βίοτος',\n",
       "    'χρή',\n",
       "    'πάρειμι',\n",
       "    'ὕπειμι',\n",
       "    'σύνειμι',\n",
       "    'ἔπειμι',\n",
       "    'κρέας',\n",
       "    'τέλος',\n",
       "    'πεῖσις',\n",
       "    'φιλότης',\n",
       "    'ὤψ',\n",
       "    'ὀφθαλμός',\n",
       "    'ὄμμα',\n",
       "    'μέσος',\n",
       "    'ὄψ',\n",
       "    'μεσήεις'])},\n",
       " {'ἄσμενος': ('a', ['ἀσπάσιος', 'γηθόσυνος']),\n",
       "  'θάνατος': ('n',\n",
       "   ['μόρος',\n",
       "    'λοιγός',\n",
       "    'ὄλεθρος',\n",
       "    'πότμος',\n",
       "    'λοῖσθος',\n",
       "    'νέατος',\n",
       "    'ὕστερος',\n",
       "    'πύματος']),\n",
       "  'φίλος': ('a', ['ἐπίηρα', 'ἐπιήρανος']),\n",
       "  'ὄλλυμι': ('v',\n",
       "   ['ὁδεύω',\n",
       "    'φθινύθω',\n",
       "    'εἶμι',\n",
       "    'παρεξελαύνω',\n",
       "    'κάτειμι',\n",
       "    'ἐξέρχομαι',\n",
       "    'ἀποφθινύθω',\n",
       "    'προβλώσκω',\n",
       "    'οἰχνέω',\n",
       "    'ἀμείβω',\n",
       "    'καταφθίω',\n",
       "    'προσστείχω',\n",
       "    'πάρειμι',\n",
       "    'στείχω',\n",
       "    'ἀπόλλυμι',\n",
       "    'καταβαίνω',\n",
       "    'περιτέλλομαι',\n",
       "    'ἀποφθίνω',\n",
       "    'ἄγχω',\n",
       "    'διείρω',\n",
       "    'φοιτάω',\n",
       "    'ὑπέρχομαι',\n",
       "    'ἔρχομαι',\n",
       "    'κίω',\n",
       "    'βλώσκω',\n",
       "    'διαρραίω',\n",
       "    'ὀλέκω',\n",
       "    'κεραΐζω',\n",
       "    'φθείρω',\n",
       "    'πορθέω',\n",
       "    'πέρθω',\n",
       "    'καταλύω',\n",
       "    'λοιγός',\n",
       "    'σιφλόω',\n",
       "    'ὄλεθρος',\n",
       "    'ἀρή',\n",
       "    'δέω',\n",
       "    'ἀβροτάζω',\n",
       "    'δεύω',\n",
       "    'ἁμαρτάνω',\n",
       "    'ἀφαμαρτάνω']),\n",
       "  'ἑταῖρος': ('n',\n",
       "   ['κασίγνητος',\n",
       "    'ὀπάων',\n",
       "    'δαήρ',\n",
       "    'ἑταίρα',\n",
       "    'γνώριμος',\n",
       "    'συνίστημι',\n",
       "    'ἠθεῖος'])},\n",
       " {'μέλας': ('a',\n",
       "   ['δαφοινεός',\n",
       "    'πορφύρεος',\n",
       "    'ἐρεμνός',\n",
       "    'κελαινός',\n",
       "    'δνοφερός',\n",
       "    'σκότιος',\n",
       "    'ἰόεις',\n",
       "    'ἐρεβεννός',\n",
       "    'ἠεροειδής',\n",
       "    'μόρφνος',\n",
       "    'κυάνεος',\n",
       "    'ἀμαυρός',\n",
       "    'ὀρφναῖος',\n",
       "    'ἐπισμυγερός',\n",
       "    'βλοσυρός',\n",
       "    'ἠερόεις',\n",
       "    'λυπρός',\n",
       "    'αἰνός',\n",
       "    'ζάκοτος']),\n",
       "  'ἅλς': ('n', ['ἁλμυρός', 'πόντος', 'θάλασσα', 'πέλαγος']),\n",
       "  'ἐρύω': ('v',\n",
       "   ['ἐνέπω',\n",
       "    'ἐξέλκω',\n",
       "    'ἕλκω',\n",
       "    'κατερύω',\n",
       "    'ἀφύσσω',\n",
       "    'σπάω',\n",
       "    'τιταίνω',\n",
       "    'ἀμάω',\n",
       "    'ὑδρεύω',\n",
       "    'βιάζω',\n",
       "    'κῖκυς',\n",
       "    'ἴς',\n",
       "    'ὠθέω',\n",
       "    'βία',\n",
       "    'ἀνάγκη',\n",
       "    'ἐρωή',\n",
       "    'μένος',\n",
       "    'ἐφέλκω',\n",
       "    'ἑλκέω',\n",
       "    'χανδάνω',\n",
       "    'αἴρω',\n",
       "    'ἀναδέχομαι',\n",
       "    'ἀναιρέω',\n",
       "    'στάθμη',\n",
       "    'ἴχνος',\n",
       "    'στίξ',\n",
       "    'μήρινθος',\n",
       "    'ἐρευνάω',\n",
       "    'ἴχνιον',\n",
       "    'ἐκσπάω',\n",
       "    'ἐξαιρέω',\n",
       "    'ἄρνυμαι',\n",
       "    'ὑπείκω',\n",
       "    'διαφύσσω',\n",
       "    'ὑποχωρέω',\n",
       "    'λιάζομαι',\n",
       "    'χωρέω',\n",
       "    'ἀναχάζομαι',\n",
       "    'ὑπάγω',\n",
       "    'ὑπεξάγω',\n",
       "    'κορέω'])},\n",
       " {'λύω': ('v',\n",
       "   ['ἐκλύω', 'χαίτη', 'ἄποινα', 'ἀναλύω', 'μεθίημι', 'ἐλεύθερος'])}]"
      ]
     },
     "execution_count": 9,
     "metadata": {},
     "output_type": "execute_result"
    }
   ],
   "source": [
    "syns"
   ]
  },
  {
   "cell_type": "code",
   "execution_count": 10,
   "metadata": {},
   "outputs": [
    {
     "data": {
      "text/plain": [
       "['ἑξῆς', 'δ᾽', 'ἕζομαι', 'πολιός', 'ἅλας', 'τύπτω', 'ἐρετμόν']"
      ]
     },
     "execution_count": 10,
     "metadata": {},
     "output_type": "execute_result"
    }
   ],
   "source": [
    "sentence_no_punct = remove_punctuation(strings[1])\n",
    "lemmata = lemmatize_grecy(sentence_no_punct)\n",
    "lemmata = remove_blanks(lemmata)\n",
    "lemmata"
   ]
  },
  {
   "cell_type": "code",
   "execution_count": 11,
   "metadata": {},
   "outputs": [
    {
     "data": {
      "text/plain": [
       "'ἕζομαι'"
      ]
     },
     "execution_count": 11,
     "metadata": {},
     "output_type": "execute_result"
    }
   ],
   "source": [
    "sentence_no_punct = remove_punctuation(strings[1])\n",
    "lemmata = lemmatize_cltk(sentence_no_punct)\n",
    "lemmata = remove_blanks(lemmata)\n",
    "lemmata[2]"
   ]
  },
  {
   "cell_type": "code",
   "execution_count": 9,
   "metadata": {},
   "outputs": [
    {
     "name": "stdout",
     "output_type": "stream",
     "text": [
      "βαίνω\n",
      "βάντες\n",
      "καθίζω\n",
      "καθῖζον\n",
      "ἕζομαι\n",
      "ἑζόμενοι\n",
      "ἅλς\n",
      "ἅλα\n",
      "ἔνθεν\n",
      "ἔνθεν\n",
      "προτέρω\n",
      "προτέρω\n",
      "πλέω\n",
      "πλέομεν\n",
      "ἦτορ\n",
      "ἦτορ\n",
      "ἄσμενος\n",
      "ἄσμενοι\n",
      "θάνατος\n",
      "θανάτοιο\n",
      "φίλος\n",
      "φίλους\n",
      "ὄλλυμι\n",
      "ὀλέσαντες\n",
      "ἑταῖρος\n",
      "ἑταίρους\n",
      "μέλας\n",
      "μέλαιναν\n",
      "ἅλς\n",
      "ἁλὸς\n",
      "ἐρύω\n",
      "ἔρυσσαν\n",
      "λύω\n",
      "ἔλυσαν\n"
     ]
    }
   ],
   "source": [
    "similarity_dicts = []\n",
    "for syn, sentence in zip(syns, strings):\n",
    "    sim_dic = dic_similarities(syn, sentence, w2v = True, lemmatization=\"cltk\")\n",
    "    similarity_dicts.append(sim_dic)"
   ]
  },
  {
   "cell_type": "code",
   "execution_count": 13,
   "metadata": {},
   "outputs": [],
   "source": [
    "import pickle"
   ]
  },
  {
   "cell_type": "code",
   "execution_count": 14,
   "metadata": {},
   "outputs": [
    {
     "data": {
      "text/plain": [
       "[{'βαίνω': [('πατέω', array([[0.]])),\n",
       "   ('ἕρπω', array([[0.87936157]], dtype=float32)),\n",
       "   ('στείχω', array([[0.8118147]], dtype=float32)),\n",
       "   ('διαβαίνω', array([[0.88808715]], dtype=float32))],\n",
       "  'καθίζω': [('συγκαλέω', array([[0.4999244]], dtype=float32)),\n",
       "   ('συνάγω', array([[0.]])),\n",
       "   ('προτίθημι', array([[0.]])),\n",
       "   ('κατατίθημι', array([[0.9275684]], dtype=float32)),\n",
       "   ('ἵζω', array([[0.94065994]], dtype=float32)),\n",
       "   ('τίθημι', array([[0.89339024]], dtype=float32)),\n",
       "   ('πέμπω', array([[0.7911981]], dtype=float32)),\n",
       "   ('ὑφίστημι', array([[0.81488335]], dtype=float32)),\n",
       "   ('ἰάλλω', array([[0.91808397]], dtype=float32)),\n",
       "   ('καθίστημι', array([[0.3065406]], dtype=float32)),\n",
       "   ('ἰάπτω', array([[0.]])),\n",
       "   ('ὑπομιμνήσκω', array([[0.]])),\n",
       "   ('καταδύω', array([[0.94029063]], dtype=float32)),\n",
       "   ('ἐπικλίνω', array([[0.]])),\n",
       "   ('ὑποστόρνυμι', array([[0.]])),\n",
       "   ('λέγω', array([[0.6852222]], dtype=float32)),\n",
       "   ('στηρίζω', array([[0.]])),\n",
       "   ('εὐνάζω', array([[0.]])),\n",
       "   ('εὐνάω', array([[0.89377445]], dtype=float32)),\n",
       "   ('μιμνήσκω', array([[0.]])),\n",
       "   ('ὑποβάλλω', array([[0.]])),\n",
       "   ('ἐφίστημι', array([[0.86465937]], dtype=float32)),\n",
       "   ('ἐπιτίθημι', array([[0.7376522]], dtype=float32)),\n",
       "   ('ἐπιφέρω', array([[0.]])),\n",
       "   ('ἱζάνω', array([[0.]])),\n",
       "   ('προκαθίζω', array([[0.]])),\n",
       "   ('καθιζάνω', array([[0.]])),\n",
       "   ('θάσσω', array([[0.]])),\n",
       "   ('ἕζομαι', array([[0.]])),\n",
       "   ('θαάσσω', array([[0.]])),\n",
       "   ('ὀχέω', array([[0.]])),\n",
       "   ('κελητίζω', array([[0.]])),\n",
       "   ('ἐπιτρέπω', array([[0.]]))]},\n",
       " {'ἕζομαι': [('ἱζάνω', array([[0.]])),\n",
       "   ('προκαθίζω', array([[0.]])),\n",
       "   ('καθιζάνω', array([[0.]])),\n",
       "   ('θάσσω', array([[0.]])),\n",
       "   ('ἵζω', array([[0.94544786]], dtype=float32)),\n",
       "   ('καθίζω', array([[0.6097423]], dtype=float32)),\n",
       "   ('θαάσσω', array([[0.]])),\n",
       "   ('ὀχέω', array([[0.]])),\n",
       "   ('κελητίζω', array([[0.]]))],\n",
       "  'ἅλς': [('πόντος', array([[0.8627716]], dtype=float32)),\n",
       "   ('θάλασσα', array([[0.63115036]], dtype=float32)),\n",
       "   ('πέλαγος', array([[0.57393265]], dtype=float32))]},\n",
       " {'ἔνθεν': [],\n",
       "  'προτέρω': [],\n",
       "  'πλέω': [('ὀχέω', array([[0.]]))],\n",
       "  'ἦτορ': [('καρδία', array([[0.9150743]], dtype=float32)),\n",
       "   ('θυμός', array([[0.84776026]], dtype=float32)),\n",
       "   ('κῆρ', array([[0.9536104]], dtype=float32)),\n",
       "   ('κόλπος', array([[0.43203554]], dtype=float32)),\n",
       "   ('ἐδητύς', array([[0.84265816]], dtype=float32)),\n",
       "   ('ἐδωδή', array([[0.8805077]], dtype=float32)),\n",
       "   ('βρῶσις', array([[0.]])),\n",
       "   ('μυελός', array([[0.67377317]], dtype=float32)),\n",
       "   ('ζωή', array([[0.44925493]], dtype=float32)),\n",
       "   ('βίοτος', array([[0.89602196]], dtype=float32)),\n",
       "   ('κρέας', array([[0.48305568]], dtype=float32)),\n",
       "   ('τέλος', array([[0.28256005]], dtype=float32)),\n",
       "   ('πεῖσις', array([[0.5542543]], dtype=float32)),\n",
       "   ('φιλότης', array([[0.9219688]], dtype=float32)),\n",
       "   ('ὤψ', array([[0.86704195]], dtype=float32)),\n",
       "   ('ὀφθαλμός', array([[0.9201549]], dtype=float32)),\n",
       "   ('ὄμμα', array([[0.8992505]], dtype=float32)),\n",
       "   ('ὄψ', array([[0.89018774]], dtype=float32))]},\n",
       " {'ἄσμενος': [('ἀσπάσιος', array([[0.]])),\n",
       "   ('γηθόσυνος', array([[0.6544451]], dtype=float32))],\n",
       "  'θάνατος': [('μόρος', array([[0.8961159]], dtype=float32)),\n",
       "   ('λοιγός', array([[0.9574239]], dtype=float32)),\n",
       "   ('ὄλεθρος', array([[0.8075735]], dtype=float32)),\n",
       "   ('πότμος', array([[0.9514941]], dtype=float32))],\n",
       "  'φίλος': [('ἐπιήρανος', array([[0.]]))],\n",
       "  'ὄλλυμι': [('ὁδεύω', array([[0.]])),\n",
       "   ('φθινύθω', array([[0.]])),\n",
       "   ('εἶμι', array([[0.]])),\n",
       "   ('παρεξελαύνω', array([[0.]])),\n",
       "   ('κάτειμι', array([[0.]])),\n",
       "   ('ἐξέρχομαι', array([[0.]])),\n",
       "   ('ἀποφθινύθω', array([[0.]])),\n",
       "   ('προβλώσκω', array([[0.]])),\n",
       "   ('οἰχνέω', array([[0.]])),\n",
       "   ('ἀμείβω', array([[0.]])),\n",
       "   ('καταφθίω', array([[0.]])),\n",
       "   ('προσστείχω', array([[0.]])),\n",
       "   ('πάρειμι', array([[0.]])),\n",
       "   ('στείχω', array([[0.]])),\n",
       "   ('ἀπόλλυμι', array([[0.]])),\n",
       "   ('καταβαίνω', array([[0.]])),\n",
       "   ('περιτέλλομαι', array([[0.]])),\n",
       "   ('ἀποφθίνω', array([[0.]])),\n",
       "   ('ἄγχω', array([[0.]])),\n",
       "   ('διείρω', array([[0.]])),\n",
       "   ('φοιτάω', array([[0.]])),\n",
       "   ('ὑπέρχομαι', array([[0.]])),\n",
       "   ('ἔρχομαι', array([[0.]])),\n",
       "   ('κίω', array([[0.]])),\n",
       "   ('βλώσκω', array([[0.]])),\n",
       "   ('διαρραίω', array([[0.]])),\n",
       "   ('ὀλέκω', array([[0.]])),\n",
       "   ('κεραΐζω', array([[0.]])),\n",
       "   ('φθείρω', array([[0.]])),\n",
       "   ('πορθέω', array([[0.]])),\n",
       "   ('πέρθω', array([[0.]])),\n",
       "   ('καταλύω', array([[0.]])),\n",
       "   ('σιφλόω', array([[0.]])),\n",
       "   ('δέω', array([[0.]])),\n",
       "   ('ἀβροτάζω', array([[0.]])),\n",
       "   ('δεύω', array([[0.]])),\n",
       "   ('ἁμαρτάνω', array([[0.]])),\n",
       "   ('ἀφαμαρτάνω', array([[0.]]))],\n",
       "  'ἑταῖρος': [('κασίγνητος', array([[0.652671]], dtype=float32)),\n",
       "   ('ὀπάων', array([[0.6865569]], dtype=float32)),\n",
       "   ('δαήρ', array([[0.]])),\n",
       "   ('ἑταίρα', array([[0.]]))]},\n",
       " {'μέλας': [('δαφοινεός', array([[0.]])),\n",
       "   ('πορφύρεος', array([[0.919291]], dtype=float32)),\n",
       "   ('ἐρεμνός', array([[0.]])),\n",
       "   ('κελαινός', array([[0.91258585]], dtype=float32)),\n",
       "   ('δνοφερός', array([[0.]])),\n",
       "   ('σκότιος', array([[0.]])),\n",
       "   ('ἰόεις', array([[0.]])),\n",
       "   ('ἐρεβεννός', array([[0.]])),\n",
       "   ('ἠεροειδής', array([[0.8903672]], dtype=float32)),\n",
       "   ('κυάνεος', array([[0.86166805]], dtype=float32)),\n",
       "   ('ἀμαυρός', array([[0.]])),\n",
       "   ('ὀρφναῖος', array([[0.]])),\n",
       "   ('βλοσυρός', array([[0.]])),\n",
       "   ('ἠερόεις', array([[0.9170921]], dtype=float32)),\n",
       "   ('λυπρός', array([[0.]])),\n",
       "   ('αἰνός', array([[0.89904654]], dtype=float32)),\n",
       "   ('ζάκοτος', array([[0.]]))],\n",
       "  'ἅλς': [('πόντος', array([[0.9056081]], dtype=float32)),\n",
       "   ('θάλασσα', array([[0.63273585]], dtype=float32)),\n",
       "   ('πέλαγος', array([[0.5036702]], dtype=float32))],\n",
       "  'ἐρύω': [('ἐνέπω', array([[0.]])),\n",
       "   ('ἐξέλκω', array([[0.]])),\n",
       "   ('ἕλκω', array([[0.]])),\n",
       "   ('κατερύω', array([[0.]])),\n",
       "   ('ἀφύσσω', array([[0.]])),\n",
       "   ('σπάω', array([[0.]])),\n",
       "   ('τιταίνω', array([[0.]])),\n",
       "   ('ἀμάω', array([[0.]])),\n",
       "   ('ὑδρεύω', array([[0.]])),\n",
       "   ('βιάζω', array([[0.]])),\n",
       "   ('ὠθέω', array([[0.]])),\n",
       "   ('ἐφέλκω', array([[0.]])),\n",
       "   ('ἑλκέω', array([[0.]])),\n",
       "   ('χανδάνω', array([[0.]])),\n",
       "   ('αἴρω', array([[0.]])),\n",
       "   ('ἀναδέχομαι', array([[0.]])),\n",
       "   ('ἀναιρέω', array([[0.]])),\n",
       "   ('ἐρευνάω', array([[0.]])),\n",
       "   ('ἐκσπάω', array([[0.]])),\n",
       "   ('ἐξαιρέω', array([[0.]])),\n",
       "   ('ἄρνυμαι', array([[0.]])),\n",
       "   ('ὑπείκω', array([[0.]])),\n",
       "   ('διαφύσσω', array([[0.]])),\n",
       "   ('ὑποχωρέω', array([[0.]])),\n",
       "   ('λιάζομαι', array([[0.]])),\n",
       "   ('χωρέω', array([[0.]])),\n",
       "   ('ἀναχάζομαι', array([[0.]])),\n",
       "   ('ὑπάγω', array([[0.]])),\n",
       "   ('ὑπεξάγω', array([[0.]])),\n",
       "   ('κορέω', array([[0.]]))]},\n",
       " {'λύω': [('ἐκλύω', array([[0.6771968]], dtype=float32)),\n",
       "   ('ἀναλύω', array([[0.]])),\n",
       "   ('μεθίημι', array([[0.]]))]}]"
      ]
     },
     "execution_count": 14,
     "metadata": {},
     "output_type": "execute_result"
    }
   ],
   "source": [
    "similarity_dicts"
   ]
  },
  {
   "cell_type": "code",
   "execution_count": 16,
   "metadata": {},
   "outputs": [],
   "source": [
    "with open(\"sents_sim_dict.pickle\", \"wb\") as outfile:\n",
    "    pickle.dump(similarity_dicts, outfile)"
   ]
  },
  {
   "cell_type": "code",
   "execution_count": 10,
   "metadata": {},
   "outputs": [
    {
     "name": "stdout",
     "output_type": "stream",
     "text": [
      "The best synonyms for βαίνω are:\n",
      "\tδιαβαίνω with a score of [[0.88808715]]\n",
      "\tἕρπω with a score of [[0.87936157]]\n",
      "\tστείχω with a score of [[0.8118147]]\n",
      "\tπατέω with a score of [[0.]]\n",
      "The best synonyms for καθίζω are:\n",
      "\tἵζω with a score of [[0.94065994]]\n",
      "\tκαταδύω with a score of [[0.94029063]]\n",
      "\tκατατίθημι with a score of [[0.9275684]]\n",
      "\tἰάλλω with a score of [[0.91808397]]\n",
      "\tεὐνάω with a score of [[0.89377445]]\n",
      "\tτίθημι with a score of [[0.89339024]]\n",
      "\tἐφίστημι with a score of [[0.86465937]]\n",
      "\tὑφίστημι with a score of [[0.81488335]]\n",
      "\tπέμπω with a score of [[0.7911981]]\n",
      "\tἐπιτίθημι with a score of [[0.7376522]]\n",
      "\tλέγω with a score of [[0.6852222]]\n",
      "\tσυγκαλέω with a score of [[0.4999244]]\n",
      "\tκαθίστημι with a score of [[0.3065406]]\n",
      "\tσυνάγω with a score of [[0.]]\n",
      "\tπροτίθημι with a score of [[0.]]\n",
      "\tἰάπτω with a score of [[0.]]\n",
      "\tὑπομιμνήσκω with a score of [[0.]]\n",
      "\tἐπικλίνω with a score of [[0.]]\n",
      "\tὑποστόρνυμι with a score of [[0.]]\n",
      "\tστηρίζω with a score of [[0.]]\n",
      "The best synonyms for ἕζομαι are:\n",
      "\tἵζω with a score of [[0.94544786]]\n",
      "\tκαθίζω with a score of [[0.6097423]]\n",
      "\tἱζάνω with a score of [[0.]]\n",
      "\tπροκαθίζω with a score of [[0.]]\n",
      "\tκαθιζάνω with a score of [[0.]]\n",
      "\tθάσσω with a score of [[0.]]\n",
      "\tθαάσσω with a score of [[0.]]\n",
      "\tὀχέω with a score of [[0.]]\n",
      "\tκελητίζω with a score of [[0.]]\n",
      "The best synonyms for ἅλς are:\n",
      "\tπόντος with a score of [[0.8627716]]\n",
      "\tθάλασσα with a score of [[0.63115036]]\n",
      "\tπέλαγος with a score of [[0.57393265]]\n",
      "The best synonyms for ἔνθεν are:\n",
      "The best synonyms for προτέρω are:\n",
      "The best synonyms for πλέω are:\n",
      "\tὀχέω with a score of [[0.]]\n",
      "The best synonyms for ἦτορ are:\n",
      "\tκῆρ with a score of [[0.9536104]]\n",
      "\tφιλότης with a score of [[0.9219688]]\n",
      "\tὀφθαλμός with a score of [[0.9201549]]\n",
      "\tκαρδία with a score of [[0.9150743]]\n",
      "\tὄμμα with a score of [[0.8992505]]\n",
      "\tβίοτος with a score of [[0.89602196]]\n",
      "\tὄψ with a score of [[0.89018774]]\n",
      "\tἐδωδή with a score of [[0.8805077]]\n",
      "\tὤψ with a score of [[0.86704195]]\n",
      "\tθυμός with a score of [[0.84776026]]\n",
      "\tἐδητύς with a score of [[0.84265816]]\n",
      "\tμυελός with a score of [[0.67377317]]\n",
      "\tπεῖσις with a score of [[0.5542543]]\n",
      "\tκρέας with a score of [[0.48305568]]\n",
      "\tζωή with a score of [[0.44925493]]\n",
      "\tκόλπος with a score of [[0.43203554]]\n",
      "\tτέλος with a score of [[0.28256005]]\n",
      "\tβρῶσις with a score of [[0.]]\n",
      "The best synonyms for ἄσμενος are:\n",
      "\tγηθόσυνος with a score of [[0.6544451]]\n",
      "\tἀσπάσιος with a score of [[0.]]\n",
      "The best synonyms for θάνατος are:\n",
      "\tλοιγός with a score of [[0.9574239]]\n",
      "\tπότμος with a score of [[0.9514941]]\n",
      "\tμόρος with a score of [[0.8961159]]\n",
      "\tὄλεθρος with a score of [[0.8075735]]\n",
      "The best synonyms for φίλος are:\n",
      "\tἐπιήρανος with a score of [[0.]]\n",
      "The best synonyms for ὄλλυμι are:\n",
      "\tὁδεύω with a score of [[0.]]\n",
      "\tφθινύθω with a score of [[0.]]\n",
      "\tεἶμι with a score of [[0.]]\n",
      "\tπαρεξελαύνω with a score of [[0.]]\n",
      "\tκάτειμι with a score of [[0.]]\n",
      "\tἐξέρχομαι with a score of [[0.]]\n",
      "\tἀποφθινύθω with a score of [[0.]]\n",
      "\tπροβλώσκω with a score of [[0.]]\n",
      "\tοἰχνέω with a score of [[0.]]\n",
      "\tἀμείβω with a score of [[0.]]\n",
      "\tκαταφθίω with a score of [[0.]]\n",
      "\tπροσστείχω with a score of [[0.]]\n",
      "\tπάρειμι with a score of [[0.]]\n",
      "\tστείχω with a score of [[0.]]\n",
      "\tἀπόλλυμι with a score of [[0.]]\n",
      "\tκαταβαίνω with a score of [[0.]]\n",
      "\tπεριτέλλομαι with a score of [[0.]]\n",
      "\tἀποφθίνω with a score of [[0.]]\n",
      "\tἄγχω with a score of [[0.]]\n",
      "\tδιείρω with a score of [[0.]]\n",
      "The best synonyms for ἑταῖρος are:\n",
      "\tὀπάων with a score of [[0.6865569]]\n",
      "\tκασίγνητος with a score of [[0.652671]]\n",
      "\tδαήρ with a score of [[0.]]\n",
      "\tἑταίρα with a score of [[0.]]\n",
      "The best synonyms for μέλας are:\n",
      "\tπορφύρεος with a score of [[0.919291]]\n",
      "\tἠερόεις with a score of [[0.9170921]]\n",
      "\tκελαινός with a score of [[0.91258585]]\n",
      "\tαἰνός with a score of [[0.89904654]]\n",
      "\tἠεροειδής with a score of [[0.8903672]]\n",
      "\tκυάνεος with a score of [[0.86166805]]\n",
      "\tδαφοινεός with a score of [[0.]]\n",
      "\tἐρεμνός with a score of [[0.]]\n",
      "\tδνοφερός with a score of [[0.]]\n",
      "\tσκότιος with a score of [[0.]]\n",
      "\tἰόεις with a score of [[0.]]\n",
      "\tἐρεβεννός with a score of [[0.]]\n",
      "\tἀμαυρός with a score of [[0.]]\n",
      "\tὀρφναῖος with a score of [[0.]]\n",
      "\tβλοσυρός with a score of [[0.]]\n",
      "\tλυπρός with a score of [[0.]]\n",
      "\tζάκοτος with a score of [[0.]]\n",
      "The best synonyms for ἅλς are:\n",
      "\tπόντος with a score of [[0.9056081]]\n",
      "\tθάλασσα with a score of [[0.63273585]]\n",
      "\tπέλαγος with a score of [[0.5036702]]\n",
      "The best synonyms for ἐρύω are:\n",
      "\tἐνέπω with a score of [[0.]]\n",
      "\tἐξέλκω with a score of [[0.]]\n",
      "\tἕλκω with a score of [[0.]]\n",
      "\tκατερύω with a score of [[0.]]\n",
      "\tἀφύσσω with a score of [[0.]]\n",
      "\tσπάω with a score of [[0.]]\n",
      "\tτιταίνω with a score of [[0.]]\n",
      "\tἀμάω with a score of [[0.]]\n",
      "\tὑδρεύω with a score of [[0.]]\n",
      "\tβιάζω with a score of [[0.]]\n",
      "\tὠθέω with a score of [[0.]]\n",
      "\tἐφέλκω with a score of [[0.]]\n",
      "\tἑλκέω with a score of [[0.]]\n",
      "\tχανδάνω with a score of [[0.]]\n",
      "\tαἴρω with a score of [[0.]]\n",
      "\tἀναδέχομαι with a score of [[0.]]\n",
      "\tἀναιρέω with a score of [[0.]]\n",
      "\tἐρευνάω with a score of [[0.]]\n",
      "\tἐκσπάω with a score of [[0.]]\n",
      "\tἐξαιρέω with a score of [[0.]]\n",
      "The best synonyms for λύω are:\n",
      "\tἐκλύω with a score of [[0.6771968]]\n",
      "\tἀναλύω with a score of [[0.]]\n",
      "\tμεθίημι with a score of [[0.]]\n"
     ]
    }
   ],
   "source": [
    "for sim_dic in similarity_dicts:\n",
    "    report_similarities(sim_dic)"
   ]
  },
  {
   "cell_type": "code",
   "execution_count": 4,
   "metadata": {},
   "outputs": [],
   "source": [
    "import statistics"
   ]
  },
  {
   "cell_type": "code",
   "execution_count": 5,
   "metadata": {},
   "outputs": [],
   "source": [
    "import numpy as np"
   ]
  },
  {
   "cell_type": "code",
   "execution_count": null,
   "metadata": {},
   "outputs": [],
   "source": [
    "variances = []\n",
    "for i in range(len(sents_sim)):\n",
    "\n",
    "    for lemma in sents_sim[f\"sentence {i}\"]:\n",
    "        values = [t.item() for (s, t) in sents_sim[f\"sentence {i}\"][f\"{lemma}\"]] # taking the similarity scores to search for the maximum\n",
    "        values = np.array(values)\n",
    "        var = np.var(values)\n",
    "        print(f\"The variance for the lemma {lemma} is {var}\")\n",
    "        variances.append(var)\n",
    "\n",
    "print(f\"The mean variance is {statistics.mean(variances)}\")"
   ]
  },
  {
   "cell_type": "code",
   "execution_count": 7,
   "metadata": {},
   "outputs": [
    {
     "name": "stdout",
     "output_type": "stream",
     "text": [
      "0.5946506430705388\n"
     ]
    }
   ],
   "source": [
    "vals = []\n",
    "for i in range(len(sents_sim)):\n",
    "\n",
    "    for lemma in sents_sim[f\"sentence {i}\"]:\n",
    "        values = [t.item() for (s, t) in sents_sim[f\"sentence {i}\"][f\"{lemma}\"]] # taking the similarity scores to search for the maximum\n",
    "        max_value = max(values)\n",
    "        vals.append(max_value)\n",
    "\n",
    "print(statistics.mean(vals))"
   ]
  },
  {
   "cell_type": "code",
   "execution_count": 7,
   "metadata": {},
   "outputs": [],
   "source": [
    "sents_ids = [\"1_470\", \"1_2431\", \"1_2210\", \"1_2475\", \"1_1883\", \"1_470\"]"
   ]
  },
  {
   "cell_type": "code",
   "execution_count": 8,
   "metadata": {},
   "outputs": [
    {
     "data": {
      "text/plain": [
       "['ἂν δὲ καὶ αὐτοὶ βάντες ἐπὶ κληῖσι καθῖζον',\n",
       " 'ἑξῆς δ᾽ ἑζόμενοι πολιὴν ἅλα τύπτον ἐρετμοῖς',\n",
       " 'ἔνθεν δὲ προτέρω πλέομεν ἀκαχήμενοι ἦτορ',\n",
       " 'ἄσμενοι ἐκ θανάτοιο, φίλους ὀλέσαντες ἑταίρους',\n",
       " 'νῆα μὲν οἵ γε μέλαιναν ἁλὸς βένθοσδε ἔρυσσαν',\n",
       " 'τοὶ δὲ πρυμνήσι᾽ ἔλυσαν']"
      ]
     },
     "execution_count": 8,
     "metadata": {},
     "output_type": "execute_result"
    }
   ],
   "source": [
    "strings"
   ]
  },
  {
   "cell_type": "code",
   "execution_count": 9,
   "metadata": {},
   "outputs": [
    {
     "data": {
      "text/plain": [
       "[['ἂν δὲ καὶ αὐτοὶ βάντες ἐπὶ κληῖσι κάθισαν'],\n",
       " ['ἑξῆς δ᾽ ἑζόμενοι πολιὴν ἅλα τύπτον ἕσαν'],\n",
       " [],\n",
       " [],\n",
       " ['νῆα μὲν οἵ γε μέλαιναν ἁλὸς βένθοσδε ἐρύουσι',\n",
       "  'νῆα μὲν οἵ γε μέλαιναν ἁλὸς βένθοσδε ἔρυον',\n",
       "  'νῆα μὲν οἵ γε μέλαιναν ἁλὸς βένθοσδε ἐρύουσιν'],\n",
       " ['τοὶ δὲ πρυμνήσι᾽ λύον', 'τοὶ δὲ πρυμνήσι᾽ ἔλυον']]"
      ]
     },
     "execution_count": 9,
     "metadata": {},
     "output_type": "execute_result"
    }
   ],
   "source": [
    "sents = []\n",
    "for sent, sent_id in zip(strings, sents_ids):\n",
    "    sents.append(replace_verb(sent, sent_id))\n",
    "\n",
    "sents"
   ]
  },
  {
   "cell_type": "markdown",
   "metadata": {},
   "source": [
    "CONFOUNDERS"
   ]
  },
  {
   "cell_type": "code",
   "execution_count": 3,
   "metadata": {},
   "outputs": [],
   "source": [
    "paraphrases = [[\"ἂν δὲ καὶ αὐτοὶ βάντες ἐπὶ κληῖσι καθῖζον\", \"οἱ δ᾽ αἶψ᾽ εἴσβαινον καὶ ἐπὶ κληῖσι καθῖζον\"], [\"ἑξῆς δ᾽ ἑζόμενοι πολιὴν ἅλα τύπτον ἐρετμοῖς\"], [\"ἔνθεν δὲ προτέρω πλέομεν ἀκαχήμενοι ἦτορ\"], [\"ἄσμενοι ἐκ θανάτοιο, φίλους ὀλέσαντες ἑταίρους\"], [\"νῆα μὲν οἵ γε μέλαιναν ἁλὸς βένθοσδε ἔρυσσαν\", \"νῆα μὲν οὖν πάμπρωτον ἁλὸς βένθοσδε ἔρυσσαν\", \"ἀλλ᾽ ἄγε νῆα μέλαιναν ἐρύσσομεν εἰς ἅλα δῖαν\", \"νῆα μὲν ἂρ πάμπρωτον ἐρύσσαμεν εἰς ἅλα δῖαν\", \"νῆα μὲν οἵ γε μέλαιναν ἁλὸς βένθοσδε ἔρυσσαν\"], [\"τοὶ δὲ πρυμνήσι᾽ ἔλυσαν\", \"τε πρυμνήσια λῦσαι\"]]"
   ]
  },
  {
   "cell_type": "code",
   "execution_count": 4,
   "metadata": {},
   "outputs": [
    {
     "name": "stdout",
     "output_type": "stream",
     "text": [
      "\n",
      "sentences with same keyword but different meaning than 'ἂν δὲ καὶ αὐτοὶ βάντες ἐπὶ κληῖσι καθῖζον' are:\n",
      "\n",
      "sentences with same keyword but different meaning than 'ἑξῆς δ᾽ ἑζόμενοι πολιὴν ἅλα τύπτον ἐρετμοῖς' are:\n",
      "\n",
      "sentences with same keyword but different meaning than 'ἔνθεν δὲ προτέρω πλέομεν ἀκαχήμενοι ἦτορ' are:\n",
      "2 ἑπτὰ δὲ καὶ δέκα μὲν πλέον ἤματα ποντοπορεύων , ὀκτωκαιδεκάτῃ δʼ ἐφάνη ὄρεα σκιόεντα γαίης ὑμετέρης , γήθησε δέ μοι φίλον ἦτορ δυσμόρῳ ·\n",
      "\n",
      "sentences with same keyword but different meaning than 'ἄσμενοι ἐκ θανάτοιο, φίλους ὀλέσαντες ἑταίρους' are:\n",
      "3 οὐ μὲν Τυδέϊ γʼ ὧδε φίλον πτωσκαζέμεν ἦεν , ἀλλὰ πολὺ πρὸ φίλων ἑτάρων δηΐοισι μάχεσθαι , ὡς φάσαν οἵ μιν ἴδοντο πονεύμενον ·\n",
      "3 εἴη δʼ ὅς τις ἑταῖρος ἀπαγγείλειε τάχιστα Πηλεΐδῃ , ἐπεὶ οὔ μιν ὀΐομαι οὐδὲ πεπύσθαι λυγρῆς ἀγγελίης , ὅτι οἱ φίλος ὤλεθʼ ἑταῖρος .\n",
      "3 ἀλλὰ τί μοι τῶν ἦδος ἐπεὶ φίλος ὤλεθʼ ἑταῖρος Πάτροκλος , τὸν ἐγὼ περὶ πάντων τῖον ἑταίρων ἶσον ἐμῇ κεφαλῇ ;\n",
      "3 πρὶν δʼ οὔ πως ἂν ἔμοιγε φίλον κατὰ λαιμὸν ἰείη οὐ πόσις οὐδὲ βρῶσις ἑταίρου τεθνηῶτος ὅς μοι ἐνὶ κλισίῃ δεδαϊγμένος ὀξέϊ χαλκῷ κεῖται ἀνὰ πρόθυρον τετραμμένος , ἀμφὶ δʼ ἑταῖροι μύρονται ·\n",
      "3 λίσσομαι , εἴ τις ἔμοιγε φίλων ἐπιπείθεθʼ ἑταίρων , μή με πρὶν σίτοιο κελεύετε μηδὲ ποτῆτος ἄσασθαι φίλον ἦτορ , ἐπεί μʼ ἄχος αἰνὸν ἱκάνει ·\n",
      "\n",
      "sentences with same keyword but different meaning than 'νῆα μὲν οἵ γε μέλαιναν ἁλὸς βένθοσδε ἔρυσσαν' are:\n",
      "4 οὐ γὰρ Κυκλώπεσσι νέες πάρα μιλτοπάρῃοι , οὐδʼ ἄνδρες νηῶν ἔνι τέκτονες , οἵ κε κάμοιεν νῆας ἐυσσέλμους , αἵ κεν τελέοιεν ἕκαστα ἄστεʼ ἐπʼ ἀνθρώπων ἱκνεύμεναι , οἷά τε πολλὰ ἄνδρες ἐπʼ ἀλλήλους νηυσὶν περόωσι θάλασσαν ·\n",
      "3 τὼ δʼ ἀέκοντε βάτην παρὰ θῖνʼ ἁλὸς ἀτρυγέτοιο , Μυρμιδόνων δʼ ἐπί τε κλισίας καὶ νῆας ἱκέσθην , τὸν δʼ εὗρον παρά τε κλισίῃ καὶ νηῒ μελαίνῃ ἥμενον ·\n",
      "3 ἀλλʼ ὅτε κεν δὴ νηυσὶν ἔπι γλαφυρῇσι γένωμαι , μνημοσύνη τις ἔπειτα πυρὸς δηΐοιο γενέσθω , ὡς πυρὶ νῆας ἐνιπρήσω , κτείνω δὲ καὶ αὐτοὺς Ἀργείους παρὰ νηυσὶν ἀτυζομένους ὑπὸ καπνοῦ .\n",
      "3 βῆ δʼ ἰέναι παρά τε κλισίας καὶ νῆας Ἀχαιῶν πορφύρεον μέγα φᾶρος ἔχων ἐν χειρὶ παχείῃ , στῆ δʼ ἐπʼ Ὀδυσσῆος μεγακήτεϊ νηῒ μελαίνῃ , ἥ ῥʼ ἐν μεσσάτῳ ἔσκε γεγωνέμεν ἀμφοτέρωσε , ἠμὲν ἐπʼ Αἴαντος κλισίας Τελαμωνιάδαο ἠδʼ ἐπʼ Ἀχιλλῆος , τοί ῥʼ ἔσχατα νῆας ἐΐσας εἴρυσαν , ἠνορέῃ πίσυνοι καὶ κάρτεϊ χειρῶν ·\n",
      "3 δώσω γὰρ δίφρόν τε δύω τʼ ἐριαύχενας ἵππους οἵ κεν ἄριστοι ἔωσι θοῇς ἐπὶ νηυσὶν Ἀχαιῶν ὅς τίς κε τλαίη , οἷ τʼ αὐτῷ κῦδος ἄροιτο , νηῶν ὠκυπόρων σχεδὸν ἐλθέμεν , ἔκ τε πυθέσθαι ἠέ φυλάσσονται νῆες θοαὶ ὡς τὸ πάρος περ , ἦ ἤδη χείρεσσιν ὑφʼ ἡμετέρῃσι δαμέντες φύξιν βουλεύουσι μετὰ σφίσιν , οὐδʼ ἐθέλουσι νύκτα φυλασσέμεναι , καμάτῳ ἀδηκότες αἰνῷ .\n",
      "\n",
      "sentences with same keyword but different meaning than 'τοὶ δὲ πρυμνήσι᾽ ἔλυσαν' are:\n",
      "7 Βοιωτῶν μὲν Πηνέλεως καὶ Λήϊτος ἦρχον Ἀρκεσίλαός τε Προθοήνωρ τε Κλονίος τε , οἵ θʼ Ὑρίην ἐνέμοντο καὶ Αὐλίδα πετρήεσσαν Σχοῖνόν τε Σκῶλόν τε πολύκνημόν τʼ Ἐτεωνόν , Θέσπειαν Γραῖάν τε καὶ εὐρύχορον Μυκαλησσόν , οἵ τʼ ἀμφʼ Ἅρμʼ ἐνέμοντο καὶ Εἰλέσιον καὶ Ἐρυθράς , οἵ τʼ Ἐλεῶνʼ εἶχον ἠδʼ Ὕλην καὶ Πετεῶνα , Ὠκαλέην Μεδεῶνά τʼ ἐϋκτίμενον πτολίεθρον , Κώπας Εὔτρησίν τε πολυτρήρωνά τε Θίσβην , οἵ τε Κορώνειαν καὶ ποιήενθʼ Ἁλίαρτον , οἵ τε Πλάταιαν ἔχον ἠδʼ οἳ Γλισᾶντʼ ἐνέμοντο , οἵ θʼ Ὑποθήβας εἶχον ἐϋκτίμενον πτολίεθρον , Ὀγχηστόν θʼ ἱερὸν Ποσιδήϊον ἀγλαὸν ἄλσος , οἵ τε πολυστάφυλον Ἄρνην ἔχον , οἵ τε Μίδειαν Νῖσάν τε ζαθέην Ἀνθηδόνα τʼ ἐσχατόωσαν ·\n",
      "6 νῦν αὖ τοὺς ὅσσοι τὸ Πελασγικὸν Ἄργος ἔναιον , οἵ τʼ Ἄλον οἵ τʼ Ἀλόπην οἵ τε Τρηχῖνα νέμοντο , οἵ τʼ εἶχον Φθίην ἠδʼ Ἑλλάδα καλλιγύναικα , Μυρμιδόνες δὲ καλεῦντο καὶ Ἕλληνες καὶ Ἀχαιοί , τῶν αὖ πεντήκοντα νεῶν ἦν ἀρχὸς Ἀχιλλεύς .\n",
      "5 ὄφρʼ οἳ τοὺς ἐνάριζον ἀπʼ ἔντεα μαρμαίροντα , τόφρʼ οἳ Πουλυδάμαντι καὶ Ἕκτορι κοῦροι ἕποντο , οἳ πλεῖστοι καὶ ἄριστοι ἔσαν , μέμασαν δὲ μάλιστα τεῖχός τε ῥήξειν καὶ ἐνιπρήσειν πυρὶ νῆας , οἵ ῥʼ ἔτι μερμήριζον ἐφεσταότες παρὰ τάφρῳ .\n",
      "4 τοῖσι δʼ ἀνέστη Κάλχας Θεστορίδης οἰωνοπόλων ὄχʼ ἄριστος , ὃς ᾔδη τά τʼ ἐόντα τά τʼ ἐσσόμενα πρό τʼ ἐόντα , καὶ νήεσσʼ ἡγήσατʼ Ἀχαιῶν Ἴλιον εἴσω ἣν διὰ μαντοσύνην , τήν οἱ πόρε Φοῖβος Ἀπόλλων ·\n",
      "4 αὐτὰρ Φωκήων Σχεδίος καὶ Ἐπίστροφος ἦρχον υἷες Ἰφίτου μεγαθύμου Ναυβολίδαο , οἳ Κυπάρισσον ἔχον Πυθῶνά τε πετρήεσσαν Κρῖσάν τε ζαθέην καὶ Δαυλίδα καὶ Πανοπῆα , οἵ τʼ Ἀνεμώρειαν καὶ Ὑάμπολιν ἀμφενέμοντο , οἵ τʼ ἄρα πὰρ ποταμὸν Κηφισὸν δῖον ἔναιον , οἵ τε Λίλαιαν ἔχον πηγῇς ἔπι Κηφισοῖο ·\n"
     ]
    }
   ],
   "source": [
    "report_keyword_confounders(strings, paraphrases)"
   ]
  },
  {
   "cell_type": "markdown",
   "metadata": {},
   "source": [
    "PARAPHRASIS WITH DIFFERENT VERB TENSE"
   ]
  },
  {
   "cell_type": "code",
   "execution_count": 5,
   "metadata": {},
   "outputs": [],
   "source": [
    "sents_ids = [\"1_470\", \"1_2431\", \"1_2210\", \"1_2475\", \"1_1883\", \"1_470\"]"
   ]
  },
  {
   "cell_type": "code",
   "execution_count": 6,
   "metadata": {},
   "outputs": [
    {
     "data": {
      "text/plain": [
       "[['ἂν δὲ καὶ αὐτοὶ βάντες ἐπὶ κληῖσι κάθισαν'],\n",
       " ['ἑξῆς δ᾽ ἑζόμενοι πολιὴν ἅλα τύπτον ἕσαν'],\n",
       " [],\n",
       " [],\n",
       " ['νῆα μὲν οἵ γε μέλαιναν ἁλὸς βένθοσδε ἐρύουσι',\n",
       "  'νῆα μὲν οἵ γε μέλαιναν ἁλὸς βένθοσδε ἔρυον',\n",
       "  'νῆα μὲν οἵ γε μέλαιναν ἁλὸς βένθοσδε ἐρύουσιν'],\n",
       " ['τοὶ δὲ πρυμνήσι᾽ λύον', 'τοὶ δὲ πρυμνήσι᾽ ἔλυον']]"
      ]
     },
     "execution_count": 6,
     "metadata": {},
     "output_type": "execute_result"
    }
   ],
   "source": [
    "sents = []\n",
    "for sent, sent_id in zip(strings, sents_ids):\n",
    "    sents.append(replace_verb(sent, sent_id))\n",
    "\n",
    "sents"
   ]
  },
  {
   "cell_type": "markdown",
   "metadata": {},
   "source": [
    "COSINE SIMILARITY AND T-TEST WITH NEW CONFOUNDERS"
   ]
  },
  {
   "cell_type": "code",
   "execution_count": 4,
   "metadata": {},
   "outputs": [],
   "source": [
    "original = [\n",
    "    \"ἂν δὲ καὶ αὐτοὶ βάντες ἐπὶ κληῖσι καθῖζον\", \n",
    "    \"ἑξῆς δ᾽ ἑζόμενοι πολιὴν ἅλα τύπτον ἐρετμοῖς\", \n",
    "    \"νῆα μὲν οἵ γε μέλαιναν ἁλὸς βένθοσδε ἔρυσσαν\", \n",
    "    \"τοὶ δὲ πρυμνήσι᾽ ἔλυσαν\"\n",
    "]\n",
    "paraphrased = [\n",
    "    \"οἱ δ᾽ αἶψ᾽ εἴσβαινον καὶ ἐπὶ κληῖσι καθῖζον\",\n",
    "    \"ἑξῆς δὲ καθεζομενοι πολιὴν ἅλα τύπτον ἐρετμοῖς\",\n",
    "    \"νῆα μὲν οὖν πάμπρωτον ἁλὸς βένθοσδε ἔρυσσαν\",\n",
    "    \"τε πρυμνήσια λῦσαι\"\n",
    "]\n",
    "confound = [\n",
    "    \"αὐτίκʼ ἔπειτʼ ἀνστάντες ἔβαν δόμον εἰς Ὀδυσῆος , ἐλθόντες δὲ καθῖζον ἐπὶ ξεστοῖσι θρόνοισιν .\",\n",
    "    \"ἂν δὲ καὶ αὐτοὶ βάντες ἐπὶ κληῖσι καθῖζον\",\n",
    "    \"τὼ δʼ ἀέκοντε βάτην παρὰ θῖνʼ ἁλὸς ἀτρυγέτοιο , Μυρμιδόνων δʼ ἐπί τε κλισίας καὶ νῆας ἱκέσθην , τὸν δʼ εὗρον παρά τε κλισίῃ καὶ νηῒ μελαίνῃ ἥμενον\",\n",
    "    \"ἀλλ᾽ ἄγε νῆα μέλαιναν ἐρύσσομεν εἰς ἅλα δῖαν\" \n",
    "]"
   ]
  },
  {
   "cell_type": "code",
   "execution_count": 5,
   "metadata": {},
   "outputs": [],
   "source": [
    "original_emb_dict = mean_cls_embeddings(original, model = model, tokenizer = tokenizer)\n",
    "paraphrased_emb_dict = mean_cls_embeddings(paraphrased, model = model, tokenizer = tokenizer)\n",
    "confound_emb_dict = mean_cls_embeddings(confound, model = model, tokenizer = tokenizer)"
   ]
  },
  {
   "cell_type": "code",
   "execution_count": 6,
   "metadata": {},
   "outputs": [
    {
     "name": "stdout",
     "output_type": "stream",
     "text": [
      "T-statistic between original-paraphrased and original-original: [3.0025427], P-value: [0.02392955]\n",
      "T-statistic between original-confound and original_original: [0.38737708], P-value: [0.71184546]\n",
      "T-statistic between original-paraphrased and original-confound: [2.6843667], P-value: [0.03632418]\n"
     ]
    },
    {
     "data": {
      "text/plain": [
       "{'originalvsparaphrased': {'average': 0.87998986, 'variance': 0.008222539},\n",
       " 'originalvsconfound': {'average': 0.7265295, 'variance': 0.0015820675},\n",
       " 'originalvsoriginal': {'average': 0.71571004, 'variance': 0.0007581841}}"
      ]
     },
     "execution_count": 6,
     "metadata": {},
     "output_type": "execute_result"
    }
   ],
   "source": [
    "report_similarity(original_emb_dict, paraphrased_emb_dict, confound_emb_dict, method = \"cls\")"
   ]
  },
  {
   "cell_type": "code",
   "execution_count": 7,
   "metadata": {},
   "outputs": [
    {
     "name": "stdout",
     "output_type": "stream",
     "text": [
      "T-statistic between original-paraphrased and original-original: [1.9552301], P-value: [0.09834331]\n",
      "T-statistic between original-confound and original_original: [0.36591324], P-value: [0.72698474]\n",
      "T-statistic between original-paraphrased and original-confound: [1.6930265], P-value: [0.14139414]\n"
     ]
    },
    {
     "data": {
      "text/plain": [
       "{'originalvsparaphrased': {'average': 0.85570353, 'variance': 0.015469095},\n",
       " 'originalvsconfound': {'average': 0.7241639, 'variance': 0.0026404266},\n",
       " 'originalvsoriginal': {'average': 0.7118098, 'variance': 0.0007792538}}"
      ]
     },
     "execution_count": 7,
     "metadata": {},
     "output_type": "execute_result"
    }
   ],
   "source": [
    "report_similarity(original_emb_dict, paraphrased_emb_dict, confound_emb_dict, method = \"mean\")"
   ]
  },
  {
   "cell_type": "code",
   "execution_count": null,
   "metadata": {},
   "outputs": [],
   "source": []
  }
 ],
 "metadata": {
  "kernelspec": {
   "display_name": ".env",
   "language": "python",
   "name": "python3"
  },
  "language_info": {
   "codemirror_mode": {
    "name": "ipython",
    "version": 3
   },
   "file_extension": ".py",
   "mimetype": "text/x-python",
   "name": "python",
   "nbconvert_exporter": "python",
   "pygments_lexer": "ipython3",
   "version": "3.11.5"
  }
 },
 "nbformat": 4,
 "nbformat_minor": 2
}
