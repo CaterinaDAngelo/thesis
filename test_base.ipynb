{
 "cells": [
  {
   "cell_type": "code",
   "execution_count": 1,
   "metadata": {},
   "outputs": [],
   "source": [
    "model_base = \"cabrooks/LOGION-base\""
   ]
  },
  {
   "cell_type": "code",
   "execution_count": 2,
   "metadata": {},
   "outputs": [],
   "source": [
    "from transformers import BertTokenizer, BertForMaskedLM\n",
    "tokenizer = BertTokenizer.from_pretrained(model_base)\n",
    "model = BertForMaskedLM.from_pretrained(model_base, output_hidden_states=True)"
   ]
  },
  {
   "cell_type": "code",
   "execution_count": 3,
   "metadata": {},
   "outputs": [],
   "source": [
    "from transformers import BertTokenizer, BertForMaskedLM\n",
    "tokenizer_50k = BertTokenizer.from_pretrained(model_50k)\n",
    "model_50k = BertForMaskedLM.from_pretrained(model_50k, output_hidden_states=True)"
   ]
  },
  {
   "cell_type": "code",
   "execution_count": null,
   "metadata": {},
   "outputs": [],
   "source": [
    "from my_functions import *"
   ]
  },
  {
   "cell_type": "code",
   "execution_count": 6,
   "metadata": {},
   "outputs": [],
   "source": [
    "strings = [\"ἂν δὲ καὶ αὐτοὶ βάντες ἐπὶ κληῖσι καθῖζον\", \"ἑξῆς δ᾽ ἑζόμενοι πολιὴν ἅλα τύπτον ἐρετμοῖς\", \"ἔνθεν δὲ προτέρω πλέομεν ἀκαχήμενοι ἦτορ\", \"ἄσμενοι ἐκ θανάτοιο, φίλους ὀλέσαντες ἑταίρους\", \"νῆα μὲν οἵ γε μέλαιναν ἁλὸς βένθοσδε ἔρυσσαν\", \"τοὶ δὲ πρυμνήσι᾽ ἔλυσαν\"]"
   ]
  },
  {
   "cell_type": "code",
   "execution_count": null,
   "metadata": {},
   "outputs": [],
   "source": [
    "syn = get_synonims(strings)"
   ]
  },
  {
   "cell_type": "code",
   "execution_count": null,
   "metadata": {},
   "outputs": [],
   "source": [
    "sents_sim = dic_similarities_synset(syn, strings, model, tokenizer)"
   ]
  },
  {
   "cell_type": "code",
   "execution_count": 10,
   "metadata": {},
   "outputs": [
    {
     "name": "stdout",
     "output_type": "stream",
     "text": [
      "The best synonim for καθίζω is ἀγινέω with a score of 0.8964595794677734\n",
      "The best synonim for ἑξῆς is κατά with a score of 0.7275820374488831\n",
      "The best synonim for ἄζω is ἀδάκρυτος with a score of 0.49631088972091675\n",
      "The best synonim for ἅλας is πάγος with a score of 0.44477128982543945\n",
      "The best synonim for ἐρετμός is ἀγών with a score of 0.40763455629348755\n",
      "The best synonim for ἔνθεν is οὖν with a score of 0.9888632297515869\n",
      "The best synonim for πλέω is ἀνάγω with a score of 0.44258373975753784\n",
      "The best synonim for ἦτορ is βίος with a score of 0.9911257028579712\n",
      "The best synonim for ἄσμενος is ἀσπάσιος with a score of 0.6760525107383728\n",
      "The best synonim for φίλος is ἀνεξέλεγκτος with a score of 0.4358425736427307\n",
      "The best synonim for ἑταῖρος is ἀθλητής with a score of 0.4400988817214966\n"
     ]
    },
    {
     "ename": "IndexError",
     "evalue": "list index out of range",
     "output_type": "error",
     "traceback": [
      "\u001b[1;31m---------------------------------------------------------------------------\u001b[0m",
      "\u001b[1;31mIndexError\u001b[0m                                Traceback (most recent call last)",
      "Cell \u001b[1;32mIn[10], line 1\u001b[0m\n\u001b[1;32m----> 1\u001b[0m \u001b[43mreport_similarities\u001b[49m\u001b[43m(\u001b[49m\u001b[43msents_sim\u001b[49m\u001b[43m)\u001b[49m\n",
      "File \u001b[1;32mc:\\Users\\cate9\\Desktop\\tesi\\notebooks\\my_functions.py:342\u001b[0m, in \u001b[0;36mreport_similarities\u001b[1;34m(sents_sim)\u001b[0m\n\u001b[0;32m    340\u001b[0m values\u001b[38;5;241m.\u001b[39msort()\n\u001b[0;32m    341\u001b[0m max_value \u001b[38;5;241m=\u001b[39m values[\u001b[38;5;241m-\u001b[39m\u001b[38;5;241m1\u001b[39m]\n\u001b[1;32m--> 342\u001b[0m second_max_value \u001b[38;5;241m=\u001b[39m \u001b[43mvalues\u001b[49m\u001b[43m[\u001b[49m\u001b[38;5;241;43m-\u001b[39;49m\u001b[38;5;241;43m2\u001b[39;49m\u001b[43m]\u001b[49m\n\u001b[0;32m    343\u001b[0m max_index \u001b[38;5;241m=\u001b[39m values\u001b[38;5;241m.\u001b[39mindex(max_value)\n\u001b[0;32m    344\u001b[0m second_max_index \u001b[38;5;241m=\u001b[39m values\u001b[38;5;241m.\u001b[39mindex(second_max_value)\n",
      "\u001b[1;31mIndexError\u001b[0m: list index out of range"
     ]
    }
   ],
   "source": [
    "report_similarities(sents_sim)"
   ]
  },
  {
   "cell_type": "code",
   "execution_count": null,
   "metadata": {},
   "outputs": [],
   "source": [
    "kath_dic = {\"sentence 0\": {\"\"}}"
   ]
  },
  {
   "cell_type": "code",
   "execution_count": null,
   "metadata": {},
   "outputs": [],
   "source": [
    "# MAKE FUNCTIONSSSS\n",
    "\n",
    "word_synsets = requests.get(f\"https://greekwordnet.chs.harvard.edu/api/lemmas/καθίζω/synsets\", verify=False)\n",
    "lemma_dic = word_synsets.json()\n",
    "if lemma_dic[\"results\"] and lemma_dic[\"results\"][0][\"synsets\"][\"literal\"]:\n",
    "    synsets = [dic[\"offset\"] for dic in lemma_dic[\"results\"][0][\"synsets\"][\"literal\"]]\n",
    "\n",
    "syn_synsets = requests.get(f\"https://greekwordnet.chs.harvard.edu/api/lemmas/ἀγινέω/synsets\", verify=False)\n",
    "syn_dic = syn_synsets.json()\n",
    "if syn_dic[\"results\"] and syn_dic[\"results\"][0][\"synsets\"][\"literal\"]:\n",
    "    syn_synsets = [dic[\"offset\"] for dic in syn_dic[\"results\"][0][\"synsets\"][\"literal\"]]  \n",
    "\n",
    "for s_s in syn_synsets:\n",
    "    for s in synsets:\n",
    "        if s == s_s:\n",
    "            print(s, s_s)\n",
    "     "
   ]
  },
  {
   "cell_type": "code",
   "execution_count": 4,
   "metadata": {},
   "outputs": [],
   "source": [
    "import statistics"
   ]
  },
  {
   "cell_type": "code",
   "execution_count": 5,
   "metadata": {},
   "outputs": [],
   "source": [
    "import numpy as np"
   ]
  },
  {
   "cell_type": "code",
   "execution_count": null,
   "metadata": {},
   "outputs": [],
   "source": [
    "variances = []\n",
    "for i in range(len(sents_sim)):\n",
    "\n",
    "    for lemma in sents_sim[f\"sentence {i}\"]:\n",
    "        values = [t.item() for (s, t) in sents_sim[f\"sentence {i}\"][f\"{lemma}\"]] # taking the similarity scores to search for the maximum\n",
    "        values = np.array(values)\n",
    "        var = np.var(values)\n",
    "        print(f\"The variance for the lemma {lemma} is {var}\")\n",
    "        variances.append(var)\n",
    "\n",
    "print(f\"The mean variance is {statistics.mean(variances)}\")"
   ]
  },
  {
   "cell_type": "code",
   "execution_count": 7,
   "metadata": {},
   "outputs": [
    {
     "name": "stdout",
     "output_type": "stream",
     "text": [
      "0.5946506430705388\n"
     ]
    }
   ],
   "source": [
    "vals = []\n",
    "for i in range(len(sents_sim)):\n",
    "\n",
    "    for lemma in sents_sim[f\"sentence {i}\"]:\n",
    "        values = [t.item() for (s, t) in sents_sim[f\"sentence {i}\"][f\"{lemma}\"]] # taking the similarity scores to search for the maximum\n",
    "        max_value = max(values)\n",
    "        vals.append(max_value)\n",
    "\n",
    "print(statistics.mean(vals))"
   ]
  }
 ],
 "metadata": {
  "kernelspec": {
   "display_name": "Python 3",
   "language": "python",
   "name": "python3"
  },
  "language_info": {
   "codemirror_mode": {
    "name": "ipython",
    "version": 3
   },
   "file_extension": ".py",
   "mimetype": "text/x-python",
   "name": "python",
   "nbconvert_exporter": "python",
   "pygments_lexer": "ipython3",
   "version": "3.11.5"
  }
 },
 "nbformat": 4,
 "nbformat_minor": 2
}
