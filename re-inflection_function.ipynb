{
 "cells": [
  {
   "cell_type": "code",
   "execution_count": 2,
   "metadata": {},
   "outputs": [
    {
     "name": "stderr",
     "output_type": "stream",
     "text": [
      "/mount/arbeitsdaten/tcl/Users/dangelo_thesis/thesis/.env/lib64/python3.9/site-packages/networkx/utils/backends.py:135: RuntimeWarning: networkx backend defined more than once: nx-loopback\n",
      "  backends.update(_get_backends(\"networkx.backends\"))\n",
      "/mount/arbeitsdaten/tcl/Users/dangelo_thesis/thesis/.env/lib64/python3.9/site-packages/tqdm/auto.py:21: TqdmWarning: IProgress not found. Please update jupyter and ipywidgets. See https://ipywidgets.readthedocs.io/en/stable/user_install.html\n",
      "  from .autonotebook import tqdm as notebook_tqdm\n",
      "/mount/arbeitsdaten/tcl/Users/dangelo_thesis/thesis/.env/lib64/python3.9/site-packages/transformers/utils/generic.py:441: UserWarning: torch.utils._pytree._register_pytree_node is deprecated. Please use torch.utils._pytree.register_pytree_node instead.\n",
      "  _torch_pytree._register_pytree_node(\n",
      "/mount/arbeitsdaten/tcl/Users/dangelo_thesis/thesis/.env/lib64/python3.9/site-packages/transformers/utils/generic.py:309: UserWarning: torch.utils._pytree._register_pytree_node is deprecated. Please use torch.utils._pytree.register_pytree_node instead.\n",
      "  _torch_pytree._register_pytree_node(\n"
     ]
    },
    {
     "name": "stdout",
     "output_type": "stream",
     "text": [
      "‎𐤀 CLTK version '1.2.3'. When using the CLTK in research, please cite: https://aclanthology.org/2021.acl-demo.3/\n",
      "\n",
      "Pipeline for language 'Ancient Greek' (ISO: 'grc'): `GreekNormalizeProcess`, `GreekStanzaProcess`, `GreekEmbeddingsProcess`, `StopsProcess`.\n",
      "\n",
      "⸖ ``LatinSpacyProcess`` using Stanza model by Stanford University from https://stanfordnlp.github.io/stanza/ . Please cite: https://arxiv.org/abs/2003.07082\n",
      "⸖ ``LatinEmbeddingsProcess`` using word2vec model by University of Oslo from http://vectors.nlpl.eu/ . Please cite: https://aclanthology.org/W17-0237/\n",
      "\n",
      "⸎ To suppress these messages, instantiate ``NLP()`` with ``suppress_banner=True``.\n"
     ]
    }
   ],
   "source": [
    "import gzip\n",
    "import json\n",
    "import pandas as pd\n",
    "from my_functions_improved import *"
   ]
  },
  {
   "cell_type": "code",
   "execution_count": 3,
   "metadata": {},
   "outputs": [],
   "source": [
    "with gzip.open('noun_dict.json.gz', 'rt', encoding='utf-8') as gzip_file:\n",
    "    noun_dict = json.load(gzip_file)"
   ]
  },
  {
   "cell_type": "code",
   "execution_count": 4,
   "metadata": {},
   "outputs": [],
   "source": [
    "with gzip.open('verb_dict.json.gz', 'rt', encoding='utf-8') as gzip_file:\n",
    "    verb_dict = json.load(gzip_file)"
   ]
  },
  {
   "cell_type": "code",
   "execution_count": 5,
   "metadata": {},
   "outputs": [],
   "source": [
    "noun_df = pd.DataFrame(noun_dict)"
   ]
  },
  {
   "cell_type": "code",
   "execution_count": 6,
   "metadata": {},
   "outputs": [
    {
     "data": {
      "text/plain": [
       "0            ἅβρα\n",
       "1            ἅβρα\n",
       "2           ἅβραι\n",
       "3           ἅβραι\n",
       "4          ἅβραις\n",
       "           ...   \n",
       "210675     ζῳῶδες\n",
       "210676     ζῳῶδες\n",
       "210677    ζῳωδίας\n",
       "210678    ζῳωδίας\n",
       "210679     ζῳωδίᾳ\n",
       "Name: form, Length: 210680, dtype: object"
      ]
     },
     "execution_count": 6,
     "metadata": {},
     "output_type": "execute_result"
    }
   ],
   "source": [
    "noun_df[\"form\"]"
   ]
  },
  {
   "cell_type": "code",
   "execution_count": 23,
   "metadata": {},
   "outputs": [
    {
     "data": {
      "text/html": [
       "<div>\n",
       "<style scoped>\n",
       "    .dataframe tbody tr th:only-of-type {\n",
       "        vertical-align: middle;\n",
       "    }\n",
       "\n",
       "    .dataframe tbody tr th {\n",
       "        vertical-align: top;\n",
       "    }\n",
       "\n",
       "    .dataframe thead th {\n",
       "        text-align: right;\n",
       "    }\n",
       "</style>\n",
       "<table border=\"1\" class=\"dataframe\">\n",
       "  <thead>\n",
       "    <tr style=\"text-align: right;\">\n",
       "      <th></th>\n",
       "      <th>lemma</th>\n",
       "      <th>form</th>\n",
       "      <th>gender</th>\n",
       "      <th>case</th>\n",
       "      <th>number</th>\n",
       "      <th>dialects</th>\n",
       "    </tr>\n",
       "  </thead>\n",
       "  <tbody>\n",
       "  </tbody>\n",
       "</table>\n",
       "</div>"
      ],
      "text/plain": [
       "Empty DataFrame\n",
       "Columns: [lemma, form, gender, case, number, dialects]\n",
       "Index: []"
      ]
     },
     "execution_count": 23,
     "metadata": {},
     "output_type": "execute_result"
    }
   ],
   "source": [
    "l = noun_df.loc[noun_df[\"form\"]==\"ἐρετμοῖς\"]\n",
    "l"
   ]
  },
  {
   "cell_type": "code",
   "execution_count": 8,
   "metadata": {},
   "outputs": [],
   "source": [
    "verb_df = pd.DataFrame(verb_dict)"
   ]
  },
  {
   "cell_type": "code",
   "execution_count": 9,
   "metadata": {},
   "outputs": [
    {
     "data": {
      "text/html": [
       "<div>\n",
       "<style scoped>\n",
       "    .dataframe tbody tr th:only-of-type {\n",
       "        vertical-align: middle;\n",
       "    }\n",
       "\n",
       "    .dataframe tbody tr th {\n",
       "        vertical-align: top;\n",
       "    }\n",
       "\n",
       "    .dataframe thead th {\n",
       "        text-align: right;\n",
       "    }\n",
       "</style>\n",
       "<table border=\"1\" class=\"dataframe\">\n",
       "  <thead>\n",
       "    <tr style=\"text-align: right;\">\n",
       "      <th></th>\n",
       "      <th>lemma</th>\n",
       "      <th>form</th>\n",
       "      <th>tense</th>\n",
       "      <th>mode</th>\n",
       "      <th>act/mid/p</th>\n",
       "      <th>gender</th>\n",
       "      <th>case</th>\n",
       "      <th>person</th>\n",
       "      <th>number</th>\n",
       "      <th>dialects</th>\n",
       "    </tr>\n",
       "  </thead>\n",
       "  <tbody>\n",
       "    <tr>\n",
       "      <th>0</th>\n",
       "      <td>ἅλλομαι</td>\n",
       "      <td>ἅλεται</td>\n",
       "      <td>aor</td>\n",
       "      <td>subj</td>\n",
       "      <td>mid</td>\n",
       "      <td></td>\n",
       "      <td></td>\n",
       "      <td>3rd</td>\n",
       "      <td>sg</td>\n",
       "      <td></td>\n",
       "    </tr>\n",
       "    <tr>\n",
       "      <th>1</th>\n",
       "      <td>ἅλλομαι</td>\n",
       "      <td>ἅληται</td>\n",
       "      <td>aor</td>\n",
       "      <td>subj</td>\n",
       "      <td>mid</td>\n",
       "      <td></td>\n",
       "      <td></td>\n",
       "      <td>3rd</td>\n",
       "      <td>sg</td>\n",
       "      <td></td>\n",
       "    </tr>\n",
       "    <tr>\n",
       "      <th>2</th>\n",
       "      <td>ἅλλομαι</td>\n",
       "      <td>ἅλῃ</td>\n",
       "      <td>aor</td>\n",
       "      <td>subj</td>\n",
       "      <td>mid</td>\n",
       "      <td></td>\n",
       "      <td></td>\n",
       "      <td>2nd</td>\n",
       "      <td>sg</td>\n",
       "      <td></td>\n",
       "    </tr>\n",
       "    <tr>\n",
       "      <th>3</th>\n",
       "      <td>ἅλλομαι</td>\n",
       "      <td>ἅλλεσθαι</td>\n",
       "      <td>pres</td>\n",
       "      <td>inf</td>\n",
       "      <td>mid</td>\n",
       "      <td></td>\n",
       "      <td></td>\n",
       "      <td></td>\n",
       "      <td></td>\n",
       "      <td></td>\n",
       "    </tr>\n",
       "    <tr>\n",
       "      <th>4</th>\n",
       "      <td>ἅλλομαι</td>\n",
       "      <td>ἅλλεσθε</td>\n",
       "      <td>imperf</td>\n",
       "      <td>ind</td>\n",
       "      <td>mid</td>\n",
       "      <td></td>\n",
       "      <td></td>\n",
       "      <td>2nd</td>\n",
       "      <td>pl</td>\n",
       "      <td>[(doric, aeolic]</td>\n",
       "    </tr>\n",
       "    <tr>\n",
       "      <th>...</th>\n",
       "      <td>...</td>\n",
       "      <td>...</td>\n",
       "      <td>...</td>\n",
       "      <td>...</td>\n",
       "      <td>...</td>\n",
       "      <td>...</td>\n",
       "      <td>...</td>\n",
       "      <td>...</td>\n",
       "      <td>...</td>\n",
       "      <td>...</td>\n",
       "    </tr>\n",
       "    <tr>\n",
       "      <th>859327</th>\n",
       "      <td>ζῳοτροφέω</td>\n",
       "      <td>ζῳοτροφεῖν</td>\n",
       "      <td>pres</td>\n",
       "      <td>inf</td>\n",
       "      <td>act</td>\n",
       "      <td></td>\n",
       "      <td></td>\n",
       "      <td></td>\n",
       "      <td></td>\n",
       "      <td>[doric]</td>\n",
       "    </tr>\n",
       "    <tr>\n",
       "      <th>859328</th>\n",
       "      <td>ζῳοτροφέω</td>\n",
       "      <td>ζῳοτροφούντων</td>\n",
       "      <td>pres</td>\n",
       "      <td>part</td>\n",
       "      <td>act</td>\n",
       "      <td>masc/neut</td>\n",
       "      <td>gen</td>\n",
       "      <td></td>\n",
       "      <td>pl</td>\n",
       "      <td>[doric]</td>\n",
       "    </tr>\n",
       "    <tr>\n",
       "      <th>859329</th>\n",
       "      <td>ζῳοτροφέω</td>\n",
       "      <td>ζῳοτροφούντων</td>\n",
       "      <td>pres</td>\n",
       "      <td>imperat</td>\n",
       "      <td>act</td>\n",
       "      <td></td>\n",
       "      <td></td>\n",
       "      <td>3rd</td>\n",
       "      <td>pl</td>\n",
       "      <td>[doric]</td>\n",
       "    </tr>\n",
       "    <tr>\n",
       "      <th>859330</th>\n",
       "      <td>ζῳοτροφέω</td>\n",
       "      <td>ζῳοτροφοῦσιν</td>\n",
       "      <td>pres</td>\n",
       "      <td>part</td>\n",
       "      <td>act</td>\n",
       "      <td>masc/neut</td>\n",
       "      <td>dat</td>\n",
       "      <td></td>\n",
       "      <td>pl</td>\n",
       "      <td>[doric]</td>\n",
       "    </tr>\n",
       "    <tr>\n",
       "      <th>859331</th>\n",
       "      <td>ζῳοτροφέω</td>\n",
       "      <td>ζῳοτροφοῦσιν</td>\n",
       "      <td>pres</td>\n",
       "      <td>ind</td>\n",
       "      <td>act</td>\n",
       "      <td></td>\n",
       "      <td></td>\n",
       "      <td>3rd</td>\n",
       "      <td>pl</td>\n",
       "      <td>[doric]</td>\n",
       "    </tr>\n",
       "  </tbody>\n",
       "</table>\n",
       "<p>859332 rows × 10 columns</p>\n",
       "</div>"
      ],
      "text/plain": [
       "            lemma           form   tense     mode act/mid/p     gender case  \\\n",
       "0         ἅλλομαι         ἅλεται     aor     subj       mid                   \n",
       "1         ἅλλομαι         ἅληται     aor     subj       mid                   \n",
       "2         ἅλλομαι            ἅλῃ     aor     subj       mid                   \n",
       "3         ἅλλομαι       ἅλλεσθαι    pres      inf       mid                   \n",
       "4         ἅλλομαι        ἅλλεσθε  imperf      ind       mid                   \n",
       "...           ...            ...     ...      ...       ...        ...  ...   \n",
       "859327  ζῳοτροφέω     ζῳοτροφεῖν    pres      inf       act                   \n",
       "859328  ζῳοτροφέω  ζῳοτροφούντων    pres     part       act  masc/neut  gen   \n",
       "859329  ζῳοτροφέω  ζῳοτροφούντων    pres  imperat       act                   \n",
       "859330  ζῳοτροφέω   ζῳοτροφοῦσιν    pres     part       act  masc/neut  dat   \n",
       "859331  ζῳοτροφέω   ζῳοτροφοῦσιν    pres      ind       act                   \n",
       "\n",
       "       person number          dialects  \n",
       "0         3rd     sg                    \n",
       "1         3rd     sg                    \n",
       "2         2nd     sg                    \n",
       "3                                       \n",
       "4         2nd     pl  [(doric, aeolic]  \n",
       "...       ...    ...               ...  \n",
       "859327                         [doric]  \n",
       "859328            pl           [doric]  \n",
       "859329    3rd     pl           [doric]  \n",
       "859330            pl           [doric]  \n",
       "859331    3rd     pl           [doric]  \n",
       "\n",
       "[859332 rows x 10 columns]"
      ]
     },
     "execution_count": 9,
     "metadata": {},
     "output_type": "execute_result"
    }
   ],
   "source": [
    "verb_df"
   ]
  },
  {
   "cell_type": "code",
   "execution_count": 10,
   "metadata": {},
   "outputs": [],
   "source": [
    "strings = [\"ἂν δὲ καὶ αὐτοὶ βάντες ἐπὶ κληῖσι καθῖζον\", \"ἑξῆς δ᾽ ἑζόμενοι πολιὴν ἅλα τύπτον ἐρετμοῖς\", \"ἔνθεν δὲ προτέρω πλέομεν ἀκαχήμενοι ἦτορ\", \"ἄσμενοι ἐκ θανάτοιο, φίλους ὀλέσαντες ἑταίρους\", \"νῆα μὲν οἵ γε μέλαιναν ἁλὸς βένθοσδε ἔρυσσαν\", \"τοὶ δὲ πρυμνήσι᾽ ἔλυσαν\"]"
   ]
  },
  {
   "cell_type": "code",
   "execution_count": 11,
   "metadata": {},
   "outputs": [],
   "source": [
    "def get_noun_analysis(noun, df):\n",
    "    noun_analysis = []\n",
    "    word_df = df.loc[df[\"form\"]==noun]\n",
    "    for id, row in word_df.iterrows():\n",
    "        noun_analysis.append([row[\"gender\"], row[\"case\"], row[\"number\"], row [\"dialects\"]])\n",
    "    return noun_analysis"
   ]
  },
  {
   "cell_type": "code",
   "execution_count": 12,
   "metadata": {},
   "outputs": [],
   "source": [
    "def get_verb_analysis(verb, df):\n",
    "    verb_analysis = []\n",
    "    word_df = df.loc[df[\"form\"]==verb]\n",
    "    for id, row in word_df.iterrows():\n",
    "        verb_analysis.append([row[\"tense\"], row[\"mode\"], row[\"act/mid/p\"], row [\"gender\"], row[\"case\"], row[\"person\"], row[\"number\"], row[\"dialects\"]])\n",
    "    return verb_analysis"
   ]
  },
  {
   "cell_type": "code",
   "execution_count": 13,
   "metadata": {},
   "outputs": [],
   "source": [
    "import pickle"
   ]
  },
  {
   "cell_type": "code",
   "execution_count": 14,
   "metadata": {},
   "outputs": [],
   "source": [
    "with open(\"sents_sim_dict.pickle\", \"rb\") as file:\n",
    "    sents_sim = pickle.load(file)"
   ]
  },
  {
   "cell_type": "code",
   "execution_count": 15,
   "metadata": {},
   "outputs": [],
   "source": [
    "def get_lemma_syn(word, sim_dicts):\n",
    "    lemma_w = lemmatize_cltk(word)[0]\n",
    "    \n",
    "    for sim_dict in sim_dicts:\n",
    "        for lemma in sim_dict:\n",
    "            if lemma == lemma_w:\n",
    "                if sim_dict[lemma] != []:\n",
    "                    sorted_values = sorted(sim_dict[lemma], key=lambda x: x[1], reverse=True)\n",
    "                    for i, tup in enumerate(sorted_values):\n",
    "                        syn, value = sorted_values[i]\n",
    "                        if syn not in verb_df[\"lemma\"].values and syn not in noun_df[\"lemma\"].values:\n",
    "                            continue\n",
    "                        else:\n",
    "                            return syn"
   ]
  },
  {
   "cell_type": "code",
   "execution_count": 16,
   "metadata": {},
   "outputs": [],
   "source": [
    "def get_infl_s_noun(noun, analysis):\n",
    "    forms = []\n",
    "    if analysis[3] != \" \":\n",
    "        for dialect in analysis[3]:\n",
    "            syn_df = noun_df.loc[(noun_df[\"lemma\"] == noun) & (noun_df[\"gender\"] == analysis[0]) & (noun_df[\"case\"] == analysis[1]) & (noun_df[\"number\"] == analysis[2]) & (noun_df[\"dialects\"] == dialect)]\n",
    "            for id, row in syn_df.iterrows():\n",
    "                forms.append(row[\"form\"])\n",
    "    else:\n",
    "        syn_df = noun_df.loc[(noun_df[\"lemma\"] == noun) & (noun_df[\"gender\"] == analysis[0]) & (noun_df[\"case\"] == analysis[1]) & (noun_df[\"number\"] == analysis[2])]\n",
    "        for id, row in syn_df.iterrows():\n",
    "            forms.append(row[\"form\"])\n",
    "    return forms"
   ]
  },
  {
   "cell_type": "code",
   "execution_count": 17,
   "metadata": {},
   "outputs": [],
   "source": [
    "def get_infl_s_verb(verb, analysis):\n",
    "    forms = []\n",
    "    if analysis[7] != \" \":\n",
    "        for dialect in analysis[7]:\n",
    "            syn_df = verb_df.loc[(verb_df[\"lemma\"] == verb) & (verb_df[\"tense\"] == analysis[0]) & (verb_df[\"mode\"] == analysis[1]) & (verb_df[\"act/mid/p\"] == analysis[2]) & (verb_df[\"gender\"] == analysis[3]) & (verb_df[\"case\"] == analysis[4]) & (verb_df[\"person\"] == analysis[5]) & (verb_df[\"number\"] == analysis[6]) & (verb_df[\"dialects\"] == dialect)]\n",
    "            for id, row in syn_df.iterrows():\n",
    "                forms.append(row[\"form\"])\n",
    "    else:\n",
    "        syn_df = verb_df.loc[(verb_df[\"lemma\"] == verb) & (verb_df[\"tense\"] == analysis[0]) & (verb_df[\"mode\"] == analysis[1]) & (verb_df[\"act/mid/p\"] == analysis[2]) & (verb_df[\"gender\"] == analysis[3]) & (verb_df[\"case\"] == analysis[4]) & (verb_df[\"person\"] == analysis[5]) & (verb_df[\"number\"] == analysis[6])]\n",
    "        for id, row in syn_df.iterrows():\n",
    "            forms.append(row[\"form\"])\n",
    "    return forms"
   ]
  },
  {
   "cell_type": "code",
   "execution_count": 18,
   "metadata": {},
   "outputs": [],
   "source": [
    "def get_infl_syn(lemma, analysis):\n",
    "    pos = pos_tag_cltk(lemma)[0]\n",
    "    if pos == \"a\" or pos == \"n\":\n",
    "        forms = get_infl_s_noun(lemma, analysis)\n",
    "    if pos == \"v\":\n",
    "        forms = get_infl_s_verb(lemma, analysis)\n",
    "    return forms\n"
   ]
  },
  {
   "cell_type": "code",
   "execution_count": 19,
   "metadata": {},
   "outputs": [],
   "source": [
    "s = get_lemma_syn(\"θαάσσω\", sents_sim)\n",
    "s"
   ]
  },
  {
   "cell_type": "code",
   "execution_count": 20,
   "metadata": {},
   "outputs": [
    {
     "name": "stdout",
     "output_type": "stream",
     "text": [
      "The best synonyms for βαίνω are:\n",
      "\tδιαβαίνω with a score of [[0.88808715]]\n",
      "\tἕρπω with a score of [[0.87936157]]\n",
      "\tστείχω with a score of [[0.8118147]]\n",
      "\tπατέω with a score of [[0.]]\n",
      "The best synonyms for καθίζω are:\n",
      "\tἵζω with a score of [[0.94065994]]\n",
      "\tκαταδύω with a score of [[0.94029063]]\n",
      "\tκατατίθημι with a score of [[0.9275684]]\n",
      "\tἰάλλω with a score of [[0.91808397]]\n",
      "\tεὐνάω with a score of [[0.89377445]]\n",
      "\tτίθημι with a score of [[0.89339024]]\n",
      "\tἐφίστημι with a score of [[0.86465937]]\n",
      "\tὑφίστημι with a score of [[0.81488335]]\n",
      "\tπέμπω with a score of [[0.7911981]]\n",
      "\tἐπιτίθημι with a score of [[0.7376522]]\n",
      "\tλέγω with a score of [[0.6852222]]\n",
      "\tσυγκαλέω with a score of [[0.4999244]]\n",
      "\tκαθίστημι with a score of [[0.3065406]]\n",
      "\tσυνάγω with a score of [[0.]]\n",
      "\tπροτίθημι with a score of [[0.]]\n",
      "\tἰάπτω with a score of [[0.]]\n",
      "\tὑπομιμνήσκω with a score of [[0.]]\n",
      "\tἐπικλίνω with a score of [[0.]]\n",
      "\tὑποστόρνυμι with a score of [[0.]]\n",
      "\tστηρίζω with a score of [[0.]]\n",
      "The best synonyms for ἕζομαι are:\n",
      "\tἵζω with a score of [[0.94544786]]\n",
      "\tκαθίζω with a score of [[0.6097423]]\n",
      "\tἱζάνω with a score of [[0.]]\n",
      "\tπροκαθίζω with a score of [[0.]]\n",
      "\tκαθιζάνω with a score of [[0.]]\n",
      "\tθάσσω with a score of [[0.]]\n",
      "\tθαάσσω with a score of [[0.]]\n",
      "\tὀχέω with a score of [[0.]]\n",
      "\tκελητίζω with a score of [[0.]]\n",
      "The best synonyms for ἅλας are:\n",
      "\tἅλς with a score of [[0.88569593]]\n",
      "The best synonyms for τύπτω are:\n",
      "\tκόπτω with a score of [[0.9648251]]\n",
      "\tἐξεναρίζω with a score of [[0.96335196]]\n",
      "\tἐξικνέομαι with a score of [[0.95568746]]\n",
      "\tδαΐζω with a score of [[0.952009]]\n",
      "\tτεύχω with a score of [[0.95067203]]\n",
      "\tπλήσσω with a score of [[0.94987464]]\n",
      "\tὀρίνω with a score of [[0.94611037]]\n",
      "\tκατέπεφνον with a score of [[0.9405302]]\n",
      "\tοὐτάω with a score of [[0.9351935]]\n",
      "\tκτείνω with a score of [[0.93212867]]\n",
      "\tἱκάνω with a score of [[0.9314956]]\n",
      "\tλαμβάνω with a score of [[0.9314882]]\n",
      "\tδέχομαι with a score of [[0.93095297]]\n",
      "\tβάλλω with a score of [[0.930309]]\n",
      "\tαἴρω with a score of [[0.9288508]]\n",
      "\tἐποτρύνω with a score of [[0.925213]]\n",
      "\tθείνω with a score of [[0.92421055]]\n",
      "\tκατακτείνω with a score of [[0.9228763]]\n",
      "\tἰαίνω with a score of [[0.9113273]]\n",
      "\tἄρνυμαι with a score of [[0.90733844]]\n",
      "The best synonyms for ἐρετμόν are:\n",
      "\tκώπη with a score of [[0.]]\n",
      "The best synonyms for ἔνθεν are:\n",
      "The best synonyms for πλέω are:\n",
      "\tὀχέω with a score of [[0.]]\n",
      "The best synonyms for ἦτορ are:\n",
      "\tκῆρ with a score of [[0.9536104]]\n",
      "\tφιλότης with a score of [[0.9219688]]\n",
      "\tὀφθαλμός with a score of [[0.9201549]]\n",
      "\tκαρδία with a score of [[0.9150743]]\n",
      "\tὄμμα with a score of [[0.8992505]]\n",
      "\tβίοτος with a score of [[0.89602196]]\n",
      "\tὄψ with a score of [[0.89018774]]\n",
      "\tἐδωδή with a score of [[0.8805077]]\n",
      "\tὤψ with a score of [[0.86704195]]\n",
      "\tθυμός with a score of [[0.84776026]]\n",
      "\tἐδητύς with a score of [[0.84265816]]\n",
      "\tμυελός with a score of [[0.67377317]]\n",
      "\tπεῖσις with a score of [[0.5542543]]\n",
      "\tκρέας with a score of [[0.48305568]]\n",
      "\tζωή with a score of [[0.44925493]]\n",
      "\tκόλπος with a score of [[0.43203554]]\n",
      "\tτέλος with a score of [[0.28256005]]\n",
      "\tβρῶσις with a score of [[0.]]\n",
      "The best synonyms for ἄσμενος are:\n",
      "\tγηθόσυνος with a score of [[0.6544451]]\n",
      "\tἀσπάσιος with a score of [[0.]]\n",
      "The best synonyms for θάνατος are:\n",
      "\tλοιγός with a score of [[0.9574239]]\n",
      "\tπότμος with a score of [[0.9514941]]\n",
      "\tμόρος with a score of [[0.8961159]]\n",
      "\tὄλεθρος with a score of [[0.8075735]]\n",
      "The best synonyms for φίλος are:\n",
      "\tφιλότης with a score of [[0.44003642]]\n",
      "\tἵμερος with a score of [[0.32133877]]\n",
      "\tἔρως with a score of [[0.30130652]]\n",
      "\tἔρος with a score of [[0.2037397]]\n",
      "\tμέλι with a score of [[0.12890194]]\n",
      "The best synonyms for ὄλλυμι are:\n",
      "\tὁδεύω with a score of [[0.]]\n",
      "\tφθινύθω with a score of [[0.]]\n",
      "\tεἶμι with a score of [[0.]]\n",
      "\tπαρεξελαύνω with a score of [[0.]]\n",
      "\tκάτειμι with a score of [[0.]]\n",
      "\tἐξέρχομαι with a score of [[0.]]\n",
      "\tἀποφθινύθω with a score of [[0.]]\n",
      "\tπροβλώσκω with a score of [[0.]]\n",
      "\tοἰχνέω with a score of [[0.]]\n",
      "\tἀμείβω with a score of [[0.]]\n",
      "\tκαταφθίω with a score of [[0.]]\n",
      "\tπροσστείχω with a score of [[0.]]\n",
      "\tπάρειμι with a score of [[0.]]\n",
      "\tστείχω with a score of [[0.]]\n",
      "\tἀπόλλυμι with a score of [[0.]]\n",
      "\tκαταβαίνω with a score of [[0.]]\n",
      "\tπεριτέλλομαι with a score of [[0.]]\n",
      "\tἀποφθίνω with a score of [[0.]]\n",
      "\tἄγχω with a score of [[0.]]\n",
      "\tδιείρω with a score of [[0.]]\n",
      "The best synonyms for ἑταῖρος are:\n",
      "\tὀπάων with a score of [[0.6865569]]\n",
      "\tκασίγνητος with a score of [[0.652671]]\n",
      "\tδαήρ with a score of [[0.]]\n",
      "\tἑταίρα with a score of [[0.]]\n",
      "The best synonyms for μέλας are:\n",
      "\tπορφύρεος with a score of [[0.919291]]\n",
      "\tἠερόεις with a score of [[0.9170921]]\n",
      "\tκελαινός with a score of [[0.91258585]]\n",
      "\tαἰνός with a score of [[0.89904654]]\n",
      "\tἠεροειδής with a score of [[0.8903672]]\n",
      "\tκυάνεος with a score of [[0.86166805]]\n",
      "\tδαφοινεός with a score of [[0.]]\n",
      "\tἐρεμνός with a score of [[0.]]\n",
      "\tδνοφερός with a score of [[0.]]\n",
      "\tσκότιος with a score of [[0.]]\n",
      "\tἰόεις with a score of [[0.]]\n",
      "\tἐρεβεννός with a score of [[0.]]\n",
      "\tἀμαυρός with a score of [[0.]]\n",
      "\tὀρφναῖος with a score of [[0.]]\n",
      "\tβλοσυρός with a score of [[0.]]\n",
      "\tλυπρός with a score of [[0.]]\n",
      "\tζάκοτος with a score of [[0.]]\n",
      "The best synonyms for ἅλς are:\n",
      "\tπόντος with a score of [[0.9056081]]\n",
      "\tθάλασσα with a score of [[0.63273585]]\n",
      "\tπέλαγος with a score of [[0.5036702]]\n",
      "The best synonyms for βένθος are:\n",
      "\tλαῖτμα with a score of [[0.]]\n",
      "The best synonyms for ἐρύω are:\n",
      "\tἐνέπω with a score of [[0.]]\n",
      "\tἐξέλκω with a score of [[0.]]\n",
      "\tἕλκω with a score of [[0.]]\n",
      "\tκατερύω with a score of [[0.]]\n",
      "\tἀφύσσω with a score of [[0.]]\n",
      "\tσπάω with a score of [[0.]]\n",
      "\tτιταίνω with a score of [[0.]]\n",
      "\tἀμάω with a score of [[0.]]\n",
      "\tὑδρεύω with a score of [[0.]]\n",
      "\tβιάζω with a score of [[0.]]\n",
      "\tὠθέω with a score of [[0.]]\n",
      "\tἐφέλκω with a score of [[0.]]\n",
      "\tἑλκέω with a score of [[0.]]\n",
      "\tχανδάνω with a score of [[0.]]\n",
      "\tαἴρω with a score of [[0.]]\n",
      "\tἀναδέχομαι with a score of [[0.]]\n",
      "\tἀναιρέω with a score of [[0.]]\n",
      "\tἐρευνάω with a score of [[0.]]\n",
      "\tἐκσπάω with a score of [[0.]]\n",
      "\tἐξαιρέω with a score of [[0.]]\n",
      "The best synonyms for λύω are:\n",
      "\tἐκλύω with a score of [[0.6771968]]\n",
      "\tἀναλύω with a score of [[0.]]\n",
      "\tμεθίημι with a score of [[0.]]\n"
     ]
    }
   ],
   "source": [
    "for sim_dict in sents_sim:\n",
    "    report_similarities(sim_dict)"
   ]
  },
  {
   "cell_type": "code",
   "execution_count": 21,
   "metadata": {},
   "outputs": [
    {
     "name": "stdout",
     "output_type": "stream",
     "text": [
      "n\n"
     ]
    }
   ],
   "source": [
    "print(pos_tag_grecy(\"ἦτορ\")[0])"
   ]
  },
  {
   "cell_type": "code",
   "execution_count": 22,
   "metadata": {},
   "outputs": [
    {
     "name": "stdout",
     "output_type": "stream",
     "text": [
      "['ἂν δὲ καὶ αὐτοὶ διαβάντες ἐπὶ κληῖσι καθῖζον', 'ἂν δὲ καὶ αὐτοὶ διαβάσαντες ἐπὶ κληῖσι καθῖζον', 'ἂν δὲ καὶ αὐτοὶ βάντες ἐπὶ κληῖσι ἵζον', 'ἂν δὲ καὶ αὐτοὶ βάντες ἐπὶ κληῖσι ἷζον']\n",
      "['ἑξῆς δ᾽ ἱζόμενοι πολιὴν ἅλα τύπτον ἐρετμοῖς', 'ἑξῆς δ᾽ ἑζόμενοι πολιὴν ἅλα κόπτον ἐρετμοῖς']\n",
      "[]\n",
      "['γηθόσυνοι ἐκ θανάτοιο, φίλους ὀλέσαντες ἑταίρους', 'ἄσμενοι ἐκ θανάτοιο, φίλους ὁδεύσαντες ἑταίρους']\n",
      "['νῆα μὲν οἵ γε πορφυρᾶν ἁλὸς βένθοσδε ἔρυσσαν', 'νῆα μὲν οἵ γε πορφυρέαν ἁλὸς βένθοσδε ἔρυσσαν', 'νῆα μὲν οἵ γε πορφυρέην ἁλὸς βένθοσδε ἔρυσσαν', 'νῆα μὲν οἵ γε πορφυρῆν ἁλὸς βένθοσδε ἔρυσσαν', 'νῆα μὲν οἵ γε μέλαιναν ἁλὸς βένθοσδε ἔνισπον', 'νῆα μὲν οἵ γε μέλαιναν ἁλὸς βένθοσδε ἤνισπον']\n",
      "['τοὶ δὲ πρυμνήσι᾽ ἔκλυσαν', 'τοὶ δὲ πρυμνήσι᾽ ἐξέλυσαν']\n"
     ]
    }
   ],
   "source": [
    "for s in strings:\n",
    "    paraphrasis = []\n",
    "    sent_split = s.split(\" \")\n",
    "    for id, word in enumerate(sent_split):\n",
    "        new_sent_split = sent_split.copy()\n",
    "        word_analysis = []\n",
    "        pos = pos_tag_grecy(word)[0]\n",
    "        if pos == \"a\" or pos == \"n\":\n",
    "            word_analysis = get_noun_analysis(word, noun_df)\n",
    "        if pos == \"v\":\n",
    "            word_analysis = get_verb_analysis(word, verb_df)\n",
    "        if word_analysis != []:\n",
    "            for analysis in word_analysis:\n",
    "                lemma_synonym = get_lemma_syn(word, sents_sim)\n",
    "                if lemma_synonym != None:\n",
    "                    inflected_syns = get_infl_syn(lemma_synonym, analysis)\n",
    "                    for syn in inflected_syns:\n",
    "                        new_sent_split[id] = syn\n",
    "                        new_sent = \" \".join(new_sent_split)\n",
    "                        if new_sent not in paraphrasis:\n",
    "                            paraphrasis.append(new_sent)\n",
    "    print(paraphrasis)\n",
    "\n",
    "            "
   ]
  },
  {
   "cell_type": "code",
   "execution_count": 28,
   "metadata": {},
   "outputs": [
    {
     "data": {
      "text/plain": [
       "210680"
      ]
     },
     "execution_count": 28,
     "metadata": {},
     "output_type": "execute_result"
    }
   ],
   "source": [
    "len(noun_dict[\"lemma\"])"
   ]
  },
  {
   "cell_type": "code",
   "execution_count": 26,
   "metadata": {},
   "outputs": [
    {
     "data": {
      "text/plain": [
       "859332"
      ]
     },
     "execution_count": 26,
     "metadata": {},
     "output_type": "execute_result"
    }
   ],
   "source": [
    "len(verb_df)"
   ]
  }
 ],
 "metadata": {
  "kernelspec": {
   "display_name": ".env",
   "language": "python",
   "name": "python3"
  },
  "language_info": {
   "codemirror_mode": {
    "name": "ipython",
    "version": 3
   },
   "file_extension": ".py",
   "mimetype": "text/x-python",
   "name": "python",
   "nbconvert_exporter": "python",
   "pygments_lexer": "ipython3",
   "version": "3.9.19"
  }
 },
 "nbformat": 4,
 "nbformat_minor": 2
}
