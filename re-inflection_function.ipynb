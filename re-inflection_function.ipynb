{
 "cells": [
  {
   "cell_type": "code",
   "execution_count": 1,
   "metadata": {},
   "outputs": [
    {
     "name": "stderr",
     "output_type": "stream",
     "text": [
      "/mount/arbeitsdaten/tcl/Users/dangelo_thesis/thesis/.env/lib64/python3.9/site-packages/networkx/utils/backends.py:135: RuntimeWarning: networkx backend defined more than once: nx-loopback\n",
      "  backends.update(_get_backends(\"networkx.backends\"))\n",
      "/mount/arbeitsdaten/tcl/Users/dangelo_thesis/thesis/.env/lib64/python3.9/site-packages/tqdm/auto.py:21: TqdmWarning: IProgress not found. Please update jupyter and ipywidgets. See https://ipywidgets.readthedocs.io/en/stable/user_install.html\n",
      "  from .autonotebook import tqdm as notebook_tqdm\n",
      "/mount/arbeitsdaten/tcl/Users/dangelo_thesis/thesis/.env/lib64/python3.9/site-packages/transformers/utils/generic.py:441: UserWarning: torch.utils._pytree._register_pytree_node is deprecated. Please use torch.utils._pytree.register_pytree_node instead.\n",
      "  _torch_pytree._register_pytree_node(\n",
      "/mount/arbeitsdaten/tcl/Users/dangelo_thesis/thesis/.env/lib64/python3.9/site-packages/transformers/utils/generic.py:309: UserWarning: torch.utils._pytree._register_pytree_node is deprecated. Please use torch.utils._pytree.register_pytree_node instead.\n",
      "  _torch_pytree._register_pytree_node(\n"
     ]
    },
    {
     "name": "stdout",
     "output_type": "stream",
     "text": [
      "‎𐤀 CLTK version '1.2.3'. When using the CLTK in research, please cite: https://aclanthology.org/2021.acl-demo.3/\n",
      "\n",
      "Pipeline for language 'Ancient Greek' (ISO: 'grc'): `GreekNormalizeProcess`, `GreekStanzaProcess`, `GreekEmbeddingsProcess`, `StopsProcess`.\n",
      "\n",
      "⸖ ``LatinSpacyProcess`` using Stanza model by Stanford University from https://stanfordnlp.github.io/stanza/ . Please cite: https://arxiv.org/abs/2003.07082\n",
      "⸖ ``LatinEmbeddingsProcess`` using word2vec model by University of Oslo from http://vectors.nlpl.eu/ . Please cite: https://aclanthology.org/W17-0237/\n",
      "\n",
      "⸎ To suppress these messages, instantiate ``NLP()`` with ``suppress_banner=True``.\n"
     ]
    }
   ],
   "source": [
    "import gzip\n",
    "import json\n",
    "import pandas as pd\n",
    "from my_functions_improved import *"
   ]
  },
  {
   "cell_type": "code",
   "execution_count": 2,
   "metadata": {},
   "outputs": [],
   "source": [
    "with gzip.open('noun_dict.json.gz', 'rt', encoding='utf-8') as gzip_file:\n",
    "    noun_dict = json.load(gzip_file)"
   ]
  },
  {
   "cell_type": "code",
   "execution_count": 3,
   "metadata": {},
   "outputs": [],
   "source": [
    "with gzip.open('verb_dict.json.gz', 'rt', encoding='utf-8') as gzip_file:\n",
    "    verb_dict = json.load(gzip_file)"
   ]
  },
  {
   "cell_type": "code",
   "execution_count": 4,
   "metadata": {},
   "outputs": [],
   "source": [
    "noun_df = pd.DataFrame(noun_dict)"
   ]
  },
  {
   "cell_type": "code",
   "execution_count": 5,
   "metadata": {},
   "outputs": [
    {
     "data": {
      "text/plain": [
       "0            ἅβρα\n",
       "1            ἅβρα\n",
       "2           ἅβραι\n",
       "3           ἅβραι\n",
       "4          ἅβραις\n",
       "           ...   \n",
       "210675     ζῳῶδες\n",
       "210676     ζῳῶδες\n",
       "210677    ζῳωδίας\n",
       "210678    ζῳωδίας\n",
       "210679     ζῳωδίᾳ\n",
       "Name: form, Length: 210680, dtype: object"
      ]
     },
     "execution_count": 5,
     "metadata": {},
     "output_type": "execute_result"
    }
   ],
   "source": [
    "noun_df[\"form\"]"
   ]
  },
  {
   "cell_type": "code",
   "execution_count": 6,
   "metadata": {},
   "outputs": [
    {
     "data": {
      "text/html": [
       "<div>\n",
       "<style scoped>\n",
       "    .dataframe tbody tr th:only-of-type {\n",
       "        vertical-align: middle;\n",
       "    }\n",
       "\n",
       "    .dataframe tbody tr th {\n",
       "        vertical-align: top;\n",
       "    }\n",
       "\n",
       "    .dataframe thead th {\n",
       "        text-align: right;\n",
       "    }\n",
       "</style>\n",
       "<table border=\"1\" class=\"dataframe\">\n",
       "  <thead>\n",
       "    <tr style=\"text-align: right;\">\n",
       "      <th></th>\n",
       "      <th>lemma</th>\n",
       "      <th>form</th>\n",
       "      <th>gender</th>\n",
       "      <th>case</th>\n",
       "      <th>number</th>\n",
       "      <th>dialects</th>\n",
       "    </tr>\n",
       "  </thead>\n",
       "  <tbody>\n",
       "    <tr>\n",
       "      <th>0</th>\n",
       "      <td>ἅβρα</td>\n",
       "      <td>ἅβρα</td>\n",
       "      <td>fem</td>\n",
       "      <td>nom/voc/acc</td>\n",
       "      <td>dual</td>\n",
       "      <td></td>\n",
       "    </tr>\n",
       "    <tr>\n",
       "      <th>1</th>\n",
       "      <td>ἅβρα</td>\n",
       "      <td>ἅβρα</td>\n",
       "      <td>fem</td>\n",
       "      <td>nom/voc</td>\n",
       "      <td>sg</td>\n",
       "      <td>[(attic, doric, aeolic]</td>\n",
       "    </tr>\n",
       "  </tbody>\n",
       "</table>\n",
       "</div>"
      ],
      "text/plain": [
       "  lemma  form gender         case number                 dialects\n",
       "0  ἅβρα  ἅβρα    fem  nom/voc/acc   dual                         \n",
       "1  ἅβρα  ἅβρα    fem      nom/voc     sg  [(attic, doric, aeolic]"
      ]
     },
     "execution_count": 6,
     "metadata": {},
     "output_type": "execute_result"
    }
   ],
   "source": [
    "l = noun_df.loc[noun_df[\"form\"]==\"ἅβρα\"]\n",
    "l"
   ]
  },
  {
   "cell_type": "code",
   "execution_count": 7,
   "metadata": {},
   "outputs": [],
   "source": [
    "verb_df = pd.DataFrame(verb_dict)"
   ]
  },
  {
   "cell_type": "code",
   "execution_count": 8,
   "metadata": {},
   "outputs": [
    {
     "data": {
      "text/html": [
       "<div>\n",
       "<style scoped>\n",
       "    .dataframe tbody tr th:only-of-type {\n",
       "        vertical-align: middle;\n",
       "    }\n",
       "\n",
       "    .dataframe tbody tr th {\n",
       "        vertical-align: top;\n",
       "    }\n",
       "\n",
       "    .dataframe thead th {\n",
       "        text-align: right;\n",
       "    }\n",
       "</style>\n",
       "<table border=\"1\" class=\"dataframe\">\n",
       "  <thead>\n",
       "    <tr style=\"text-align: right;\">\n",
       "      <th></th>\n",
       "      <th>lemma</th>\n",
       "      <th>form</th>\n",
       "      <th>tense</th>\n",
       "      <th>mode</th>\n",
       "      <th>act/mid/p</th>\n",
       "      <th>gender</th>\n",
       "      <th>case</th>\n",
       "      <th>person</th>\n",
       "      <th>number</th>\n",
       "      <th>dialects</th>\n",
       "    </tr>\n",
       "  </thead>\n",
       "  <tbody>\n",
       "    <tr>\n",
       "      <th>0</th>\n",
       "      <td>ἅλλομαι</td>\n",
       "      <td>ἅλεται</td>\n",
       "      <td>aor</td>\n",
       "      <td>subj</td>\n",
       "      <td>mid</td>\n",
       "      <td></td>\n",
       "      <td></td>\n",
       "      <td>3rd</td>\n",
       "      <td>sg</td>\n",
       "      <td></td>\n",
       "    </tr>\n",
       "    <tr>\n",
       "      <th>1</th>\n",
       "      <td>ἅλλομαι</td>\n",
       "      <td>ἅληται</td>\n",
       "      <td>aor</td>\n",
       "      <td>subj</td>\n",
       "      <td>mid</td>\n",
       "      <td></td>\n",
       "      <td></td>\n",
       "      <td>3rd</td>\n",
       "      <td>sg</td>\n",
       "      <td></td>\n",
       "    </tr>\n",
       "    <tr>\n",
       "      <th>2</th>\n",
       "      <td>ἅλλομαι</td>\n",
       "      <td>ἅλῃ</td>\n",
       "      <td>aor</td>\n",
       "      <td>subj</td>\n",
       "      <td>mid</td>\n",
       "      <td></td>\n",
       "      <td></td>\n",
       "      <td>2nd</td>\n",
       "      <td>sg</td>\n",
       "      <td></td>\n",
       "    </tr>\n",
       "    <tr>\n",
       "      <th>3</th>\n",
       "      <td>ἅλλομαι</td>\n",
       "      <td>ἅλλεσθαι</td>\n",
       "      <td>pres</td>\n",
       "      <td>inf</td>\n",
       "      <td>mid</td>\n",
       "      <td></td>\n",
       "      <td></td>\n",
       "      <td></td>\n",
       "      <td></td>\n",
       "      <td></td>\n",
       "    </tr>\n",
       "    <tr>\n",
       "      <th>4</th>\n",
       "      <td>ἅλλομαι</td>\n",
       "      <td>ἅλλεσθε</td>\n",
       "      <td>imperf</td>\n",
       "      <td>ind</td>\n",
       "      <td>imperf</td>\n",
       "      <td></td>\n",
       "      <td></td>\n",
       "      <td>2nd</td>\n",
       "      <td>pl</td>\n",
       "      <td>[(doric, aeolic]</td>\n",
       "    </tr>\n",
       "    <tr>\n",
       "      <th>...</th>\n",
       "      <td>...</td>\n",
       "      <td>...</td>\n",
       "      <td>...</td>\n",
       "      <td>...</td>\n",
       "      <td>...</td>\n",
       "      <td>...</td>\n",
       "      <td>...</td>\n",
       "      <td>...</td>\n",
       "      <td>...</td>\n",
       "      <td>...</td>\n",
       "    </tr>\n",
       "    <tr>\n",
       "      <th>859327</th>\n",
       "      <td>ζῳοτροφέω</td>\n",
       "      <td>ζῳοτροφεῖν</td>\n",
       "      <td>pres</td>\n",
       "      <td>inf</td>\n",
       "      <td>act</td>\n",
       "      <td></td>\n",
       "      <td></td>\n",
       "      <td></td>\n",
       "      <td></td>\n",
       "      <td>[doric]</td>\n",
       "    </tr>\n",
       "    <tr>\n",
       "      <th>859328</th>\n",
       "      <td>ζῳοτροφέω</td>\n",
       "      <td>ζῳοτροφούντων</td>\n",
       "      <td>pres</td>\n",
       "      <td>part</td>\n",
       "      <td>act</td>\n",
       "      <td>masc/neut</td>\n",
       "      <td>gen</td>\n",
       "      <td></td>\n",
       "      <td>pl</td>\n",
       "      <td>[doric]</td>\n",
       "    </tr>\n",
       "    <tr>\n",
       "      <th>859329</th>\n",
       "      <td>ζῳοτροφέω</td>\n",
       "      <td>ζῳοτροφούντων</td>\n",
       "      <td>pres</td>\n",
       "      <td>imperat</td>\n",
       "      <td>imperat</td>\n",
       "      <td></td>\n",
       "      <td></td>\n",
       "      <td>3rd</td>\n",
       "      <td>pl</td>\n",
       "      <td>[doric]</td>\n",
       "    </tr>\n",
       "    <tr>\n",
       "      <th>859330</th>\n",
       "      <td>ζῳοτροφέω</td>\n",
       "      <td>ζῳοτροφοῦσιν</td>\n",
       "      <td>pres</td>\n",
       "      <td>part</td>\n",
       "      <td>act</td>\n",
       "      <td>masc/neut</td>\n",
       "      <td>dat</td>\n",
       "      <td></td>\n",
       "      <td>pl</td>\n",
       "      <td>[doric]</td>\n",
       "    </tr>\n",
       "    <tr>\n",
       "      <th>859331</th>\n",
       "      <td>ζῳοτροφέω</td>\n",
       "      <td>ζῳοτροφοῦσιν</td>\n",
       "      <td>pres</td>\n",
       "      <td>ind</td>\n",
       "      <td>act</td>\n",
       "      <td></td>\n",
       "      <td></td>\n",
       "      <td>3rd</td>\n",
       "      <td>pl</td>\n",
       "      <td>[doric]</td>\n",
       "    </tr>\n",
       "  </tbody>\n",
       "</table>\n",
       "<p>859332 rows × 10 columns</p>\n",
       "</div>"
      ],
      "text/plain": [
       "            lemma           form   tense     mode act/mid/p     gender case  \\\n",
       "0         ἅλλομαι         ἅλεται     aor     subj       mid                   \n",
       "1         ἅλλομαι         ἅληται     aor     subj       mid                   \n",
       "2         ἅλλομαι            ἅλῃ     aor     subj       mid                   \n",
       "3         ἅλλομαι       ἅλλεσθαι    pres      inf       mid                   \n",
       "4         ἅλλομαι        ἅλλεσθε  imperf      ind    imperf                   \n",
       "...           ...            ...     ...      ...       ...        ...  ...   \n",
       "859327  ζῳοτροφέω     ζῳοτροφεῖν    pres      inf       act                   \n",
       "859328  ζῳοτροφέω  ζῳοτροφούντων    pres     part       act  masc/neut  gen   \n",
       "859329  ζῳοτροφέω  ζῳοτροφούντων    pres  imperat   imperat                   \n",
       "859330  ζῳοτροφέω   ζῳοτροφοῦσιν    pres     part       act  masc/neut  dat   \n",
       "859331  ζῳοτροφέω   ζῳοτροφοῦσιν    pres      ind       act                   \n",
       "\n",
       "       person number          dialects  \n",
       "0         3rd     sg                    \n",
       "1         3rd     sg                    \n",
       "2         2nd     sg                    \n",
       "3                                       \n",
       "4         2nd     pl  [(doric, aeolic]  \n",
       "...       ...    ...               ...  \n",
       "859327                         [doric]  \n",
       "859328            pl           [doric]  \n",
       "859329    3rd     pl           [doric]  \n",
       "859330            pl           [doric]  \n",
       "859331    3rd     pl           [doric]  \n",
       "\n",
       "[859332 rows x 10 columns]"
      ]
     },
     "execution_count": 8,
     "metadata": {},
     "output_type": "execute_result"
    }
   ],
   "source": [
    "verb_df"
   ]
  },
  {
   "cell_type": "code",
   "execution_count": 9,
   "metadata": {},
   "outputs": [],
   "source": [
    "strings = [\"ἂν δὲ καὶ αὐτοὶ βάντες ἐπὶ κληῖσι καθῖζον\", \"ἑξῆς δ᾽ ἑζόμενοι πολιὴν ἅλα τύπτον ἐρετμοῖς\", \"ἔνθεν δὲ προτέρω πλέομεν ἀκαχήμενοι ἦτορ\", \"ἄσμενοι ἐκ θανάτοιο, φίλους ὀλέσαντες ἑταίρους\", \"νῆα μὲν οἵ γε μέλαιναν ἁλὸς βένθοσδε ἔρυσσαν\", \"τοὶ δὲ πρυμνήσι᾽ ἔλυσαν\"]"
   ]
  },
  {
   "cell_type": "code",
   "execution_count": 10,
   "metadata": {},
   "outputs": [],
   "source": [
    "def get_noun_analysis(noun, df):\n",
    "    noun_analysis = []\n",
    "    word_df = df.loc[df[\"form\"]==noun]\n",
    "    for id, row in word_df.iterrows():\n",
    "        noun_analysis.append([row[\"gender\"], row[\"case\"], row[\"number\"], row [\"dialects\"]])\n",
    "    return noun_analysis"
   ]
  },
  {
   "cell_type": "code",
   "execution_count": 11,
   "metadata": {},
   "outputs": [],
   "source": [
    "def get_verb_analysis(verb, df):\n",
    "    verb_analysis = []\n",
    "    word_df = df.loc[df[\"form\"]==verb]\n",
    "    for id, row in word_df.iterrows():\n",
    "        verb_analysis.append([row[\"tense\"], row[\"mode\"], row[\"act/mid/p\"], row [\"gender\"], row[\"case\"], row[\"person\"], row[\"number\"], row[\"dialects\"]])\n",
    "    return verb_analysis"
   ]
  },
  {
   "cell_type": "code",
   "execution_count": 14,
   "metadata": {},
   "outputs": [],
   "source": [
    "import pickle"
   ]
  },
  {
   "cell_type": "code",
   "execution_count": 16,
   "metadata": {},
   "outputs": [],
   "source": [
    "with open(\"sents_sim_dict.pickle\", \"rb\") as file:\n",
    "    sents_sim = pickle.load(file)"
   ]
  },
  {
   "cell_type": "code",
   "execution_count": 33,
   "metadata": {},
   "outputs": [],
   "source": [
    "def get_lemma_syn(word, sim_dic):\n",
    "    lemma_w = lemmatize_cltk(word)[0]\n",
    "    \n",
    "    for sentence in sim_dic:\n",
    "        for lemma in sim_dic[sentence]:\n",
    "            if lemma == lemma_w:\n",
    "                print(\"lol\")\n",
    "                sorted_values = sorted(sim_dic[sentence][lemma], key=lambda x: x[1], reverse=True)\n",
    "                syn, value = sorted_values[1]\n",
    "                return syn"
   ]
  },
  {
   "cell_type": "code",
   "execution_count": null,
   "metadata": {},
   "outputs": [],
   "source": []
  },
  {
   "cell_type": "code",
   "execution_count": 34,
   "metadata": {},
   "outputs": [
    {
     "name": "stdout",
     "output_type": "stream",
     "text": [
      "lol\n"
     ]
    },
    {
     "data": {
      "text/plain": [
       "'διαβαίνω'"
      ]
     },
     "execution_count": 34,
     "metadata": {},
     "output_type": "execute_result"
    }
   ],
   "source": [
    "s = get_lemma_syn(\"βάντες\", sents_sim)\n",
    "s"
   ]
  },
  {
   "cell_type": "code",
   "execution_count": 13,
   "metadata": {},
   "outputs": [
    {
     "ename": "NameError",
     "evalue": "name 'get_lemma_syn' is not defined",
     "output_type": "error",
     "traceback": [
      "\u001b[0;31m---------------------------------------------------------------------------\u001b[0m",
      "\u001b[0;31mNameError\u001b[0m                                 Traceback (most recent call last)",
      "Cell \u001b[0;32mIn[13], line 13\u001b[0m\n\u001b[1;32m     11\u001b[0m \u001b[38;5;28;01mif\u001b[39;00m word_analysis \u001b[38;5;241m!=\u001b[39m []:\n\u001b[1;32m     12\u001b[0m     \u001b[38;5;28;01mfor\u001b[39;00m analysis \u001b[38;5;129;01min\u001b[39;00m word_analysis:\n\u001b[0;32m---> 13\u001b[0m         lemma_synonym \u001b[38;5;241m=\u001b[39m \u001b[43mget_lemma_syn\u001b[49m(word)\n\u001b[1;32m     14\u001b[0m         inflected_syn \u001b[38;5;241m=\u001b[39m get_infl_syn(lemma_synonym)\n\u001b[1;32m     15\u001b[0m         sent_split[\u001b[38;5;28mid\u001b[39m] \u001b[38;5;241m=\u001b[39m inflected_syn\n",
      "\u001b[0;31mNameError\u001b[0m: name 'get_lemma_syn' is not defined"
     ]
    }
   ],
   "source": [
    "s = \"ἂν δὲ καὶ αὐτοὶ βάντες ἐπὶ κληῖσι καθῖζον\"\n",
    "sent_analysis = {}\n",
    "sent_split = s.split(\" \")\n",
    "for id, word in enumerate(sent_split):\n",
    "    word_analysis = []\n",
    "    pos = pos_tag_grecy(word)[0]\n",
    "    if pos == \"a\" or pos == \"n\":\n",
    "        word_analysis = get_noun_analysis(word, noun_df)\n",
    "    if pos == \"v\":\n",
    "        word_analysis = get_verb_analysis(word, verb_df)\n",
    "    if word_analysis != []:\n",
    "        for analysis in word_analysis:\n",
    "            lemma_synonym = get_lemma_syn(word)\n",
    "            inflected_syn = get_infl_syn(lemma_synonym)\n",
    "            sent_split[id] = inflected_syn\n",
    "\n",
    "\n",
    "sent_analysis\n",
    "            "
   ]
  },
  {
   "cell_type": "code",
   "execution_count": null,
   "metadata": {},
   "outputs": [],
   "source": []
  }
 ],
 "metadata": {
  "kernelspec": {
   "display_name": ".env",
   "language": "python",
   "name": "python3"
  },
  "language_info": {
   "codemirror_mode": {
    "name": "ipython",
    "version": 3
   },
   "file_extension": ".py",
   "mimetype": "text/x-python",
   "name": "python",
   "nbconvert_exporter": "python",
   "pygments_lexer": "ipython3",
   "version": "3.9.19"
  }
 },
 "nbformat": 4,
 "nbformat_minor": 2
}
