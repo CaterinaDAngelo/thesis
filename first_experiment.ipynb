{
 "cells": [
  {
   "cell_type": "code",
   "execution_count": 1,
   "metadata": {},
   "outputs": [
    {
     "name": "stderr",
     "output_type": "stream",
     "text": [
      "/mount/arbeitsdaten/tcl/Users/dangelo_thesis/thesis/.env/lib64/python3.9/site-packages/networkx/utils/backends.py:135: RuntimeWarning: networkx backend defined more than once: nx-loopback\n",
      "  backends.update(_get_backends(\"networkx.backends\"))\n",
      "/mount/arbeitsdaten/tcl/Users/dangelo_thesis/thesis/.env/lib64/python3.9/site-packages/tqdm/auto.py:21: TqdmWarning: IProgress not found. Please update jupyter and ipywidgets. See https://ipywidgets.readthedocs.io/en/stable/user_install.html\n",
      "  from .autonotebook import tqdm as notebook_tqdm\n",
      "/mount/arbeitsdaten/tcl/Users/dangelo_thesis/thesis/.env/lib64/python3.9/site-packages/transformers/utils/generic.py:441: UserWarning: torch.utils._pytree._register_pytree_node is deprecated. Please use torch.utils._pytree.register_pytree_node instead.\n",
      "  _torch_pytree._register_pytree_node(\n",
      "/mount/arbeitsdaten/tcl/Users/dangelo_thesis/thesis/.env/lib64/python3.9/site-packages/transformers/utils/generic.py:309: UserWarning: torch.utils._pytree._register_pytree_node is deprecated. Please use torch.utils._pytree.register_pytree_node instead.\n",
      "  _torch_pytree._register_pytree_node(\n"
     ]
    },
    {
     "name": "stdout",
     "output_type": "stream",
     "text": [
      "‎𐤀 CLTK version '1.3.0'. When using the CLTK in research, please cite: https://aclanthology.org/2021.acl-demo.3/\n",
      "\n",
      "Pipeline for language 'Ancient Greek' (ISO: 'grc'): `GreekNormalizeProcess`, `GreekSpacyProcess`, `GreekEmbeddingsProcess`, `StopsProcess`.\n",
      "\n",
      "⸖ ``GreekSpacyProcess`` using OdyCy model by Center for Humanities Computing Aarhus from https://huggingface.co/chcaa . Please cite: https://aclanthology.org/2023.latechclfl-1.14\n",
      "⸖ ``LatinEmbeddingsProcess`` using word2vec model by University of Oslo from http://vectors.nlpl.eu/ . Please cite: https://aclanthology.org/W17-0237/\n",
      "\n",
      "⸎ To suppress these messages, instantiate ``NLP()`` with ``suppress_banner=True``.\n"
     ]
    }
   ],
   "source": [
    "from my_functions_improved import *\n",
    "# from functions_roberta import *"
   ]
  },
  {
   "cell_type": "code",
   "execution_count": 2,
   "metadata": {},
   "outputs": [],
   "source": [
    "model_base = \"cabrooks/LOGION-base\"\n",
    "model_50k = \"cabrooks/LOGION-50k_wordpiece\""
   ]
  },
  {
   "cell_type": "code",
   "execution_count": 3,
   "metadata": {},
   "outputs": [],
   "source": [
    "from transformers import BertTokenizer, BertForMaskedLM\n",
    "tokenizer = BertTokenizer.from_pretrained(model_base)\n",
    "model = BertForMaskedLM.from_pretrained(model_base, output_hidden_states=True)"
   ]
  },
  {
   "cell_type": "code",
   "execution_count": 4,
   "metadata": {},
   "outputs": [],
   "source": [
    "from transformers import BertTokenizer, BertForMaskedLM\n",
    "tokenizer_50k = BertTokenizer.from_pretrained(model_50k)\n",
    "model_50k = BertForMaskedLM.from_pretrained(model_50k, output_hidden_states=True)"
   ]
  },
  {
   "cell_type": "code",
   "execution_count": 7,
   "metadata": {},
   "outputs": [],
   "source": [
    "original = [ \n",
    "    \"ἑξῆς δ᾽ ἑζόμενοι πολιὴν ἅλα τύπτον ἐρετμοῖς\",\n",
    "    \"ἂν δὲ καὶ αὐτοὶ βάντες ἐπὶ κληῖσι καθῖζον\",\n",
    "    \"νῆα μὲν οἵ γε μέλαιναν ἁλὸς βένθοσδε ἔρυσσαν\",\n",
    "    \"τοὶ δὲ πρυμνησια ἔλυσαν\"\n",
    "\n",
    "]\n",
    "paraphrased = [\n",
    "    \"ἑξῆς δὲ καθεζομενοι πολιὴν ἅλα τύπτον ἐρετμοῖς\",\n",
    "    \"οἱ δ᾽ αἶψ᾽ εἴσβαινον καὶ ἐπὶ κληῖσι καθῖζον\",\n",
    "    \"νῆα μὲν οὖν πάμπρωτον ἁλὸς βένθοσδε ἔρυσσαν\",\n",
    "    \"τε πρυμνήσια λῦσαι\"\n",
    "]\n",
    "confound = [\n",
    "   \"ἑξῆς δ᾽ ἑζόμενοι πολιὴν ἅλα καθῖζον ἐρετμοῖς\",\n",
    "    \"ἂν δὲ καὶ αὐτοὶ βάντες ἐπὶ κληῖσι τύπτον\",\n",
    "    \"νῆα μὲν οἵ γε μέλαιναν ἁλὸς βένθοσδε ελυσαν\",\n",
    "    \"τοι δε πρυμνησια ἔρυσσαν\"\n",
    "]\n"
   ]
  },
  {
   "cell_type": "code",
   "execution_count": 5,
   "metadata": {},
   "outputs": [],
   "source": [
    "original = remove_diacritics(original)\n",
    "paraphrased = remove_diacritics(paraphrased)\n",
    "confound = remove_diacritics(confound)"
   ]
  },
  {
   "cell_type": "markdown",
   "metadata": {},
   "source": [
    "BASE"
   ]
  },
  {
   "cell_type": "code",
   "execution_count": 8,
   "metadata": {},
   "outputs": [],
   "source": [
    "original_emb_dict = mean_cls_embeddings(original, model = model, tokenizer = tokenizer)\n",
    "paraphrased_emb_dict = mean_cls_embeddings(paraphrased, model = model, tokenizer = tokenizer)\n",
    "confound_emb_dict = mean_cls_embeddings(confound, model = model, tokenizer = tokenizer)"
   ]
  },
  {
   "cell_type": "code",
   "execution_count": 9,
   "metadata": {},
   "outputs": [
    {
     "name": "stdout",
     "output_type": "stream",
     "text": [
      "T-statistic between original-paraphrased and original-original: [4.452574], P-value: [0.00431722]\n",
      "T-statistic between original-confound and original_original: [3.1822484], P-value: [0.01902173]\n",
      "T-statistic between original-paraphrased and original-confound: [-0.07555748], P-value: [0.9422275]\n"
     ]
    },
    {
     "data": {
      "text/plain": [
       "{'originalvsparaphrased': {'average': 0.8219143, 'variance': 0.013188649},\n",
       " 'originalvsconfound': {'average': 0.8307904, 'variance': 0.028212208},\n",
       " 'originalvsoriginal': {'average': 0.51782817, 'variance': 0.000803753}}"
      ]
     },
     "execution_count": 9,
     "metadata": {},
     "output_type": "execute_result"
    }
   ],
   "source": [
    "report_similarity(original_emb_dict, paraphrased_emb_dict, confound_emb_dict, method = \"cls\")"
   ]
  },
  {
   "cell_type": "code",
   "execution_count": 10,
   "metadata": {},
   "outputs": [
    {
     "name": "stdout",
     "output_type": "stream",
     "text": [
      "T-statistic between original-paraphrased and original-original: [3.6643486], P-value: [0.0105248]\n",
      "T-statistic between original-confound and original_original: [2.8766272], P-value: [0.02818173]\n",
      "T-statistic between original-paraphrased and original-confound: [-0.22001125], P-value: [0.833157]\n"
     ]
    },
    {
     "data": {
      "text/plain": [
       "{'originalvsparaphrased': {'average': 0.87635005, 'variance': 0.0068261353},\n",
       " 'originalvsconfound': {'average': 0.894593, 'variance': 0.0138001945},\n",
       " 'originalvsoriginal': {'average': 0.6969019, 'variance': 0.0003684468}}"
      ]
     },
     "execution_count": 10,
     "metadata": {},
     "output_type": "execute_result"
    }
   ],
   "source": [
    "report_similarity(original_emb_dict, paraphrased_emb_dict, confound_emb_dict, method = \"mean\")"
   ]
  },
  {
   "cell_type": "markdown",
   "metadata": {},
   "source": [
    "50K"
   ]
  },
  {
   "cell_type": "code",
   "execution_count": 11,
   "metadata": {},
   "outputs": [
    {
     "name": "stderr",
     "output_type": "stream",
     "text": [
      "Asking to truncate to max_length but no maximum length is provided and the model has no predefined maximum length. Default to no truncation.\n"
     ]
    }
   ],
   "source": [
    "original_emb_dict = mean_cls_embeddings(original, model_50k, tokenizer_50k)\n",
    "paraphrased_emb_dict = mean_cls_embeddings(paraphrased, model_50k, tokenizer_50k)\n",
    "confound_emb_dict = mean_cls_embeddings(confound, model_50k, tokenizer_50k)"
   ]
  },
  {
   "cell_type": "code",
   "execution_count": 12,
   "metadata": {},
   "outputs": [
    {
     "name": "stdout",
     "output_type": "stream",
     "text": [
      "T-statistic between original-paraphrased and original-original: [3.6031263], P-value: [0.01132393]\n",
      "T-statistic between original-confound and original_original: [6.2478294], P-value: [0.00077917]\n",
      "T-statistic between original-paraphrased and original-confound: [-1.4733229], P-value: [0.19109437]\n"
     ]
    },
    {
     "data": {
      "text/plain": [
       "{'originalvsparaphrased': {'average': 0.89549726, 'variance': 0.002392032},\n",
       " 'originalvsconfound': {'average': 0.9427889, 'variance': 0.00069893344},\n",
       " 'originalvsoriginal': {'average': 0.75946856, 'variance': 0.0018838275}}"
      ]
     },
     "execution_count": 12,
     "metadata": {},
     "output_type": "execute_result"
    }
   ],
   "source": [
    "report_similarity(original_emb_dict, paraphrased_emb_dict, confound_emb_dict, method = \"cls\")"
   ]
  },
  {
   "cell_type": "code",
   "execution_count": 13,
   "metadata": {},
   "outputs": [
    {
     "name": "stdout",
     "output_type": "stream",
     "text": [
      "T-statistic between original-paraphrased and original-original: [3.6252406], P-value: [0.01102777]\n",
      "T-statistic between original-confound and original_original: [10.2460985], P-value: [5.0413542e-05]\n",
      "T-statistic between original-paraphrased and original-confound: [-2.0859687], P-value: [0.08205451]\n"
     ]
    },
    {
     "data": {
      "text/plain": [
       "{'originalvsparaphrased': {'average': 0.8558754, 'variance': 0.004650526},\n",
       " 'originalvsconfound': {'average': 0.9408885, 'variance': 0.00033232424},\n",
       " 'originalvsoriginal': {'average': 0.69269204, 'variance': 0.0014280115}}"
      ]
     },
     "execution_count": 13,
     "metadata": {},
     "output_type": "execute_result"
    }
   ],
   "source": [
    "report_similarity(original_emb_dict, paraphrased_emb_dict, confound_emb_dict, method = \"mean\")"
   ]
  }
 ],
 "metadata": {
  "kernelspec": {
   "display_name": "Python 3",
   "language": "python",
   "name": "python3"
  },
  "language_info": {
   "codemirror_mode": {
    "name": "ipython",
    "version": 3
   },
   "file_extension": ".py",
   "mimetype": "text/x-python",
   "name": "python",
   "nbconvert_exporter": "python",
   "pygments_lexer": "ipython3",
   "version": "3.9.19"
  }
 },
 "nbformat": 4,
 "nbformat_minor": 2
}
