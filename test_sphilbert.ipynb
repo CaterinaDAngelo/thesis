{
 "cells": [
  {
   "cell_type": "code",
   "execution_count": 8,
   "metadata": {},
   "outputs": [
    {
     "name": "stderr",
     "output_type": "stream",
     "text": [
      "/mount/arbeitsdaten/tcl/Users/dangelo_thesis/thesis/.env/lib64/python3.9/site-packages/networkx/utils/backends.py:135: RuntimeWarning: networkx backend defined more than once: nx-loopback\n",
      "  backends.update(_get_backends(\"networkx.backends\"))\n",
      "huggingface/tokenizers: The current process just got forked, after parallelism has already been used. Disabling parallelism to avoid deadlocks...\n",
      "To disable this warning, you can either:\n",
      "\t- Avoid using `tokenizers` before the fork if possible\n",
      "\t- Explicitly set the environment variable TOKENIZERS_PARALLELISM=(true | false)\n",
      "huggingface/tokenizers: The current process just got forked, after parallelism has already been used. Disabling parallelism to avoid deadlocks...\n",
      "To disable this warning, you can either:\n",
      "\t- Avoid using `tokenizers` before the fork if possible\n",
      "\t- Explicitly set the environment variable TOKENIZERS_PARALLELISM=(true | false)\n",
      "/mount/arbeitsdaten/tcl/Users/dangelo_thesis/thesis/.env/lib64/python3.9/site-packages/transformers/utils/generic.py:309: UserWarning: torch.utils._pytree._register_pytree_node is deprecated. Please use torch.utils._pytree.register_pytree_node instead.\n",
      "  _torch_pytree._register_pytree_node(\n"
     ]
    },
    {
     "name": "stdout",
     "output_type": "stream",
     "text": [
      "‎𐤀 CLTK version '1.3.0'. When using the CLTK in research, please cite: https://aclanthology.org/2021.acl-demo.3/\n",
      "\n",
      "Pipeline for language 'Ancient Greek' (ISO: 'grc'): `GreekNormalizeProcess`, `GreekSpacyProcess`, `GreekEmbeddingsProcess`, `StopsProcess`.\n",
      "\n",
      "⸖ ``GreekSpacyProcess`` using OdyCy model by Center for Humanities Computing Aarhus from https://huggingface.co/chcaa . Please cite: https://aclanthology.org/2023.latechclfl-1.14\n",
      "⸖ ``LatinEmbeddingsProcess`` using word2vec model by University of Oslo from http://vectors.nlpl.eu/ . Please cite: https://aclanthology.org/W17-0237/\n",
      "\n",
      "⸎ To suppress these messages, instantiate ``NLP()`` with ``suppress_banner=True``.\n"
     ]
    }
   ],
   "source": [
    "from my_functions_improved import *"
   ]
  },
  {
   "cell_type": "code",
   "execution_count": 3,
   "metadata": {},
   "outputs": [],
   "source": [
    "original = [ \n",
    "    \"ἑξῆς δ᾽ ἑζόμενοι πολιὴν ἅλα τύπτον ἐρετμοῖς\",\n",
    "    \"ἂν δὲ καὶ αὐτοὶ βάντες ἐπὶ κληῖσι καθῖζον\",\n",
    "    \"νῆα μὲν οἵ γε μέλαιναν ἁλὸς βένθοσδε ἔρυσσαν\",\n",
    "    \"τοὶ δὲ πρυμνησια ἔλυσαν\"\n",
    "\n",
    "]\n",
    "paraphrased = [\n",
    "    \"ἑξῆς δὲ καθεζομενοι πολιὴν ἅλα τύπτον ἐρετμοῖς\",\n",
    "    \"οἱ δ᾽ αἶψ᾽ εἴσβαινον καὶ ἐπὶ κληῖσι καθῖζον\",\n",
    "    \"νῆα μὲν οὖν πάμπρωτον ἁλὸς βένθοσδε ἔρυσσαν\",\n",
    "    \"τε πρυμνήσια λῦσαι\"\n",
    "]\n",
    "confound = [\n",
    "   \"ἑξῆς δ᾽ ἑζόμενοι πολιὴν ἅλα καθῖζον ἐρετμοῖς\",\n",
    "    \"ἂν δὲ καὶ αὐτοὶ βάντες ἐπὶ κληῖσι τύπτον\",\n",
    "    \"νῆα μὲν οἵ γε μέλαιναν ἁλὸς βένθοσδε ελυσαν\",\n",
    "    \"τοι δε πρυμνησια ἔρυσσαν\"\n",
    "]\n"
   ]
  },
  {
   "cell_type": "code",
   "execution_count": 4,
   "metadata": {},
   "outputs": [
    {
     "name": "stderr",
     "output_type": "stream",
     "text": [
      "/mount/arbeitsdaten/tcl/Users/dangelo_thesis/thesis/.env/lib64/python3.9/site-packages/transformers/utils/generic.py:309: UserWarning: torch.utils._pytree._register_pytree_node is deprecated. Please use torch.utils._pytree.register_pytree_node instead.\n",
      "  _torch_pytree._register_pytree_node(\n"
     ]
    }
   ],
   "source": [
    "from sentence_transformers import SentenceTransformer\n",
    "model = SentenceTransformer('bowphs/SPhilBerta')"
   ]
  },
  {
   "cell_type": "code",
   "execution_count": 5,
   "metadata": {},
   "outputs": [],
   "source": [
    "original_sent_emb = model.encode(original)\n",
    "paraph_sent_emb = model.encode(paraphrased)\n",
    "conf_sent_emb = model.encode(confound)"
   ]
  },
  {
   "cell_type": "code",
   "execution_count": 9,
   "metadata": {},
   "outputs": [
    {
     "name": "stdout",
     "output_type": "stream",
     "text": [
      "T-statistic between original-paraphrased and original-original: [[1.959314]], P-value: [[0.0977881]]\n",
      "T-statistic between original-confound and original_original: [[-0.9687051]], P-value: [[0.37010327]]\n",
      "T-statistic between original-paraphrased and original-confound: [[2.4775937]], P-value: [[0.04796147]]\n"
     ]
    },
    {
     "data": {
      "text/plain": [
       "{'originalvsparaphrased': {'average': 0.8609264, 'variance': 0.012365864},\n",
       " 'originalvsconfound': {'average': 0.62374157, 'variance': 0.01512794},\n",
       " 'originalvsoriginal': {'average': 0.7058528, 'variance': 0.0064268215}}"
      ]
     },
     "execution_count": 9,
     "metadata": {},
     "output_type": "execute_result"
    }
   ],
   "source": [
    "report_similarity_sent(original_sent_emb, paraph_sent_emb, conf_sent_emb)"
   ]
  },
  {
   "cell_type": "markdown",
   "metadata": {},
   "source": [
    "COSINE SIMILARITY AND T-TEST WITH NEW CONFOUNDERS"
   ]
  },
  {
   "cell_type": "code",
   "execution_count": 12,
   "metadata": {},
   "outputs": [],
   "source": [
    "original = [\n",
    "    \"ἂν δὲ καὶ αὐτοὶ βάντες ἐπὶ κληῖσι καθῖζον\", \n",
    "    \"ἑξῆς δ᾽ ἑζόμενοι πολιὴν ἅλα τύπτον ἐρετμοῖς\", \n",
    "    \"νῆα μὲν οἵ γε μέλαιναν ἁλὸς βένθοσδε ἔρυσσαν\", \n",
    "    \"τοὶ δὲ πρυμνήσι᾽ ἔλυσαν\"\n",
    "]\n",
    "paraphrased = [\n",
    "    \"οἱ δ᾽ αἶψ᾽ εἴσβαινον καὶ ἐπὶ κληῖσι καθῖζον\",\n",
    "    \"ἑξῆς δὲ καθεζομενοι πολιὴν ἅλα τύπτον ἐρετμοῖς\",\n",
    "    \"νῆα μὲν οὖν πάμπρωτον ἁλὸς βένθοσδε ἔρυσσαν\",\n",
    "    \"τε πρυμνήσια λῦσαι\"\n",
    "]\n",
    "confound = [\n",
    "    \"ἑξῆς δ᾽ ἑζόμενοι πολιὴν ἅλα τύπτον ἐρετμοῖς\",\n",
    "    \"ἂν δὲ καὶ αὐτοὶ βάντες ἐπὶ κληῖσι καθῖζον\",\n",
    "    \"τὼ δʼ ἀέκοντε βάτην παρὰ θῖνʼ ἁλὸς ἀτρυγέτοιο , Μυρμιδόνων δʼ ἐπί τε κλισίας καὶ νῆας ἱκέσθην , τὸν δʼ εὗρον παρά τε κλισίῃ καὶ νηῒ μελαίνῃ ἥμενον\",\n",
    "    \"τοῖσι δʼ ἀνέστη Κάλχας Θεστορίδης οἰωνοπόλων ὄχʼ ἄριστος , ὃς ᾔδη τά τʼ ἐόντα τά τʼ ἐσσόμενα πρό τʼ ἐόντα , καὶ νήεσσʼ ἡγήσατʼ Ἀχαιῶν Ἴλιον εἴσω ἣν διὰ μαντοσύνην , τήν οἱ πόρε Φοῖβος Ἀπόλλων\"  \n",
    "]"
   ]
  },
  {
   "cell_type": "code",
   "execution_count": 13,
   "metadata": {},
   "outputs": [],
   "source": [
    "original_sent_emb = model.encode(original)\n",
    "paraph_sent_emb = model.encode(paraphrased)\n",
    "conf_sent_emb = model.encode(confound)"
   ]
  },
  {
   "cell_type": "code",
   "execution_count": 14,
   "metadata": {},
   "outputs": [
    {
     "name": "stdout",
     "output_type": "stream",
     "text": [
      "T-statistic between original-paraphrased and original-original: [[1.959314]], P-value: [[0.0977881]]\n",
      "T-statistic between original-confound and original_original: [[-0.9687051]], P-value: [[0.37010327]]\n",
      "T-statistic between original-paraphrased and original-confound: [[2.4775937]], P-value: [[0.04796147]]\n"
     ]
    },
    {
     "data": {
      "text/plain": [
       "{'originalvsparaphrased': {'average': 0.8609264, 'variance': 0.012365864},\n",
       " 'originalvsconfound': {'average': 0.62374157, 'variance': 0.01512794},\n",
       " 'originalvsoriginal': {'average': 0.7058528, 'variance': 0.0064268215}}"
      ]
     },
     "execution_count": 14,
     "metadata": {},
     "output_type": "execute_result"
    }
   ],
   "source": [
    "report_similarity_sent(original_sent_emb, paraph_sent_emb, conf_sent_emb)"
   ]
  },
  {
   "cell_type": "code",
   "execution_count": null,
   "metadata": {},
   "outputs": [],
   "source": []
  }
 ],
 "metadata": {
  "kernelspec": {
   "display_name": ".env",
   "language": "python",
   "name": "python3"
  },
  "language_info": {
   "codemirror_mode": {
    "name": "ipython",
    "version": 3
   },
   "file_extension": ".py",
   "mimetype": "text/x-python",
   "name": "python",
   "nbconvert_exporter": "python",
   "pygments_lexer": "ipython3",
   "version": "3.9.19"
  }
 },
 "nbformat": 4,
 "nbformat_minor": 2
}
